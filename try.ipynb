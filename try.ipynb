{
 "cells": [
  {
   "cell_type": "code",
   "execution_count": 2,
   "metadata": {},
   "outputs": [
    {
     "ename": "",
     "evalue": "",
     "output_type": "error",
     "traceback": [
      "\u001b[1;31mThe Kernel crashed while executing code in the the current cell or a previous cell. Please review the code in the cell(s) to identify a possible cause of the failure. Click <a href='https://aka.ms/vscodeJupyterKernelCrash'>here</a> for more info. View Jupyter <a href='command:jupyter.viewOutput'>log</a> for further details."
     ]
    },
    {
     "ename": "",
     "evalue": "",
     "output_type": "error",
     "traceback": [
      "\u001b[1;31mCanceled future for execute_request message before replies were done"
     ]
    }
   ],
   "source": [
    "import numpy as np\n",
    "import tensorflow as tf\n",
    "# import tensorflow_federated as tff\n",
    "# from tensorflow.keras import layers, models\n",
    "\n"
   ]
  },
  {
   "cell_type": "code",
   "execution_count": null,
   "metadata": {},
   "outputs": [],
   "source": [
    "import numpy as np\n",
    "import tensorflow as tf\n",
    "import tensorflow_federated as tff\n",
    "from tensorflow.keras import layers, models\n",
    "\n",
    "# Load the CIFAR-10 dataset\n",
    "(x_train, y_train), (x_test, y_test) = tf.keras.datasets.cifar10.load_data()\n",
    "\n",
    "# Preprocess the data\n",
    "def preprocess(x, y):\n",
    "    x = tf.cast(x, tf.float32) / 255.0\n",
    "    y = tf.cast(y, tf.int64)\n",
    "    return x, y\n",
    "\n",
    "x_train, y_train = preprocess(x_train, y_train)\n",
    "x_test, y_test = preprocess(x_test, y_test)\n",
    "\n",
    "# Create the Keras model\n",
    "def create_cifar10_model():\n",
    "    model = models.Sequential()\n",
    "    model.add(layers.Conv2D(32, (3, 3), activation='relu', input_shape=(32, 32, 3)))\n",
    "    model.add(layers.MaxPooling2D((2, 2)))\n",
    "    model.add(layers.Conv2D(64, (3, 3), activation='relu'))\n",
    "    model.add(layers.MaxPooling2D((2, 2)))\n",
    "    model.add(layers.Conv2D(64, (3, 3), activation='relu'))\n",
    "    model.add(layers.Flatten())\n",
    "    model.add(layers.Dense(64, activation='relu'))\n",
    "    model.add(layers.Dense(10))\n",
    "    return model\n",
    "\n",
    "# Create a TFF version of the Keras model \n",
    "def model_fn():\n",
    "    keras_model = create_cifar10_model() #(HERE U CHANGE THE MODEL)\n",
    "    return tff.learning.from_keras_model(\n",
    "        keras_model,\n",
    "        input_spec=(\n",
    "            tf.TensorSpec(shape=(None, 32, 32, 3), dtype=tf.float32),\n",
    "            tf.TensorSpec(shape=(None, 1), dtype=tf.int64),\n",
    "        ),\n",
    "        loss=tf.keras.losses.SparseCategoricalCrossentropy(from_logits=True),\n",
    "        metrics=[tf.keras.metrics.SparseCategoricalAccuracy()],\n",
    "    )\n",
    "\n",
    "# Simulate federated data by splitting the dataset into multiple clients\n",
    "def split_data_for_clients(data, client_count):\n",
    "    client_data = []\n",
    "    data_len = len(data[0])\n",
    "    batch_size = data_len // client_count\n",
    "\n",
    "    for i in range(client_count):\n",
    "        start = i * batch_size\n",
    "        end = (i + 1) * batch_size if i != client_count - 1 else data_len\n",
    "        client_data.append((data[0][start:end], data[1][start:end]))\n",
    "\n",
    "    return client_data\n",
    "\n",
    "client_count = 10\n",
    "client_data = split_data_for_clients((x_train, y_train), client_count)\n",
    "\n",
    "# Create a federated dataset from the client data\n",
    "federated_data = [\n",
    "    tff.simulation.ClientData.from_clients_and_fn(\n",
    "        client_ids=[str(i)], create_tf_dataset_for_client_fn=lambda _: tf.data.Dataset.from_tensor_slices(client_data[i]).batch(20)\n",
    "    ).create_tf_dataset_for_client(str(i))\n",
    "    for i in range(client_count)\n",
    "]\n"
   ]
  },
  {
   "cell_type": "code",
   "execution_count": 1,
   "metadata": {},
   "outputs": [
    {
     "ename": "NameError",
     "evalue": "name 'tff' is not defined",
     "output_type": "error",
     "traceback": [
      "\u001b[0;31m---------------------------------------------------------------------------\u001b[0m",
      "\u001b[0;31mNameError\u001b[0m                                 Traceback (most recent call last)",
      "Cell \u001b[0;32mIn[1], line 5\u001b[0m\n\u001b[1;32m      2\u001b[0m nest_asyncio\u001b[39m.\u001b[39mapply()\n\u001b[1;32m      4\u001b[0m \u001b[39m# Train the federated model\u001b[39;00m\n\u001b[0;32m----> 5\u001b[0m trainer \u001b[39m=\u001b[39m tff\u001b[39m.\u001b[39mlearning\u001b[39m.\u001b[39mbuild_federated_averaging_process(\n\u001b[1;32m      6\u001b[0m     model_fn,\n\u001b[1;32m      7\u001b[0m     client_optimizer_fn\u001b[39m=\u001b[39m\u001b[39mlambda\u001b[39;00m: tf\u001b[39m.\u001b[39mkeras\u001b[39m.\u001b[39moptimizers\u001b[39m.\u001b[39mSGD(learning_rate\u001b[39m=\u001b[39m\u001b[39m0.02\u001b[39m),\n\u001b[1;32m      8\u001b[0m     server_optimizer_fn\u001b[39m=\u001b[39m\u001b[39mlambda\u001b[39;00m: tf\u001b[39m.\u001b[39mkeras\u001b[39m.\u001b[39moptimizers\u001b[39m.\u001b[39mSGD(learning_rate\u001b[39m=\u001b[39m\u001b[39m1.0\u001b[39m),\n\u001b[1;32m      9\u001b[0m )\n\u001b[1;32m     11\u001b[0m \u001b[39m# Initialize the state\u001b[39;00m\n\u001b[1;32m     12\u001b[0m state \u001b[39m=\u001b[39m trainer\u001b[39m.\u001b[39minitialize()\n",
      "\u001b[0;31mNameError\u001b[0m: name 'tff' is not defined"
     ]
    }
   ],
   "source": [
    "import nest_asyncio\n",
    "nest_asyncio.apply()\n",
    "\n",
    "# Train the federated model\n",
    "trainer = tff.learning.build_federated_averaging_process(\n",
    "    model_fn,\n",
    "    client_optimizer_fn=lambda: tf.keras.optimizers.SGD(learning_rate=0.02),\n",
    "    server_optimizer_fn=lambda: tf.keras.optimizers.SGD(learning_rate=1.0),\n",
    ")\n",
    "\n",
    "# Initialize the state\n",
    "state = trainer.initialize()\n",
    "\n",
    "# Train the model for multiple rounds\n",
    "num_rounds = 10\n",
    "for round_num in range(1, num_rounds + 1):\n",
    "    print(f\"Round {round_num}\")\n",
    "    state, metrics = trainer.next(state, federated_data)\n",
    "    print(f\"Metrics: {metrics}\")\n",
    "\n"
   ]
  },
  {
   "cell_type": "code",
   "execution_count": 18,
   "metadata": {},
   "outputs": [
    {
     "name": "stdout",
     "output_type": "stream",
     "text": [
      "Test Metrics: OrderedDict([('sparse_categorical_accuracy', 0.4811), ('loss', 1.4383234)])\n"
     ]
    }
   ],
   "source": [
    "\n",
    "# Convert the test dataset into a list of datasets\n",
    "client_test_data = split_data_for_clients((x_test, y_test), client_count)\n",
    "\n",
    "# Create a federated dataset from the client test data\n",
    "federated_test_data = [\n",
    "    tf.data.Dataset.from_tensor_slices(client_test_data[i]).batch(len(client_test_data[i][0]))\n",
    "    for i in range(client_count)\n",
    "]\n",
    "\n",
    "# Evaluate the trained model on the federated test dataset\n",
    "tff_evaluator = tff.learning.build_federated_evaluation(model_fn)\n",
    "test_metrics = tff_evaluator(state.model, federated_test_data)\n",
    "print(f\"Test Metrics: {test_metrics}\")"
   ]
  },
  {
   "cell_type": "code",
   "execution_count": null,
   "metadata": {},
   "outputs": [],
   "source": []
  }
 ],
 "metadata": {
  "kernelspec": {
   "display_name": "Python 3.8.15 ('jessThesis')",
   "language": "python",
   "name": "python3"
  },
  "language_info": {
   "codemirror_mode": {
    "name": "ipython",
    "version": 3
   },
   "file_extension": ".py",
   "mimetype": "text/x-python",
   "name": "python",
   "nbconvert_exporter": "python",
   "pygments_lexer": "ipython3",
   "version": "3.8.16"
  },
  "orig_nbformat": 4,
  "vscode": {
   "interpreter": {
    "hash": "ba3e593dfa68b70bdebf21461047a975a5aa7a97a5a84511d36f2c608b121581"
   }
  }
 },
 "nbformat": 4,
 "nbformat_minor": 2
}
