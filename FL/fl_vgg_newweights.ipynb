{
 "cells": [
  {
   "cell_type": "code",
   "execution_count": 1,
   "metadata": {},
   "outputs": [
    {
     "name": "stderr",
     "output_type": "stream",
     "text": [
      "/home/gaia/anaconda3/envs/jessVIT/lib/python3.8/site-packages/tqdm/auto.py:21: TqdmWarning: IProgress not found. Please update jupyter and ipywidgets. See https://ipywidgets.readthedocs.io/en/stable/user_install.html\n",
      "  from .autonotebook import tqdm as notebook_tqdm\n",
      "[codecarbon INFO @ 14:03:42] [setup] RAM Tracking...\n",
      "[codecarbon INFO @ 14:03:42] [setup] GPU Tracking...\n",
      "[codecarbon INFO @ 14:03:42] No GPU found.\n",
      "[codecarbon INFO @ 14:03:42] [setup] CPU Tracking...\n",
      "[codecarbon ERROR @ 14:03:42] Unable to read Intel RAPL files for CPU power, we will use a constant for your CPU power. Please view https://github.com/mlco2/codecarbon/issues/244 for workarounds : [Errno 13] Permission denied: '/sys/class/powercap/intel-rapl/intel-rapl:1/energy_uj'\n",
      "[codecarbon ERROR @ 14:03:42] Unable to read Intel RAPL files for CPU power, we will use a constant for your CPU power. Please view https://github.com/mlco2/codecarbon/issues/244 for workarounds : [Errno 13] Permission denied: '/sys/class/powercap/intel-rapl/intel-rapl:0/energy_uj'\n",
      "[codecarbon INFO @ 14:03:42] Tracking Intel CPU via RAPL interface\n",
      "[codecarbon ERROR @ 14:03:43] Unable to read Intel RAPL files for CPU power, we will use a constant for your CPU power. Please view https://github.com/mlco2/codecarbon/issues/244 for workarounds : [Errno 13] Permission denied: '/sys/class/powercap/intel-rapl/intel-rapl:1/energy_uj'\n",
      "[codecarbon ERROR @ 14:03:43] Unable to read Intel RAPL files for CPU power, we will use a constant for your CPU power. Please view https://github.com/mlco2/codecarbon/issues/244 for workarounds : [Errno 13] Permission denied: '/sys/class/powercap/intel-rapl/intel-rapl:0/energy_uj'\n",
      "[codecarbon INFO @ 14:03:43] >>> Tracker's metadata:\n",
      "[codecarbon INFO @ 14:03:43]   Platform system: Linux-5.14.0-1058-oem-x86_64-with-glibc2.17\n",
      "[codecarbon INFO @ 14:03:43]   Python version: 3.8.16\n",
      "[codecarbon INFO @ 14:03:43]   Available RAM : 15.348 GB\n",
      "[codecarbon INFO @ 14:03:43]   CPU count: 8\n",
      "[codecarbon INFO @ 14:03:43]   CPU model: 11th Gen Intel(R) Core(TM) i7-1165G7 @ 2.80GHz\n",
      "[codecarbon INFO @ 14:03:43]   GPU count: None\n",
      "[codecarbon INFO @ 14:03:43]   GPU model: None\n"
     ]
    },
    {
     "name": "stdout",
     "output_type": "stream",
     "text": [
      "Files already downloaded and verified\n",
      "Files already downloaded and verified\n"
     ]
    },
    {
     "name": "stderr",
     "output_type": "stream",
     "text": [
      "/home/gaia/anaconda3/envs/jessVIT/lib/python3.8/site-packages/torchvision/models/_utils.py:208: UserWarning: The parameter 'pretrained' is deprecated since 0.13 and will be removed in 0.15, please use 'weights' instead.\n",
      "  warnings.warn(\n",
      "/home/gaia/anaconda3/envs/jessVIT/lib/python3.8/site-packages/torchvision/models/_utils.py:223: UserWarning: Arguments other than a weight enum or `None` for 'weights' are deprecated since 0.13 and will be removed in 0.15. The current behavior is equivalent to passing `weights=VGG16_Weights.IMAGENET1K_V1`. You can also use `weights=VGG16_Weights.DEFAULT` to get the most up-to-date weights.\n",
      "  warnings.warn(msg)\n"
     ]
    },
    {
     "name": "stdout",
     "output_type": "stream",
     "text": [
      "Communication round 1/50\n"
     ]
    },
    {
     "name": "stderr",
     "output_type": "stream",
     "text": [
      "[codecarbon INFO @ 14:04:02] Energy consumed for RAM : 0.000024 kWh. RAM Power : 5.755537033081055 W\n",
      "[codecarbon INFO @ 14:04:02] Energy consumed for all CPUs : 0.000000 kWh. All CPUs Power : 0.0 W\n",
      "[codecarbon INFO @ 14:04:02] 0.000024 kWh of electricity used since the begining.\n",
      "[codecarbon INFO @ 14:04:17] Energy consumed for RAM : 0.000048 kWh. RAM Power : 5.755537033081055 W\n",
      "[codecarbon INFO @ 14:04:17] Energy consumed for all CPUs : 0.000000 kWh. All CPUs Power : 0.0 W\n",
      "[codecarbon INFO @ 14:04:17] 0.000048 kWh of electricity used since the begining.\n",
      "[codecarbon INFO @ 14:04:32] Energy consumed for RAM : 0.000072 kWh. RAM Power : 5.755537033081055 W\n",
      "[codecarbon INFO @ 14:04:32] Energy consumed for all CPUs : 0.000000 kWh. All CPUs Power : 0.0 W\n",
      "[codecarbon INFO @ 14:04:32] 0.000072 kWh of electricity used since the begining.\n",
      "[codecarbon INFO @ 14:04:47] Energy consumed for RAM : 0.000096 kWh. RAM Power : 5.755537033081055 W\n",
      "[codecarbon INFO @ 14:04:47] Energy consumed for all CPUs : 0.000000 kWh. All CPUs Power : 0.0 W\n",
      "[codecarbon INFO @ 14:04:47] 0.000096 kWh of electricity used since the begining.\n",
      "[codecarbon INFO @ 14:05:02] Energy consumed for RAM : 0.000120 kWh. RAM Power : 5.755537033081055 W\n",
      "[codecarbon INFO @ 14:05:02] Energy consumed for all CPUs : 0.000000 kWh. All CPUs Power : 0.0 W\n",
      "[codecarbon INFO @ 14:05:02] 0.000120 kWh of electricity used since the begining.\n",
      "[codecarbon INFO @ 14:05:17] Energy consumed for RAM : 0.000144 kWh. RAM Power : 5.755537033081055 W\n",
      "[codecarbon INFO @ 14:05:17] Energy consumed for all CPUs : 0.000000 kWh. All CPUs Power : 0.0 W\n",
      "[codecarbon INFO @ 14:05:17] 0.000144 kWh of electricity used since the begining.\n",
      "[codecarbon INFO @ 14:05:32] Energy consumed for RAM : 0.000168 kWh. RAM Power : 5.755537033081055 W\n",
      "[codecarbon INFO @ 14:05:32] Energy consumed for all CPUs : 0.000000 kWh. All CPUs Power : 0.0 W\n",
      "[codecarbon INFO @ 14:05:32] 0.000168 kWh of electricity used since the begining.\n",
      "[codecarbon INFO @ 14:05:47] Energy consumed for RAM : 0.000192 kWh. RAM Power : 5.755537033081055 W\n",
      "[codecarbon INFO @ 14:05:47] Energy consumed for all CPUs : 0.000000 kWh. All CPUs Power : 0.0 W\n",
      "[codecarbon INFO @ 14:05:47] 0.000192 kWh of electricity used since the begining.\n",
      "[codecarbon INFO @ 14:06:02] Energy consumed for RAM : 0.000216 kWh. RAM Power : 5.755537033081055 W\n",
      "[codecarbon INFO @ 14:06:02] Energy consumed for all CPUs : 0.000000 kWh. All CPUs Power : 0.0 W\n",
      "[codecarbon INFO @ 14:06:02] 0.000216 kWh of electricity used since the begining.\n",
      "[codecarbon INFO @ 14:06:17] Energy consumed for RAM : 0.000240 kWh. RAM Power : 5.755537033081055 W\n",
      "[codecarbon INFO @ 14:06:17] Energy consumed for all CPUs : 0.000000 kWh. All CPUs Power : 0.0 W\n",
      "[codecarbon INFO @ 14:06:17] 0.000240 kWh of electricity used since the begining.\n",
      "[codecarbon INFO @ 14:06:32] Energy consumed for RAM : 0.000264 kWh. RAM Power : 5.755537033081055 W\n",
      "[codecarbon INFO @ 14:06:32] Energy consumed for all CPUs : 0.000000 kWh. All CPUs Power : 0.0 W\n",
      "[codecarbon INFO @ 14:06:32] 0.000264 kWh of electricity used since the begining.\n",
      "[codecarbon INFO @ 14:06:47] Energy consumed for RAM : 0.000288 kWh. RAM Power : 5.755537033081055 W\n",
      "[codecarbon INFO @ 14:06:47] Energy consumed for all CPUs : 0.000000 kWh. All CPUs Power : 0.0 W\n",
      "[codecarbon INFO @ 14:06:47] 0.000288 kWh of electricity used since the begining.\n",
      "[codecarbon INFO @ 14:07:02] Energy consumed for RAM : 0.000312 kWh. RAM Power : 5.755537033081055 W\n",
      "[codecarbon INFO @ 14:07:02] Energy consumed for all CPUs : 0.000000 kWh. All CPUs Power : 0.0 W\n",
      "[codecarbon INFO @ 14:07:02] 0.000312 kWh of electricity used since the begining.\n",
      "[codecarbon INFO @ 14:07:17] Energy consumed for RAM : 0.000336 kWh. RAM Power : 5.755537033081055 W\n",
      "[codecarbon INFO @ 14:07:17] Energy consumed for all CPUs : 0.000000 kWh. All CPUs Power : 0.0 W\n",
      "[codecarbon INFO @ 14:07:17] 0.000336 kWh of electricity used since the begining.\n"
     ]
    },
    {
     "name": "stdout",
     "output_type": "stream",
     "text": [
      "0.9788797061524335\n"
     ]
    },
    {
     "name": "stderr",
     "output_type": "stream",
     "text": [
      "[codecarbon INFO @ 14:07:32] Energy consumed for RAM : 0.000360 kWh. RAM Power : 5.755537033081055 W\n",
      "[codecarbon INFO @ 14:07:32] Energy consumed for all CPUs : 0.000000 kWh. All CPUs Power : 0.0 W\n",
      "[codecarbon INFO @ 14:07:32] 0.000360 kWh of electricity used since the begining.\n",
      "[codecarbon INFO @ 14:07:47] Energy consumed for RAM : 0.000384 kWh. RAM Power : 5.755537033081055 W\n",
      "[codecarbon INFO @ 14:07:47] Energy consumed for all CPUs : 0.000000 kWh. All CPUs Power : 0.0 W\n",
      "[codecarbon INFO @ 14:07:47] 0.000384 kWh of electricity used since the begining.\n"
     ]
    },
    {
     "name": "stdout",
     "output_type": "stream",
     "text": [
      "0.9715335169880626\n"
     ]
    },
    {
     "name": "stderr",
     "output_type": "stream",
     "text": [
      "[codecarbon INFO @ 14:08:02] Energy consumed for RAM : 0.000408 kWh. RAM Power : 5.755537033081055 W\n",
      "[codecarbon INFO @ 14:08:02] Energy consumed for all CPUs : 0.000000 kWh. All CPUs Power : 0.0 W\n",
      "[codecarbon INFO @ 14:08:02] 0.000408 kWh of electricity used since the begining.\n",
      "[codecarbon INFO @ 14:08:17] Energy consumed for RAM : 0.000432 kWh. RAM Power : 5.755537033081055 W\n",
      "[codecarbon INFO @ 14:08:17] Energy consumed for all CPUs : 0.000000 kWh. All CPUs Power : 0.0 W\n",
      "[codecarbon INFO @ 14:08:17] 0.000432 kWh of electricity used since the begining.\n"
     ]
    },
    {
     "name": "stdout",
     "output_type": "stream",
     "text": [
      "1.0\n"
     ]
    },
    {
     "name": "stderr",
     "output_type": "stream",
     "text": [
      "[codecarbon INFO @ 14:08:32] Energy consumed for RAM : 0.000456 kWh. RAM Power : 5.755537033081055 W\n",
      "[codecarbon INFO @ 14:08:32] Energy consumed for all CPUs : 0.000000 kWh. All CPUs Power : 0.0 W\n",
      "[codecarbon INFO @ 14:08:32] 0.000456 kWh of electricity used since the begining.\n",
      "[codecarbon INFO @ 14:08:47] Energy consumed for RAM : 0.000480 kWh. RAM Power : 5.755537033081055 W\n",
      "[codecarbon INFO @ 14:08:47] Energy consumed for all CPUs : 0.000000 kWh. All CPUs Power : 0.0 W\n",
      "[codecarbon INFO @ 14:08:47] 0.000480 kWh of electricity used since the begining.\n",
      "[codecarbon INFO @ 14:09:02] Energy consumed for RAM : 0.000503 kWh. RAM Power : 5.755537033081055 W\n",
      "[codecarbon INFO @ 14:09:02] Energy consumed for all CPUs : 0.000000 kWh. All CPUs Power : 0.0 W\n",
      "[codecarbon INFO @ 14:09:02] 0.000503 kWh of electricity used since the begining.\n"
     ]
    },
    {
     "name": "stdout",
     "output_type": "stream",
     "text": [
      "0.9559228650137741\n"
     ]
    },
    {
     "name": "stderr",
     "output_type": "stream",
     "text": [
      "[codecarbon INFO @ 14:09:17] Energy consumed for RAM : 0.000527 kWh. RAM Power : 5.755537033081055 W\n",
      "[codecarbon INFO @ 14:09:17] Energy consumed for all CPUs : 0.000000 kWh. All CPUs Power : 0.0 W\n",
      "[codecarbon INFO @ 14:09:17] 0.000527 kWh of electricity used since the begining.\n",
      "[codecarbon INFO @ 14:09:32] Energy consumed for RAM : 0.000551 kWh. RAM Power : 5.755537033081055 W\n",
      "[codecarbon INFO @ 14:09:32] Energy consumed for all CPUs : 0.000000 kWh. All CPUs Power : 0.0 W\n",
      "[codecarbon INFO @ 14:09:32] 0.000551 kWh of electricity used since the begining.\n"
     ]
    },
    {
     "name": "stdout",
     "output_type": "stream",
     "text": [
      "1.0\n"
     ]
    },
    {
     "name": "stderr",
     "output_type": "stream",
     "text": [
      "[codecarbon INFO @ 14:09:47] Energy consumed for RAM : 0.000575 kWh. RAM Power : 5.755537033081055 W\n",
      "[codecarbon INFO @ 14:09:47] Energy consumed for all CPUs : 0.000000 kWh. All CPUs Power : 0.0 W\n",
      "[codecarbon INFO @ 14:09:47] 0.000575 kWh of electricity used since the begining.\n",
      "[codecarbon INFO @ 14:10:02] Energy consumed for RAM : 0.000599 kWh. RAM Power : 5.755537033081055 W\n",
      "[codecarbon INFO @ 14:10:02] Energy consumed for all CPUs : 0.000000 kWh. All CPUs Power : 0.0 W\n",
      "[codecarbon INFO @ 14:10:02] 0.000599 kWh of electricity used since the begining.\n"
     ]
    },
    {
     "name": "stdout",
     "output_type": "stream",
     "text": [
      "Test loss: 1.4400, Accuracy: 50.53%\n",
      "\n",
      "Communication round 2/50\n"
     ]
    },
    {
     "name": "stderr",
     "output_type": "stream",
     "text": [
      "[codecarbon INFO @ 14:10:17] Energy consumed for RAM : 0.000623 kWh. RAM Power : 5.755537033081055 W\n",
      "[codecarbon INFO @ 14:10:17] Energy consumed for all CPUs : 0.000000 kWh. All CPUs Power : 0.0 W\n",
      "[codecarbon INFO @ 14:10:17] 0.000623 kWh of electricity used since the begining.\n",
      "[codecarbon INFO @ 14:10:32] Energy consumed for RAM : 0.000647 kWh. RAM Power : 5.755537033081055 W\n",
      "[codecarbon INFO @ 14:10:32] Energy consumed for all CPUs : 0.000000 kWh. All CPUs Power : 0.0 W\n",
      "[codecarbon INFO @ 14:10:32] 0.000647 kWh of electricity used since the begining.\n",
      "[codecarbon INFO @ 14:10:47] Energy consumed for RAM : 0.000671 kWh. RAM Power : 5.755537033081055 W\n",
      "[codecarbon INFO @ 14:10:47] Energy consumed for all CPUs : 0.000000 kWh. All CPUs Power : 0.0 W\n",
      "[codecarbon INFO @ 14:10:47] 0.000671 kWh of electricity used since the begining.\n",
      "[codecarbon INFO @ 14:11:02] Energy consumed for RAM : 0.000695 kWh. RAM Power : 5.755537033081055 W\n",
      "[codecarbon INFO @ 14:11:02] Energy consumed for all CPUs : 0.000000 kWh. All CPUs Power : 0.0 W\n",
      "[codecarbon INFO @ 14:11:02] 0.000695 kWh of electricity used since the begining.\n",
      "[codecarbon INFO @ 14:11:17] Energy consumed for RAM : 0.000719 kWh. RAM Power : 5.755537033081055 W\n",
      "[codecarbon INFO @ 14:11:17] Energy consumed for all CPUs : 0.000000 kWh. All CPUs Power : 0.0 W\n",
      "[codecarbon INFO @ 14:11:17] 0.000719 kWh of electricity used since the begining.\n",
      "[codecarbon INFO @ 14:11:32] Energy consumed for RAM : 0.000743 kWh. RAM Power : 5.755537033081055 W\n",
      "[codecarbon INFO @ 14:11:32] Energy consumed for all CPUs : 0.000000 kWh. All CPUs Power : 0.0 W\n",
      "[codecarbon INFO @ 14:11:32] 0.000743 kWh of electricity used since the begining.\n",
      "[codecarbon INFO @ 14:11:47] Energy consumed for RAM : 0.000767 kWh. RAM Power : 5.755537033081055 W\n",
      "[codecarbon INFO @ 14:11:47] Energy consumed for all CPUs : 0.000000 kWh. All CPUs Power : 0.0 W\n",
      "[codecarbon INFO @ 14:11:47] 0.000767 kWh of electricity used since the begining.\n",
      "[codecarbon INFO @ 14:12:02] Energy consumed for RAM : 0.000791 kWh. RAM Power : 5.755537033081055 W\n",
      "[codecarbon INFO @ 14:12:02] Energy consumed for all CPUs : 0.000000 kWh. All CPUs Power : 0.0 W\n",
      "[codecarbon INFO @ 14:12:02] 0.000791 kWh of electricity used since the begining.\n",
      "[codecarbon INFO @ 14:12:17] Energy consumed for RAM : 0.000815 kWh. RAM Power : 5.755537033081055 W\n",
      "[codecarbon INFO @ 14:12:17] Energy consumed for all CPUs : 0.000000 kWh. All CPUs Power : 0.0 W\n",
      "[codecarbon INFO @ 14:12:17] 0.000815 kWh of electricity used since the begining.\n",
      "[codecarbon INFO @ 14:12:32] Energy consumed for RAM : 0.000839 kWh. RAM Power : 5.755537033081055 W\n",
      "[codecarbon INFO @ 14:12:32] Energy consumed for all CPUs : 0.000000 kWh. All CPUs Power : 0.0 W\n",
      "[codecarbon INFO @ 14:12:32] 0.000839 kWh of electricity used since the begining.\n",
      "[codecarbon INFO @ 14:12:47] Energy consumed for RAM : 0.000863 kWh. RAM Power : 5.755537033081055 W\n",
      "[codecarbon INFO @ 14:12:47] Energy consumed for all CPUs : 0.000000 kWh. All CPUs Power : 0.0 W\n",
      "[codecarbon INFO @ 14:12:47] 0.000863 kWh of electricity used since the begining.\n",
      "[codecarbon INFO @ 14:13:02] Energy consumed for RAM : 0.000887 kWh. RAM Power : 5.755537033081055 W\n",
      "[codecarbon INFO @ 14:13:02] Energy consumed for all CPUs : 0.000000 kWh. All CPUs Power : 0.0 W\n",
      "[codecarbon INFO @ 14:13:02] 0.000887 kWh of electricity used since the begining.\n"
     ]
    },
    {
     "name": "stdout",
     "output_type": "stream",
     "text": [
      "0.9885885885885887\n"
     ]
    },
    {
     "name": "stderr",
     "output_type": "stream",
     "text": [
      "[codecarbon INFO @ 14:13:17] Energy consumed for RAM : 0.000911 kWh. RAM Power : 5.755537033081055 W\n",
      "[codecarbon INFO @ 14:13:17] Energy consumed for all CPUs : 0.000000 kWh. All CPUs Power : 0.0 W\n",
      "[codecarbon INFO @ 14:13:17] 0.000911 kWh of electricity used since the begining.\n",
      "[codecarbon INFO @ 14:13:32] Energy consumed for RAM : 0.000935 kWh. RAM Power : 5.755537033081055 W\n",
      "[codecarbon INFO @ 14:13:32] Energy consumed for all CPUs : 0.000000 kWh. All CPUs Power : 0.0 W\n",
      "[codecarbon INFO @ 14:13:32] 0.000935 kWh of electricity used since the begining.\n"
     ]
    },
    {
     "name": "stdout",
     "output_type": "stream",
     "text": [
      "1.0\n"
     ]
    },
    {
     "name": "stderr",
     "output_type": "stream",
     "text": [
      "[codecarbon INFO @ 14:13:47] Energy consumed for RAM : 0.000959 kWh. RAM Power : 5.755537033081055 W\n",
      "[codecarbon INFO @ 14:13:47] Energy consumed for all CPUs : 0.000000 kWh. All CPUs Power : 0.0 W\n",
      "[codecarbon INFO @ 14:13:47] 0.000959 kWh of electricity used since the begining.\n",
      "[codecarbon INFO @ 14:14:02] Energy consumed for RAM : 0.000983 kWh. RAM Power : 5.755537033081055 W\n",
      "[codecarbon INFO @ 14:14:02] Energy consumed for all CPUs : 0.000000 kWh. All CPUs Power : 0.0 W\n",
      "[codecarbon INFO @ 14:14:02] 0.000983 kWh of electricity used since the begining.\n"
     ]
    },
    {
     "name": "stdout",
     "output_type": "stream",
     "text": [
      "0.9971971971971971\n"
     ]
    },
    {
     "name": "stderr",
     "output_type": "stream",
     "text": [
      "[codecarbon INFO @ 14:14:17] Energy consumed for RAM : 0.001007 kWh. RAM Power : 5.755537033081055 W\n",
      "[codecarbon INFO @ 14:14:17] Energy consumed for all CPUs : 0.000000 kWh. All CPUs Power : 0.0 W\n",
      "[codecarbon INFO @ 14:14:17] 0.001007 kWh of electricity used since the begining.\n",
      "[codecarbon INFO @ 14:14:32] Energy consumed for RAM : 0.001031 kWh. RAM Power : 5.755537033081055 W\n",
      "[codecarbon INFO @ 14:14:32] Energy consumed for all CPUs : 0.000000 kWh. All CPUs Power : 0.0 W\n",
      "[codecarbon INFO @ 14:14:32] 0.001031 kWh of electricity used since the begining.\n"
     ]
    },
    {
     "name": "stdout",
     "output_type": "stream",
     "text": [
      "0.9923923923923923\n"
     ]
    },
    {
     "name": "stderr",
     "output_type": "stream",
     "text": [
      "[codecarbon INFO @ 14:14:47] Energy consumed for RAM : 0.001055 kWh. RAM Power : 5.755537033081055 W\n",
      "[codecarbon INFO @ 14:14:47] Energy consumed for all CPUs : 0.000000 kWh. All CPUs Power : 0.0 W\n",
      "[codecarbon INFO @ 14:14:47] 0.001055 kWh of electricity used since the begining.\n",
      "[codecarbon INFO @ 14:15:02] Energy consumed for RAM : 0.001079 kWh. RAM Power : 5.755537033081055 W\n",
      "[codecarbon INFO @ 14:15:02] Energy consumed for all CPUs : 0.000000 kWh. All CPUs Power : 0.0 W\n",
      "[codecarbon INFO @ 14:15:02] 0.001079 kWh of electricity used since the begining.\n"
     ]
    },
    {
     "name": "stdout",
     "output_type": "stream",
     "text": [
      "0.9915915915915916\n"
     ]
    },
    {
     "name": "stderr",
     "output_type": "stream",
     "text": [
      "[codecarbon INFO @ 14:15:17] Energy consumed for RAM : 0.001103 kWh. RAM Power : 5.755537033081055 W\n",
      "[codecarbon INFO @ 14:15:17] Energy consumed for all CPUs : 0.000000 kWh. All CPUs Power : 0.0 W\n",
      "[codecarbon INFO @ 14:15:17] 0.001103 kWh of electricity used since the begining.\n",
      "[codecarbon INFO @ 14:15:32] Energy consumed for RAM : 0.001127 kWh. RAM Power : 5.755537033081055 W\n",
      "[codecarbon INFO @ 14:15:32] Energy consumed for all CPUs : 0.000000 kWh. All CPUs Power : 0.0 W\n",
      "[codecarbon INFO @ 14:15:32] 0.001127 kWh of electricity used since the begining.\n"
     ]
    },
    {
     "name": "stdout",
     "output_type": "stream",
     "text": [
      "Test loss: 1.3708, Accuracy: 52.08%\n",
      "\n",
      "Communication round 3/50\n"
     ]
    },
    {
     "name": "stderr",
     "output_type": "stream",
     "text": [
      "[codecarbon INFO @ 14:15:47] Energy consumed for RAM : 0.001151 kWh. RAM Power : 5.755537033081055 W\n",
      "[codecarbon INFO @ 14:15:47] Energy consumed for all CPUs : 0.000000 kWh. All CPUs Power : 0.0 W\n",
      "[codecarbon INFO @ 14:15:47] 0.001151 kWh of electricity used since the begining.\n",
      "[codecarbon INFO @ 14:16:02] Energy consumed for RAM : 0.001175 kWh. RAM Power : 5.755537033081055 W\n",
      "[codecarbon INFO @ 14:16:02] Energy consumed for all CPUs : 0.000000 kWh. All CPUs Power : 0.0 W\n",
      "[codecarbon INFO @ 14:16:02] 0.001175 kWh of electricity used since the begining.\n",
      "[codecarbon INFO @ 14:16:17] Energy consumed for RAM : 0.001199 kWh. RAM Power : 5.755537033081055 W\n",
      "[codecarbon INFO @ 14:16:17] Energy consumed for all CPUs : 0.000000 kWh. All CPUs Power : 0.0 W\n",
      "[codecarbon INFO @ 14:16:17] 0.001199 kWh of electricity used since the begining.\n",
      "[codecarbon INFO @ 14:16:32] Energy consumed for RAM : 0.001223 kWh. RAM Power : 5.755537033081055 W\n",
      "[codecarbon INFO @ 14:16:32] Energy consumed for all CPUs : 0.000000 kWh. All CPUs Power : 0.0 W\n",
      "[codecarbon INFO @ 14:16:32] 0.001223 kWh of electricity used since the begining.\n",
      "[codecarbon INFO @ 14:16:47] Energy consumed for RAM : 0.001247 kWh. RAM Power : 5.755537033081055 W\n",
      "[codecarbon INFO @ 14:16:47] Energy consumed for all CPUs : 0.000000 kWh. All CPUs Power : 0.0 W\n",
      "[codecarbon INFO @ 14:16:47] 0.001247 kWh of electricity used since the begining.\n",
      "[codecarbon INFO @ 14:17:02] Energy consumed for RAM : 0.001271 kWh. RAM Power : 5.755537033081055 W\n",
      "[codecarbon INFO @ 14:17:02] Energy consumed for all CPUs : 0.000000 kWh. All CPUs Power : 0.0 W\n",
      "[codecarbon INFO @ 14:17:02] 0.001271 kWh of electricity used since the begining.\n",
      "[codecarbon INFO @ 14:17:17] Energy consumed for RAM : 0.001295 kWh. RAM Power : 5.755537033081055 W\n",
      "[codecarbon INFO @ 14:17:17] Energy consumed for all CPUs : 0.000000 kWh. All CPUs Power : 0.0 W\n",
      "[codecarbon INFO @ 14:17:17] 0.001295 kWh of electricity used since the begining.\n",
      "[codecarbon INFO @ 14:17:32] Energy consumed for RAM : 0.001319 kWh. RAM Power : 5.755537033081055 W\n",
      "[codecarbon INFO @ 14:17:32] Energy consumed for all CPUs : 0.000000 kWh. All CPUs Power : 0.0 W\n",
      "[codecarbon INFO @ 14:17:32] 0.001319 kWh of electricity used since the begining.\n",
      "[codecarbon INFO @ 14:17:47] Energy consumed for RAM : 0.001343 kWh. RAM Power : 5.755537033081055 W\n",
      "[codecarbon INFO @ 14:17:47] Energy consumed for all CPUs : 0.000000 kWh. All CPUs Power : 0.0 W\n",
      "[codecarbon INFO @ 14:17:47] 0.001343 kWh of electricity used since the begining.\n",
      "[codecarbon INFO @ 14:18:02] Energy consumed for RAM : 0.001367 kWh. RAM Power : 5.755537033081055 W\n",
      "[codecarbon INFO @ 14:18:02] Energy consumed for all CPUs : 0.000000 kWh. All CPUs Power : 0.0 W\n",
      "[codecarbon INFO @ 14:18:02] 0.001367 kWh of electricity used since the begining.\n",
      "[codecarbon INFO @ 14:18:17] Energy consumed for RAM : 0.001391 kWh. RAM Power : 5.755537033081055 W\n",
      "[codecarbon INFO @ 14:18:17] Energy consumed for all CPUs : 0.000000 kWh. All CPUs Power : 0.0 W\n",
      "[codecarbon INFO @ 14:18:17] 0.001391 kWh of electricity used since the begining.\n",
      "[codecarbon INFO @ 14:18:32] Energy consumed for RAM : 0.001415 kWh. RAM Power : 5.755537033081055 W\n",
      "[codecarbon INFO @ 14:18:32] Energy consumed for all CPUs : 0.000000 kWh. All CPUs Power : 0.0 W\n",
      "[codecarbon INFO @ 14:18:32] 0.001415 kWh of electricity used since the begining.\n"
     ]
    },
    {
     "name": "stdout",
     "output_type": "stream",
     "text": [
      "1.0\n"
     ]
    },
    {
     "name": "stderr",
     "output_type": "stream",
     "text": [
      "[codecarbon INFO @ 14:18:47] Energy consumed for RAM : 0.001439 kWh. RAM Power : 5.755537033081055 W\n",
      "[codecarbon INFO @ 14:18:47] Energy consumed for all CPUs : 0.000000 kWh. All CPUs Power : 0.0 W\n",
      "[codecarbon INFO @ 14:18:47] 0.001439 kWh of electricity used since the begining.\n",
      "[codecarbon INFO @ 14:19:02] Energy consumed for RAM : 0.001463 kWh. RAM Power : 5.755537033081055 W\n",
      "[codecarbon INFO @ 14:19:02] Energy consumed for all CPUs : 0.000000 kWh. All CPUs Power : 0.0 W\n",
      "[codecarbon INFO @ 14:19:02] 0.001463 kWh of electricity used since the begining.\n"
     ]
    },
    {
     "name": "stdout",
     "output_type": "stream",
     "text": [
      "0.9797179833880625\n"
     ]
    },
    {
     "name": "stderr",
     "output_type": "stream",
     "text": [
      "[codecarbon INFO @ 14:19:17] Energy consumed for RAM : 0.001487 kWh. RAM Power : 5.755537033081055 W\n",
      "[codecarbon INFO @ 14:19:17] Energy consumed for all CPUs : 0.000000 kWh. All CPUs Power : 0.0 W\n",
      "[codecarbon INFO @ 14:19:17] 0.001487 kWh of electricity used since the begining.\n",
      "[codecarbon INFO @ 14:19:32] Energy consumed for RAM : 0.001511 kWh. RAM Power : 5.755537033081055 W\n",
      "[codecarbon INFO @ 14:19:32] Energy consumed for all CPUs : 0.000000 kWh. All CPUs Power : 0.0 W\n",
      "[codecarbon INFO @ 14:19:32] 0.001511 kWh of electricity used since the begining.\n"
     ]
    },
    {
     "name": "stdout",
     "output_type": "stream",
     "text": [
      "0.9947846242997874\n"
     ]
    },
    {
     "name": "stderr",
     "output_type": "stream",
     "text": [
      "[codecarbon INFO @ 14:19:47] Energy consumed for RAM : 0.001534 kWh. RAM Power : 5.755537033081055 W\n",
      "[codecarbon INFO @ 14:19:47] Energy consumed for all CPUs : 0.000000 kWh. All CPUs Power : 0.0 W\n",
      "[codecarbon INFO @ 14:19:47] 0.001534 kWh of electricity used since the begining.\n",
      "[codecarbon INFO @ 14:20:02] Energy consumed for RAM : 0.001558 kWh. RAM Power : 5.755537033081055 W\n",
      "[codecarbon INFO @ 14:20:02] Energy consumed for all CPUs : 0.000000 kWh. All CPUs Power : 0.0 W\n",
      "[codecarbon INFO @ 14:20:02] 0.001558 kWh of electricity used since the begining.\n"
     ]
    },
    {
     "name": "stdout",
     "output_type": "stream",
     "text": [
      "0.9955572725516707\n"
     ]
    },
    {
     "name": "stderr",
     "output_type": "stream",
     "text": [
      "[codecarbon INFO @ 14:20:17] Energy consumed for RAM : 0.001582 kWh. RAM Power : 5.755537033081055 W\n",
      "[codecarbon INFO @ 14:20:17] Energy consumed for all CPUs : 0.000000 kWh. All CPUs Power : 0.0 W\n",
      "[codecarbon INFO @ 14:20:17] 0.001582 kWh of electricity used since the begining.\n",
      "[codecarbon INFO @ 14:20:32] Energy consumed for RAM : 0.001606 kWh. RAM Power : 5.755537033081055 W\n",
      "[codecarbon INFO @ 14:20:32] Energy consumed for all CPUs : 0.000000 kWh. All CPUs Power : 0.0 W\n",
      "[codecarbon INFO @ 14:20:32] 0.001606 kWh of electricity used since the begining.\n"
     ]
    },
    {
     "name": "stdout",
     "output_type": "stream",
     "text": [
      "0.9851265211512458\n"
     ]
    },
    {
     "name": "stderr",
     "output_type": "stream",
     "text": [
      "[codecarbon INFO @ 14:20:47] Energy consumed for RAM : 0.001630 kWh. RAM Power : 5.755537033081055 W\n",
      "[codecarbon INFO @ 14:20:47] Energy consumed for all CPUs : 0.000000 kWh. All CPUs Power : 0.0 W\n",
      "[codecarbon INFO @ 14:20:47] 0.001630 kWh of electricity used since the begining.\n",
      "[codecarbon INFO @ 14:21:02] Energy consumed for RAM : 0.001654 kWh. RAM Power : 5.755537033081055 W\n",
      "[codecarbon INFO @ 14:21:02] Energy consumed for all CPUs : 0.000000 kWh. All CPUs Power : 0.0 W\n",
      "[codecarbon INFO @ 14:21:02] 0.001654 kWh of electricity used since the begining.\n"
     ]
    },
    {
     "name": "stdout",
     "output_type": "stream",
     "text": [
      "Test loss: 1.3422, Accuracy: 53.19%\n",
      "\n",
      "Communication round 4/50\n"
     ]
    },
    {
     "name": "stderr",
     "output_type": "stream",
     "text": [
      "[codecarbon INFO @ 14:21:17] Energy consumed for RAM : 0.001678 kWh. RAM Power : 5.755537033081055 W\n",
      "[codecarbon INFO @ 14:21:17] Energy consumed for all CPUs : 0.000000 kWh. All CPUs Power : 0.0 W\n",
      "[codecarbon INFO @ 14:21:17] 0.001678 kWh of electricity used since the begining.\n",
      "[codecarbon INFO @ 14:21:32] Energy consumed for RAM : 0.001702 kWh. RAM Power : 5.755537033081055 W\n",
      "[codecarbon INFO @ 14:21:32] Energy consumed for all CPUs : 0.000000 kWh. All CPUs Power : 0.0 W\n",
      "[codecarbon INFO @ 14:21:32] 0.001702 kWh of electricity used since the begining.\n",
      "[codecarbon INFO @ 14:21:47] Energy consumed for RAM : 0.001726 kWh. RAM Power : 5.755537033081055 W\n",
      "[codecarbon INFO @ 14:21:47] Energy consumed for all CPUs : 0.000000 kWh. All CPUs Power : 0.0 W\n",
      "[codecarbon INFO @ 14:21:47] 0.001726 kWh of electricity used since the begining.\n",
      "[codecarbon INFO @ 14:22:02] Energy consumed for RAM : 0.001750 kWh. RAM Power : 5.755537033081055 W\n",
      "[codecarbon INFO @ 14:22:02] Energy consumed for all CPUs : 0.000000 kWh. All CPUs Power : 0.0 W\n",
      "[codecarbon INFO @ 14:22:02] 0.001750 kWh of electricity used since the begining.\n",
      "[codecarbon INFO @ 14:22:17] Energy consumed for RAM : 0.001774 kWh. RAM Power : 5.755537033081055 W\n",
      "[codecarbon INFO @ 14:22:17] Energy consumed for all CPUs : 0.000000 kWh. All CPUs Power : 0.0 W\n",
      "[codecarbon INFO @ 14:22:17] 0.001774 kWh of electricity used since the begining.\n",
      "[codecarbon INFO @ 14:22:32] Energy consumed for RAM : 0.001798 kWh. RAM Power : 5.755537033081055 W\n",
      "[codecarbon INFO @ 14:22:32] Energy consumed for all CPUs : 0.000000 kWh. All CPUs Power : 0.0 W\n",
      "[codecarbon INFO @ 14:22:32] 0.001798 kWh of electricity used since the begining.\n",
      "[codecarbon INFO @ 14:22:47] Energy consumed for RAM : 0.001822 kWh. RAM Power : 5.755537033081055 W\n",
      "[codecarbon INFO @ 14:22:47] Energy consumed for all CPUs : 0.000000 kWh. All CPUs Power : 0.0 W\n",
      "[codecarbon INFO @ 14:22:47] 0.001822 kWh of electricity used since the begining.\n",
      "[codecarbon INFO @ 14:23:02] Energy consumed for RAM : 0.001846 kWh. RAM Power : 5.755537033081055 W\n",
      "[codecarbon INFO @ 14:23:02] Energy consumed for all CPUs : 0.000000 kWh. All CPUs Power : 0.0 W\n",
      "[codecarbon INFO @ 14:23:02] 0.001846 kWh of electricity used since the begining.\n",
      "[codecarbon INFO @ 14:23:17] Energy consumed for RAM : 0.001870 kWh. RAM Power : 5.755537033081055 W\n",
      "[codecarbon INFO @ 14:23:17] Energy consumed for all CPUs : 0.000000 kWh. All CPUs Power : 0.0 W\n",
      "[codecarbon INFO @ 14:23:17] 0.001870 kWh of electricity used since the begining.\n",
      "[codecarbon INFO @ 14:23:32] Energy consumed for RAM : 0.001894 kWh. RAM Power : 5.755537033081055 W\n",
      "[codecarbon INFO @ 14:23:32] Energy consumed for all CPUs : 0.000000 kWh. All CPUs Power : 0.0 W\n",
      "[codecarbon INFO @ 14:23:32] 0.001894 kWh of electricity used since the begining.\n",
      "[codecarbon INFO @ 14:23:47] Energy consumed for RAM : 0.001918 kWh. RAM Power : 5.755537033081055 W\n",
      "[codecarbon INFO @ 14:23:47] Energy consumed for all CPUs : 0.000000 kWh. All CPUs Power : 0.0 W\n",
      "[codecarbon INFO @ 14:23:47] 0.001918 kWh of electricity used since the begining.\n",
      "[codecarbon INFO @ 14:24:02] Energy consumed for RAM : 0.001942 kWh. RAM Power : 5.755537033081055 W\n",
      "[codecarbon INFO @ 14:24:02] Energy consumed for all CPUs : 0.000000 kWh. All CPUs Power : 0.0 W\n",
      "[codecarbon INFO @ 14:24:02] 0.001942 kWh of electricity used since the begining.\n",
      "[codecarbon INFO @ 14:24:17] Energy consumed for RAM : 0.001966 kWh. RAM Power : 5.755537033081055 W\n",
      "[codecarbon INFO @ 14:24:17] Energy consumed for all CPUs : 0.000000 kWh. All CPUs Power : 0.0 W\n",
      "[codecarbon INFO @ 14:24:17] 0.001966 kWh of electricity used since the begining.\n"
     ]
    },
    {
     "name": "stdout",
     "output_type": "stream",
     "text": [
      "0.9900573613766731\n"
     ]
    },
    {
     "name": "stderr",
     "output_type": "stream",
     "text": [
      "[codecarbon INFO @ 14:24:32] Energy consumed for RAM : 0.001990 kWh. RAM Power : 5.755537033081055 W\n",
      "[codecarbon INFO @ 14:24:32] Energy consumed for all CPUs : 0.000000 kWh. All CPUs Power : 0.0 W\n",
      "[codecarbon INFO @ 14:24:32] 0.001990 kWh of electricity used since the begining.\n",
      "[codecarbon INFO @ 14:24:47] Energy consumed for RAM : 0.002014 kWh. RAM Power : 5.755537033081055 W\n",
      "[codecarbon INFO @ 14:24:47] Energy consumed for all CPUs : 0.000000 kWh. All CPUs Power : 0.0 W\n",
      "[codecarbon INFO @ 14:24:47] 0.002014 kWh of electricity used since the begining.\n"
     ]
    },
    {
     "name": "stdout",
     "output_type": "stream",
     "text": [
      "1.0\n"
     ]
    },
    {
     "name": "stderr",
     "output_type": "stream",
     "text": [
      "[codecarbon INFO @ 14:25:02] Energy consumed for RAM : 0.002038 kWh. RAM Power : 5.755537033081055 W\n",
      "[codecarbon INFO @ 14:25:02] Energy consumed for all CPUs : 0.000000 kWh. All CPUs Power : 0.0 W\n",
      "[codecarbon INFO @ 14:25:02] 0.002038 kWh of electricity used since the begining.\n",
      "[codecarbon INFO @ 14:25:17] Energy consumed for RAM : 0.002062 kWh. RAM Power : 5.755537033081055 W\n",
      "[codecarbon INFO @ 14:25:17] Energy consumed for all CPUs : 0.000000 kWh. All CPUs Power : 0.0 W\n",
      "[codecarbon INFO @ 14:25:17] 0.002062 kWh of electricity used since the begining.\n"
     ]
    },
    {
     "name": "stdout",
     "output_type": "stream",
     "text": [
      "0.9760994263862331\n"
     ]
    },
    {
     "name": "stderr",
     "output_type": "stream",
     "text": [
      "[codecarbon INFO @ 14:25:32] Energy consumed for RAM : 0.002086 kWh. RAM Power : 5.755537033081055 W\n",
      "[codecarbon INFO @ 14:25:32] Energy consumed for all CPUs : 0.000000 kWh. All CPUs Power : 0.0 W\n",
      "[codecarbon INFO @ 14:25:32] 0.002086 kWh of electricity used since the begining.\n",
      "[codecarbon INFO @ 14:25:47] Energy consumed for RAM : 0.002110 kWh. RAM Power : 5.755537033081055 W\n",
      "[codecarbon INFO @ 14:25:47] Energy consumed for all CPUs : 0.000000 kWh. All CPUs Power : 0.0 W\n",
      "[codecarbon INFO @ 14:25:47] 0.002110 kWh of electricity used since the begining.\n"
     ]
    },
    {
     "name": "stdout",
     "output_type": "stream",
     "text": [
      "0.9648183556405354\n"
     ]
    },
    {
     "name": "stderr",
     "output_type": "stream",
     "text": [
      "[codecarbon INFO @ 14:26:02] Energy consumed for RAM : 0.002134 kWh. RAM Power : 5.755537033081055 W\n",
      "[codecarbon INFO @ 14:26:02] Energy consumed for all CPUs : 0.000000 kWh. All CPUs Power : 0.0 W\n",
      "[codecarbon INFO @ 14:26:02] 0.002134 kWh of electricity used since the begining.\n",
      "[codecarbon INFO @ 14:26:17] Energy consumed for RAM : 0.002158 kWh. RAM Power : 5.755537033081055 W\n",
      "[codecarbon INFO @ 14:26:17] Energy consumed for all CPUs : 0.000000 kWh. All CPUs Power : 0.0 W\n",
      "[codecarbon INFO @ 14:26:17] 0.002158 kWh of electricity used since the begining.\n"
     ]
    },
    {
     "name": "stdout",
     "output_type": "stream",
     "text": [
      "0.9787762906309752\n"
     ]
    },
    {
     "name": "stderr",
     "output_type": "stream",
     "text": [
      "[codecarbon INFO @ 14:26:32] Energy consumed for RAM : 0.002182 kWh. RAM Power : 5.755537033081055 W\n",
      "[codecarbon INFO @ 14:26:32] Energy consumed for all CPUs : 0.000000 kWh. All CPUs Power : 0.0 W\n",
      "[codecarbon INFO @ 14:26:32] 0.002182 kWh of electricity used since the begining.\n",
      "[codecarbon INFO @ 14:26:47] Energy consumed for RAM : 0.002206 kWh. RAM Power : 5.755537033081055 W\n",
      "[codecarbon INFO @ 14:26:47] Energy consumed for all CPUs : 0.000000 kWh. All CPUs Power : 0.0 W\n",
      "[codecarbon INFO @ 14:26:47] 0.002206 kWh of electricity used since the begining.\n"
     ]
    },
    {
     "name": "stdout",
     "output_type": "stream",
     "text": [
      "Test loss: 1.3490, Accuracy: 54.04%\n",
      "\n",
      "Communication round 5/50\n"
     ]
    },
    {
     "name": "stderr",
     "output_type": "stream",
     "text": [
      "[codecarbon INFO @ 14:27:02] Energy consumed for RAM : 0.002230 kWh. RAM Power : 5.755537033081055 W\n",
      "[codecarbon INFO @ 14:27:02] Energy consumed for all CPUs : 0.000000 kWh. All CPUs Power : 0.0 W\n",
      "[codecarbon INFO @ 14:27:02] 0.002230 kWh of electricity used since the begining.\n",
      "[codecarbon INFO @ 14:27:17] Energy consumed for RAM : 0.002254 kWh. RAM Power : 5.755537033081055 W\n",
      "[codecarbon INFO @ 14:27:17] Energy consumed for all CPUs : 0.000000 kWh. All CPUs Power : 0.0 W\n",
      "[codecarbon INFO @ 14:27:17] 0.002254 kWh of electricity used since the begining.\n",
      "[codecarbon INFO @ 14:27:32] Energy consumed for RAM : 0.002278 kWh. RAM Power : 5.755537033081055 W\n",
      "[codecarbon INFO @ 14:27:32] Energy consumed for all CPUs : 0.000000 kWh. All CPUs Power : 0.0 W\n",
      "[codecarbon INFO @ 14:27:32] 0.002278 kWh of electricity used since the begining.\n",
      "[codecarbon INFO @ 14:27:47] Energy consumed for RAM : 0.002302 kWh. RAM Power : 5.755537033081055 W\n",
      "[codecarbon INFO @ 14:27:47] Energy consumed for all CPUs : 0.000000 kWh. All CPUs Power : 0.0 W\n",
      "[codecarbon INFO @ 14:27:47] 0.002302 kWh of electricity used since the begining.\n",
      "[codecarbon INFO @ 14:28:02] Energy consumed for RAM : 0.002326 kWh. RAM Power : 5.755537033081055 W\n",
      "[codecarbon INFO @ 14:28:02] Energy consumed for all CPUs : 0.000000 kWh. All CPUs Power : 0.0 W\n",
      "[codecarbon INFO @ 14:28:02] 0.002326 kWh of electricity used since the begining.\n",
      "[codecarbon INFO @ 14:28:17] Energy consumed for RAM : 0.002350 kWh. RAM Power : 5.755537033081055 W\n",
      "[codecarbon INFO @ 14:28:17] Energy consumed for all CPUs : 0.000000 kWh. All CPUs Power : 0.0 W\n",
      "[codecarbon INFO @ 14:28:17] 0.002350 kWh of electricity used since the begining.\n",
      "[codecarbon INFO @ 14:28:32] Energy consumed for RAM : 0.002374 kWh. RAM Power : 5.755537033081055 W\n",
      "[codecarbon INFO @ 14:28:32] Energy consumed for all CPUs : 0.000000 kWh. All CPUs Power : 0.0 W\n",
      "[codecarbon INFO @ 14:28:32] 0.002374 kWh of electricity used since the begining.\n",
      "[codecarbon INFO @ 14:28:47] Energy consumed for RAM : 0.002398 kWh. RAM Power : 5.755537033081055 W\n",
      "[codecarbon INFO @ 14:28:47] Energy consumed for all CPUs : 0.000000 kWh. All CPUs Power : 0.0 W\n",
      "[codecarbon INFO @ 14:28:47] 0.002398 kWh of electricity used since the begining.\n",
      "[codecarbon INFO @ 14:29:02] Energy consumed for RAM : 0.002422 kWh. RAM Power : 5.755537033081055 W\n",
      "[codecarbon INFO @ 14:29:02] Energy consumed for all CPUs : 0.000000 kWh. All CPUs Power : 0.0 W\n",
      "[codecarbon INFO @ 14:29:02] 0.002422 kWh of electricity used since the begining.\n",
      "[codecarbon INFO @ 14:29:17] Energy consumed for RAM : 0.002446 kWh. RAM Power : 5.755537033081055 W\n",
      "[codecarbon INFO @ 14:29:17] Energy consumed for all CPUs : 0.000000 kWh. All CPUs Power : 0.0 W\n",
      "[codecarbon INFO @ 14:29:17] 0.002446 kWh of electricity used since the begining.\n",
      "[codecarbon INFO @ 14:29:32] Energy consumed for RAM : 0.002470 kWh. RAM Power : 5.755537033081055 W\n",
      "[codecarbon INFO @ 14:29:32] Energy consumed for all CPUs : 0.000000 kWh. All CPUs Power : 0.0 W\n",
      "[codecarbon INFO @ 14:29:32] 0.002470 kWh of electricity used since the begining.\n",
      "[codecarbon INFO @ 14:29:47] Energy consumed for RAM : 0.002494 kWh. RAM Power : 5.755537033081055 W\n",
      "[codecarbon INFO @ 14:29:47] Energy consumed for all CPUs : 0.000000 kWh. All CPUs Power : 0.0 W\n",
      "[codecarbon INFO @ 14:29:47] 0.002494 kWh of electricity used since the begining.\n",
      "[codecarbon INFO @ 14:30:02] Energy consumed for RAM : 0.002518 kWh. RAM Power : 5.755537033081055 W\n",
      "[codecarbon INFO @ 14:30:02] Energy consumed for all CPUs : 0.000000 kWh. All CPUs Power : 0.0 W\n",
      "[codecarbon INFO @ 14:30:02] 0.002518 kWh of electricity used since the begining.\n"
     ]
    },
    {
     "name": "stdout",
     "output_type": "stream",
     "text": [
      "0.9935126884182409\n"
     ]
    },
    {
     "name": "stderr",
     "output_type": "stream",
     "text": [
      "[codecarbon INFO @ 14:30:17] Energy consumed for RAM : 0.002542 kWh. RAM Power : 5.755537033081055 W\n",
      "[codecarbon INFO @ 14:30:17] Energy consumed for all CPUs : 0.000000 kWh. All CPUs Power : 0.0 W\n",
      "[codecarbon INFO @ 14:30:17] 0.002542 kWh of electricity used since the begining.\n",
      "[codecarbon INFO @ 14:30:32] Energy consumed for RAM : 0.002566 kWh. RAM Power : 5.755537033081055 W\n",
      "[codecarbon INFO @ 14:30:32] Energy consumed for all CPUs : 0.000000 kWh. All CPUs Power : 0.0 W\n",
      "[codecarbon INFO @ 14:30:32] 0.002566 kWh of electricity used since the begining.\n"
     ]
    },
    {
     "name": "stdout",
     "output_type": "stream",
     "text": [
      "0.9877885899637474\n"
     ]
    },
    {
     "name": "stderr",
     "output_type": "stream",
     "text": [
      "[codecarbon INFO @ 14:30:47] Energy consumed for RAM : 0.002589 kWh. RAM Power : 5.755537033081055 W\n",
      "[codecarbon INFO @ 14:30:47] Energy consumed for all CPUs : 0.000000 kWh. All CPUs Power : 0.0 W\n",
      "[codecarbon INFO @ 14:30:47] 0.002589 kWh of electricity used since the begining.\n",
      "[codecarbon INFO @ 14:31:02] Energy consumed for RAM : 0.002613 kWh. RAM Power : 5.755537033081055 W\n",
      "[codecarbon INFO @ 14:31:02] Energy consumed for all CPUs : 0.000000 kWh. All CPUs Power : 0.0 W\n",
      "[codecarbon INFO @ 14:31:02] 0.002613 kWh of electricity used since the begining.\n"
     ]
    },
    {
     "name": "stdout",
     "output_type": "stream",
     "text": [
      "1.0\n"
     ]
    },
    {
     "name": "stderr",
     "output_type": "stream",
     "text": [
      "[codecarbon INFO @ 14:31:17] Energy consumed for RAM : 0.002637 kWh. RAM Power : 5.755537033081055 W\n",
      "[codecarbon INFO @ 14:31:17] Energy consumed for all CPUs : 0.000000 kWh. All CPUs Power : 0.0 W\n",
      "[codecarbon INFO @ 14:31:17] 0.002637 kWh of electricity used since the begining.\n",
      "[codecarbon INFO @ 14:31:32] Energy consumed for RAM : 0.002661 kWh. RAM Power : 5.755537033081055 W\n",
      "[codecarbon INFO @ 14:31:32] Energy consumed for all CPUs : 0.000000 kWh. All CPUs Power : 0.0 W\n",
      "[codecarbon INFO @ 14:31:32] 0.002661 kWh of electricity used since the begining.\n"
     ]
    },
    {
     "name": "stdout",
     "output_type": "stream",
     "text": [
      "0.9870253768364815\n"
     ]
    },
    {
     "name": "stderr",
     "output_type": "stream",
     "text": [
      "[codecarbon INFO @ 14:31:47] Energy consumed for RAM : 0.002685 kWh. RAM Power : 5.755537033081055 W\n",
      "[codecarbon INFO @ 14:31:47] Energy consumed for all CPUs : 0.000000 kWh. All CPUs Power : 0.0 W\n",
      "[codecarbon INFO @ 14:31:47] 0.002685 kWh of electricity used since the begining.\n",
      "[codecarbon INFO @ 14:32:02] Energy consumed for RAM : 0.002709 kWh. RAM Power : 5.755537033081055 W\n",
      "[codecarbon INFO @ 14:32:02] Energy consumed for all CPUs : 0.000000 kWh. All CPUs Power : 0.0 W\n",
      "[codecarbon INFO @ 14:32:02] 0.002709 kWh of electricity used since the begining.\n"
     ]
    },
    {
     "name": "stdout",
     "output_type": "stream",
     "text": [
      "0.9843541308910514\n"
     ]
    },
    {
     "name": "stderr",
     "output_type": "stream",
     "text": [
      "[codecarbon INFO @ 14:32:17] Energy consumed for RAM : 0.002733 kWh. RAM Power : 5.755537033081055 W\n",
      "[codecarbon INFO @ 14:32:17] Energy consumed for all CPUs : 0.000000 kWh. All CPUs Power : 0.0 W\n",
      "[codecarbon INFO @ 14:32:17] 0.002733 kWh of electricity used since the begining.\n",
      "[codecarbon INFO @ 14:32:32] Energy consumed for RAM : 0.002757 kWh. RAM Power : 5.755537033081055 W\n",
      "[codecarbon INFO @ 14:32:32] Energy consumed for all CPUs : 0.000000 kWh. All CPUs Power : 0.0 W\n",
      "[codecarbon INFO @ 14:32:32] 0.002757 kWh of electricity used since the begining.\n"
     ]
    },
    {
     "name": "stdout",
     "output_type": "stream",
     "text": [
      "Test loss: 1.3144, Accuracy: 54.84%\n",
      "\n",
      "Communication round 6/50\n"
     ]
    },
    {
     "name": "stderr",
     "output_type": "stream",
     "text": [
      "[codecarbon INFO @ 14:32:47] Energy consumed for RAM : 0.002781 kWh. RAM Power : 5.755537033081055 W\n",
      "[codecarbon INFO @ 14:32:47] Energy consumed for all CPUs : 0.000000 kWh. All CPUs Power : 0.0 W\n",
      "[codecarbon INFO @ 14:32:47] 0.002781 kWh of electricity used since the begining.\n",
      "[codecarbon INFO @ 14:33:02] Energy consumed for RAM : 0.002805 kWh. RAM Power : 5.755537033081055 W\n",
      "[codecarbon INFO @ 14:33:02] Energy consumed for all CPUs : 0.000000 kWh. All CPUs Power : 0.0 W\n",
      "[codecarbon INFO @ 14:33:02] 0.002805 kWh of electricity used since the begining.\n",
      "[codecarbon INFO @ 14:33:17] Energy consumed for RAM : 0.002829 kWh. RAM Power : 5.755537033081055 W\n",
      "[codecarbon INFO @ 14:33:17] Energy consumed for all CPUs : 0.000000 kWh. All CPUs Power : 0.0 W\n",
      "[codecarbon INFO @ 14:33:17] 0.002829 kWh of electricity used since the begining.\n",
      "[codecarbon INFO @ 14:33:32] Energy consumed for RAM : 0.002853 kWh. RAM Power : 5.755537033081055 W\n",
      "[codecarbon INFO @ 14:33:32] Energy consumed for all CPUs : 0.000000 kWh. All CPUs Power : 0.0 W\n",
      "[codecarbon INFO @ 14:33:32] 0.002853 kWh of electricity used since the begining.\n",
      "[codecarbon INFO @ 14:33:47] Energy consumed for RAM : 0.002877 kWh. RAM Power : 5.755537033081055 W\n",
      "[codecarbon INFO @ 14:33:47] Energy consumed for all CPUs : 0.000000 kWh. All CPUs Power : 0.0 W\n",
      "[codecarbon INFO @ 14:33:47] 0.002877 kWh of electricity used since the begining.\n",
      "[codecarbon INFO @ 14:34:02] Energy consumed for RAM : 0.002901 kWh. RAM Power : 5.755537033081055 W\n",
      "[codecarbon INFO @ 14:34:02] Energy consumed for all CPUs : 0.000000 kWh. All CPUs Power : 0.0 W\n",
      "[codecarbon INFO @ 14:34:02] 0.002901 kWh of electricity used since the begining.\n",
      "[codecarbon INFO @ 14:34:17] Energy consumed for RAM : 0.002925 kWh. RAM Power : 5.755537033081055 W\n",
      "[codecarbon INFO @ 14:34:17] Energy consumed for all CPUs : 0.000000 kWh. All CPUs Power : 0.0 W\n",
      "[codecarbon INFO @ 14:34:17] 0.002925 kWh of electricity used since the begining.\n",
      "[codecarbon INFO @ 14:34:32] Energy consumed for RAM : 0.002949 kWh. RAM Power : 5.755537033081055 W\n",
      "[codecarbon INFO @ 14:34:32] Energy consumed for all CPUs : 0.000000 kWh. All CPUs Power : 0.0 W\n",
      "[codecarbon INFO @ 14:34:32] 0.002949 kWh of electricity used since the begining.\n",
      "[codecarbon INFO @ 14:34:47] Energy consumed for RAM : 0.002973 kWh. RAM Power : 5.755537033081055 W\n",
      "[codecarbon INFO @ 14:34:47] Energy consumed for all CPUs : 0.000000 kWh. All CPUs Power : 0.0 W\n",
      "[codecarbon INFO @ 14:34:47] 0.002973 kWh of electricity used since the begining.\n",
      "[codecarbon INFO @ 14:35:02] Energy consumed for RAM : 0.002997 kWh. RAM Power : 5.755537033081055 W\n",
      "[codecarbon INFO @ 14:35:02] Energy consumed for all CPUs : 0.000000 kWh. All CPUs Power : 0.0 W\n",
      "[codecarbon INFO @ 14:35:02] 0.002997 kWh of electricity used since the begining.\n",
      "[codecarbon INFO @ 14:35:17] Energy consumed for RAM : 0.003021 kWh. RAM Power : 5.755537033081055 W\n",
      "[codecarbon INFO @ 14:35:17] Energy consumed for all CPUs : 0.000000 kWh. All CPUs Power : 0.0 W\n",
      "[codecarbon INFO @ 14:35:17] 0.003021 kWh of electricity used since the begining.\n",
      "[codecarbon INFO @ 14:35:32] Energy consumed for RAM : 0.003045 kWh. RAM Power : 5.755537033081055 W\n",
      "[codecarbon INFO @ 14:35:32] Energy consumed for all CPUs : 0.000000 kWh. All CPUs Power : 0.0 W\n",
      "[codecarbon INFO @ 14:35:32] 0.003045 kWh of electricity used since the begining.\n"
     ]
    },
    {
     "name": "stdout",
     "output_type": "stream",
     "text": [
      "0.9899103139013453\n"
     ]
    },
    {
     "name": "stderr",
     "output_type": "stream",
     "text": [
      "[codecarbon INFO @ 14:35:47] Energy consumed for RAM : 0.003069 kWh. RAM Power : 5.755537033081055 W\n",
      "[codecarbon INFO @ 14:35:47] Energy consumed for all CPUs : 0.000000 kWh. All CPUs Power : 0.0 W\n",
      "[codecarbon INFO @ 14:35:47] 0.003069 kWh of electricity used since the begining.\n",
      "[codecarbon INFO @ 14:36:02] Energy consumed for RAM : 0.003093 kWh. RAM Power : 5.755537033081055 W\n",
      "[codecarbon INFO @ 14:36:02] Energy consumed for all CPUs : 0.000000 kWh. All CPUs Power : 0.0 W\n",
      "[codecarbon INFO @ 14:36:02] 0.003093 kWh of electricity used since the begining.\n"
     ]
    },
    {
     "name": "stdout",
     "output_type": "stream",
     "text": [
      "1.0\n"
     ]
    },
    {
     "name": "stderr",
     "output_type": "stream",
     "text": [
      "[codecarbon INFO @ 14:36:17] Energy consumed for RAM : 0.003117 kWh. RAM Power : 5.755537033081055 W\n",
      "[codecarbon INFO @ 14:36:17] Energy consumed for all CPUs : 0.000000 kWh. All CPUs Power : 0.0 W\n",
      "[codecarbon INFO @ 14:36:17] 0.003117 kWh of electricity used since the begining.\n",
      "[codecarbon INFO @ 14:36:32] Energy consumed for RAM : 0.003141 kWh. RAM Power : 5.755537033081055 W\n",
      "[codecarbon INFO @ 14:36:32] Energy consumed for all CPUs : 0.000000 kWh. All CPUs Power : 0.0 W\n",
      "[codecarbon INFO @ 14:36:32] 0.003141 kWh of electricity used since the begining.\n",
      "[codecarbon INFO @ 14:36:47] Energy consumed for RAM : 0.003165 kWh. RAM Power : 5.755537033081055 W\n",
      "[codecarbon INFO @ 14:36:47] Energy consumed for all CPUs : 0.000000 kWh. All CPUs Power : 0.0 W\n",
      "[codecarbon INFO @ 14:36:47] 0.003165 kWh of electricity used since the begining.\n"
     ]
    },
    {
     "name": "stdout",
     "output_type": "stream",
     "text": [
      "0.9882286995515696\n"
     ]
    },
    {
     "name": "stderr",
     "output_type": "stream",
     "text": [
      "[codecarbon INFO @ 14:37:02] Energy consumed for RAM : 0.003189 kWh. RAM Power : 5.755537033081055 W\n",
      "[codecarbon INFO @ 14:37:02] Energy consumed for all CPUs : 0.000000 kWh. All CPUs Power : 0.0 W\n",
      "[codecarbon INFO @ 14:37:02] 0.003189 kWh of electricity used since the begining.\n",
      "[codecarbon INFO @ 14:37:17] Energy consumed for RAM : 0.003213 kWh. RAM Power : 5.755537033081055 W\n",
      "[codecarbon INFO @ 14:37:17] Energy consumed for all CPUs : 0.000000 kWh. All CPUs Power : 0.0 W\n",
      "[codecarbon INFO @ 14:37:17] 0.003213 kWh of electricity used since the begining.\n"
     ]
    },
    {
     "name": "stdout",
     "output_type": "stream",
     "text": [
      "0.9717862481315396\n"
     ]
    },
    {
     "name": "stderr",
     "output_type": "stream",
     "text": [
      "[codecarbon INFO @ 14:37:32] Energy consumed for RAM : 0.003237 kWh. RAM Power : 5.755537033081055 W\n",
      "[codecarbon INFO @ 14:37:32] Energy consumed for all CPUs : 0.000000 kWh. All CPUs Power : 0.0 W\n",
      "[codecarbon INFO @ 14:37:32] 0.003237 kWh of electricity used since the begining.\n",
      "[codecarbon INFO @ 14:37:47] Energy consumed for RAM : 0.003261 kWh. RAM Power : 5.755537033081055 W\n",
      "[codecarbon INFO @ 14:37:47] Energy consumed for all CPUs : 0.000000 kWh. All CPUs Power : 0.0 W\n",
      "[codecarbon INFO @ 14:37:47] 0.003261 kWh of electricity used since the begining.\n"
     ]
    },
    {
     "name": "stdout",
     "output_type": "stream",
     "text": [
      "0.9788863976083707\n"
     ]
    },
    {
     "name": "stderr",
     "output_type": "stream",
     "text": [
      "[codecarbon INFO @ 14:38:02] Energy consumed for RAM : 0.003285 kWh. RAM Power : 5.755537033081055 W\n",
      "[codecarbon INFO @ 14:38:02] Energy consumed for all CPUs : 0.000000 kWh. All CPUs Power : 0.0 W\n",
      "[codecarbon INFO @ 14:38:02] 0.003285 kWh of electricity used since the begining.\n",
      "[codecarbon INFO @ 14:38:17] Energy consumed for RAM : 0.003309 kWh. RAM Power : 5.755537033081055 W\n",
      "[codecarbon INFO @ 14:38:17] Energy consumed for all CPUs : 0.000000 kWh. All CPUs Power : 0.0 W\n",
      "[codecarbon INFO @ 14:38:17] 0.003309 kWh of electricity used since the begining.\n"
     ]
    },
    {
     "name": "stdout",
     "output_type": "stream",
     "text": [
      "Test loss: 1.3206, Accuracy: 54.93%\n",
      "\n",
      "Communication round 7/50\n"
     ]
    },
    {
     "name": "stderr",
     "output_type": "stream",
     "text": [
      "[codecarbon INFO @ 14:38:32] Energy consumed for RAM : 0.003333 kWh. RAM Power : 5.755537033081055 W\n",
      "[codecarbon INFO @ 14:38:32] Energy consumed for all CPUs : 0.000000 kWh. All CPUs Power : 0.0 W\n",
      "[codecarbon INFO @ 14:38:32] 0.003333 kWh of electricity used since the begining.\n",
      "[codecarbon INFO @ 14:38:47] Energy consumed for RAM : 0.003357 kWh. RAM Power : 5.755537033081055 W\n",
      "[codecarbon INFO @ 14:38:47] Energy consumed for all CPUs : 0.000000 kWh. All CPUs Power : 0.0 W\n",
      "[codecarbon INFO @ 14:38:47] 0.003357 kWh of electricity used since the begining.\n",
      "[codecarbon INFO @ 14:39:02] Energy consumed for RAM : 0.003381 kWh. RAM Power : 5.755537033081055 W\n",
      "[codecarbon INFO @ 14:39:02] Energy consumed for all CPUs : 0.000000 kWh. All CPUs Power : 0.0 W\n",
      "[codecarbon INFO @ 14:39:02] 0.003381 kWh of electricity used since the begining.\n",
      "[codecarbon INFO @ 14:39:17] Energy consumed for RAM : 0.003405 kWh. RAM Power : 5.755537033081055 W\n",
      "[codecarbon INFO @ 14:39:17] Energy consumed for all CPUs : 0.000000 kWh. All CPUs Power : 0.0 W\n",
      "[codecarbon INFO @ 14:39:17] 0.003405 kWh of electricity used since the begining.\n",
      "[codecarbon INFO @ 14:39:32] Energy consumed for RAM : 0.003429 kWh. RAM Power : 5.755537033081055 W\n",
      "[codecarbon INFO @ 14:39:32] Energy consumed for all CPUs : 0.000000 kWh. All CPUs Power : 0.0 W\n",
      "[codecarbon INFO @ 14:39:32] 0.003429 kWh of electricity used since the begining.\n",
      "[codecarbon INFO @ 14:39:47] Energy consumed for RAM : 0.003453 kWh. RAM Power : 5.755537033081055 W\n",
      "[codecarbon INFO @ 14:39:47] Energy consumed for all CPUs : 0.000000 kWh. All CPUs Power : 0.0 W\n",
      "[codecarbon INFO @ 14:39:47] 0.003453 kWh of electricity used since the begining.\n",
      "[codecarbon INFO @ 14:40:02] Energy consumed for RAM : 0.003477 kWh. RAM Power : 5.755537033081055 W\n",
      "[codecarbon INFO @ 14:40:02] Energy consumed for all CPUs : 0.000000 kWh. All CPUs Power : 0.0 W\n",
      "[codecarbon INFO @ 14:40:02] 0.003477 kWh of electricity used since the begining.\n",
      "[codecarbon INFO @ 14:40:17] Energy consumed for RAM : 0.003501 kWh. RAM Power : 5.755537033081055 W\n",
      "[codecarbon INFO @ 14:40:17] Energy consumed for all CPUs : 0.000000 kWh. All CPUs Power : 0.0 W\n",
      "[codecarbon INFO @ 14:40:17] 0.003501 kWh of electricity used since the begining.\n",
      "[codecarbon INFO @ 14:40:32] Energy consumed for RAM : 0.003525 kWh. RAM Power : 5.755537033081055 W\n",
      "[codecarbon INFO @ 14:40:32] Energy consumed for all CPUs : 0.000000 kWh. All CPUs Power : 0.0 W\n",
      "[codecarbon INFO @ 14:40:32] 0.003525 kWh of electricity used since the begining.\n",
      "[codecarbon INFO @ 14:40:47] Energy consumed for RAM : 0.003549 kWh. RAM Power : 5.755537033081055 W\n",
      "[codecarbon INFO @ 14:40:47] Energy consumed for all CPUs : 0.000000 kWh. All CPUs Power : 0.0 W\n",
      "[codecarbon INFO @ 14:40:47] 0.003549 kWh of electricity used since the begining.\n",
      "[codecarbon INFO @ 14:41:02] Energy consumed for RAM : 0.003573 kWh. RAM Power : 5.755537033081055 W\n",
      "[codecarbon INFO @ 14:41:02] Energy consumed for all CPUs : 0.000000 kWh. All CPUs Power : 0.0 W\n",
      "[codecarbon INFO @ 14:41:02] 0.003573 kWh of electricity used since the begining.\n",
      "[codecarbon INFO @ 14:41:17] Energy consumed for RAM : 0.003597 kWh. RAM Power : 5.755537033081055 W\n",
      "[codecarbon INFO @ 14:41:17] Energy consumed for all CPUs : 0.000000 kWh. All CPUs Power : 0.0 W\n",
      "[codecarbon INFO @ 14:41:17] 0.003597 kWh of electricity used since the begining.\n",
      "[codecarbon INFO @ 14:41:32] Energy consumed for RAM : 0.003620 kWh. RAM Power : 5.755537033081055 W\n",
      "[codecarbon INFO @ 14:41:32] Energy consumed for all CPUs : 0.000000 kWh. All CPUs Power : 0.0 W\n",
      "[codecarbon INFO @ 14:41:32] 0.003620 kWh of electricity used since the begining.\n"
     ]
    },
    {
     "name": "stdout",
     "output_type": "stream",
     "text": [
      "0.9828869047619048\n"
     ]
    },
    {
     "name": "stderr",
     "output_type": "stream",
     "text": [
      "[codecarbon INFO @ 14:41:47] Energy consumed for RAM : 0.003644 kWh. RAM Power : 5.755537033081055 W\n",
      "[codecarbon INFO @ 14:41:47] Energy consumed for all CPUs : 0.000000 kWh. All CPUs Power : 0.0 W\n",
      "[codecarbon INFO @ 14:41:47] 0.003644 kWh of electricity used since the begining.\n",
      "[codecarbon INFO @ 14:42:02] Energy consumed for RAM : 0.003668 kWh. RAM Power : 5.755537033081055 W\n",
      "[codecarbon INFO @ 14:42:02] Energy consumed for all CPUs : 0.000000 kWh. All CPUs Power : 0.0 W\n",
      "[codecarbon INFO @ 14:42:02] 0.003668 kWh of electricity used since the begining.\n"
     ]
    },
    {
     "name": "stdout",
     "output_type": "stream",
     "text": [
      "0.9709821428571429\n"
     ]
    },
    {
     "name": "stderr",
     "output_type": "stream",
     "text": [
      "[codecarbon INFO @ 14:42:17] Energy consumed for RAM : 0.003692 kWh. RAM Power : 5.755537033081055 W\n",
      "[codecarbon INFO @ 14:42:17] Energy consumed for all CPUs : 0.000000 kWh. All CPUs Power : 0.0 W\n",
      "[codecarbon INFO @ 14:42:17] 0.003692 kWh of electricity used since the begining.\n",
      "[codecarbon INFO @ 14:42:32] Energy consumed for RAM : 0.003716 kWh. RAM Power : 5.755537033081055 W\n",
      "[codecarbon INFO @ 14:42:32] Energy consumed for all CPUs : 0.000000 kWh. All CPUs Power : 0.0 W\n",
      "[codecarbon INFO @ 14:42:32] 0.003716 kWh of electricity used since the begining.\n"
     ]
    },
    {
     "name": "stdout",
     "output_type": "stream",
     "text": [
      "1.0\n"
     ]
    },
    {
     "name": "stderr",
     "output_type": "stream",
     "text": [
      "[codecarbon INFO @ 14:42:47] Energy consumed for RAM : 0.003740 kWh. RAM Power : 5.755537033081055 W\n",
      "[codecarbon INFO @ 14:42:47] Energy consumed for all CPUs : 0.000000 kWh. All CPUs Power : 0.0 W\n",
      "[codecarbon INFO @ 14:42:47] 0.003740 kWh of electricity used since the begining.\n",
      "[codecarbon INFO @ 14:43:02] Energy consumed for RAM : 0.003764 kWh. RAM Power : 5.755537033081055 W\n",
      "[codecarbon INFO @ 14:43:02] Energy consumed for all CPUs : 0.000000 kWh. All CPUs Power : 0.0 W\n",
      "[codecarbon INFO @ 14:43:02] 0.003764 kWh of electricity used since the begining.\n",
      "[codecarbon INFO @ 14:43:17] Energy consumed for RAM : 0.003788 kWh. RAM Power : 5.755537033081055 W\n",
      "[codecarbon INFO @ 14:43:17] Energy consumed for all CPUs : 0.000000 kWh. All CPUs Power : 0.0 W\n",
      "[codecarbon INFO @ 14:43:17] 0.003788 kWh of electricity used since the begining.\n"
     ]
    },
    {
     "name": "stdout",
     "output_type": "stream",
     "text": [
      "0.9832589285714286\n"
     ]
    },
    {
     "name": "stderr",
     "output_type": "stream",
     "text": [
      "[codecarbon INFO @ 14:43:32] Energy consumed for RAM : 0.003812 kWh. RAM Power : 5.755537033081055 W\n",
      "[codecarbon INFO @ 14:43:32] Energy consumed for all CPUs : 0.000000 kWh. All CPUs Power : 0.0 W\n",
      "[codecarbon INFO @ 14:43:32] 0.003812 kWh of electricity used since the begining.\n",
      "[codecarbon INFO @ 14:43:47] Energy consumed for RAM : 0.003836 kWh. RAM Power : 5.755537033081055 W\n",
      "[codecarbon INFO @ 14:43:47] Energy consumed for all CPUs : 0.000000 kWh. All CPUs Power : 0.0 W\n",
      "[codecarbon INFO @ 14:43:47] 0.003836 kWh of electricity used since the begining.\n"
     ]
    },
    {
     "name": "stdout",
     "output_type": "stream",
     "text": [
      "0.9840029761904763\n"
     ]
    },
    {
     "name": "stderr",
     "output_type": "stream",
     "text": [
      "[codecarbon INFO @ 14:44:02] Energy consumed for RAM : 0.003860 kWh. RAM Power : 5.755537033081055 W\n",
      "[codecarbon INFO @ 14:44:02] Energy consumed for all CPUs : 0.000000 kWh. All CPUs Power : 0.0 W\n",
      "[codecarbon INFO @ 14:44:02] 0.003860 kWh of electricity used since the begining.\n",
      "[codecarbon INFO @ 14:44:17] Energy consumed for RAM : 0.003884 kWh. RAM Power : 5.755537033081055 W\n",
      "[codecarbon INFO @ 14:44:17] Energy consumed for all CPUs : 0.000000 kWh. All CPUs Power : 0.0 W\n",
      "[codecarbon INFO @ 14:44:17] 0.003884 kWh of electricity used since the begining.\n"
     ]
    },
    {
     "name": "stdout",
     "output_type": "stream",
     "text": [
      "Test loss: 1.3177, Accuracy: 55.10%\n",
      "\n",
      "Communication round 8/50\n"
     ]
    },
    {
     "name": "stderr",
     "output_type": "stream",
     "text": [
      "[codecarbon INFO @ 14:44:32] Energy consumed for RAM : 0.003908 kWh. RAM Power : 5.755537033081055 W\n",
      "[codecarbon INFO @ 14:44:32] Energy consumed for all CPUs : 0.000000 kWh. All CPUs Power : 0.0 W\n",
      "[codecarbon INFO @ 14:44:32] 0.003908 kWh of electricity used since the begining.\n",
      "[codecarbon INFO @ 14:44:47] Energy consumed for RAM : 0.003932 kWh. RAM Power : 5.755537033081055 W\n",
      "[codecarbon INFO @ 14:44:47] Energy consumed for all CPUs : 0.000000 kWh. All CPUs Power : 0.0 W\n",
      "[codecarbon INFO @ 14:44:47] 0.003932 kWh of electricity used since the begining.\n",
      "[codecarbon INFO @ 14:45:02] Energy consumed for RAM : 0.003956 kWh. RAM Power : 5.755537033081055 W\n",
      "[codecarbon INFO @ 14:45:02] Energy consumed for all CPUs : 0.000000 kWh. All CPUs Power : 0.0 W\n",
      "[codecarbon INFO @ 14:45:02] 0.003956 kWh of electricity used since the begining.\n",
      "[codecarbon INFO @ 14:45:17] Energy consumed for RAM : 0.003980 kWh. RAM Power : 5.755537033081055 W\n",
      "[codecarbon INFO @ 14:45:17] Energy consumed for all CPUs : 0.000000 kWh. All CPUs Power : 0.0 W\n",
      "[codecarbon INFO @ 14:45:17] 0.003980 kWh of electricity used since the begining.\n",
      "[codecarbon INFO @ 14:45:32] Energy consumed for RAM : 0.004004 kWh. RAM Power : 5.755537033081055 W\n",
      "[codecarbon INFO @ 14:45:32] Energy consumed for all CPUs : 0.000000 kWh. All CPUs Power : 0.0 W\n",
      "[codecarbon INFO @ 14:45:32] 0.004004 kWh of electricity used since the begining.\n",
      "[codecarbon INFO @ 14:45:47] Energy consumed for RAM : 0.004028 kWh. RAM Power : 5.755537033081055 W\n",
      "[codecarbon INFO @ 14:45:47] Energy consumed for all CPUs : 0.000000 kWh. All CPUs Power : 0.0 W\n",
      "[codecarbon INFO @ 14:45:47] 0.004028 kWh of electricity used since the begining.\n",
      "[codecarbon INFO @ 14:46:02] Energy consumed for RAM : 0.004052 kWh. RAM Power : 5.755537033081055 W\n",
      "[codecarbon INFO @ 14:46:02] Energy consumed for all CPUs : 0.000000 kWh. All CPUs Power : 0.0 W\n",
      "[codecarbon INFO @ 14:46:02] 0.004052 kWh of electricity used since the begining.\n",
      "[codecarbon INFO @ 14:46:17] Energy consumed for RAM : 0.004076 kWh. RAM Power : 5.755537033081055 W\n",
      "[codecarbon INFO @ 14:46:17] Energy consumed for all CPUs : 0.000000 kWh. All CPUs Power : 0.0 W\n",
      "[codecarbon INFO @ 14:46:17] 0.004076 kWh of electricity used since the begining.\n",
      "[codecarbon INFO @ 14:46:32] Energy consumed for RAM : 0.004100 kWh. RAM Power : 5.755537033081055 W\n",
      "[codecarbon INFO @ 14:46:32] Energy consumed for all CPUs : 0.000000 kWh. All CPUs Power : 0.0 W\n",
      "[codecarbon INFO @ 14:46:32] 0.004100 kWh of electricity used since the begining.\n",
      "[codecarbon INFO @ 14:46:47] Energy consumed for RAM : 0.004124 kWh. RAM Power : 5.755537033081055 W\n",
      "[codecarbon INFO @ 14:46:47] Energy consumed for all CPUs : 0.000000 kWh. All CPUs Power : 0.0 W\n",
      "[codecarbon INFO @ 14:46:47] 0.004124 kWh of electricity used since the begining.\n",
      "[codecarbon INFO @ 14:47:02] Energy consumed for RAM : 0.004148 kWh. RAM Power : 5.755537033081055 W\n",
      "[codecarbon INFO @ 14:47:02] Energy consumed for all CPUs : 0.000000 kWh. All CPUs Power : 0.0 W\n",
      "[codecarbon INFO @ 14:47:02] 0.004148 kWh of electricity used since the begining.\n",
      "[codecarbon INFO @ 14:47:17] Energy consumed for RAM : 0.004172 kWh. RAM Power : 5.755537033081055 W\n",
      "[codecarbon INFO @ 14:47:17] Energy consumed for all CPUs : 0.000000 kWh. All CPUs Power : 0.0 W\n",
      "[codecarbon INFO @ 14:47:17] 0.004172 kWh of electricity used since the begining.\n",
      "[codecarbon INFO @ 14:47:32] Energy consumed for RAM : 0.004196 kWh. RAM Power : 5.755537033081055 W\n",
      "[codecarbon INFO @ 14:47:32] Energy consumed for all CPUs : 0.000000 kWh. All CPUs Power : 0.0 W\n",
      "[codecarbon INFO @ 14:47:32] 0.004196 kWh of electricity used since the begining.\n"
     ]
    },
    {
     "name": "stdout",
     "output_type": "stream",
     "text": [
      "0.9900129461808768\n"
     ]
    },
    {
     "name": "stderr",
     "output_type": "stream",
     "text": [
      "[codecarbon INFO @ 14:47:47] Energy consumed for RAM : 0.004220 kWh. RAM Power : 5.755537033081055 W\n",
      "[codecarbon INFO @ 14:47:47] Energy consumed for all CPUs : 0.000000 kWh. All CPUs Power : 0.0 W\n",
      "[codecarbon INFO @ 14:47:47] 0.004220 kWh of electricity used since the begining.\n",
      "[codecarbon INFO @ 14:48:02] Energy consumed for RAM : 0.004244 kWh. RAM Power : 5.755537033081055 W\n",
      "[codecarbon INFO @ 14:48:02] Energy consumed for all CPUs : 0.000000 kWh. All CPUs Power : 0.0 W\n",
      "[codecarbon INFO @ 14:48:02] 0.004244 kWh of electricity used since the begining.\n"
     ]
    },
    {
     "name": "stdout",
     "output_type": "stream",
     "text": [
      "1.0\n"
     ]
    },
    {
     "name": "stderr",
     "output_type": "stream",
     "text": [
      "[codecarbon INFO @ 14:48:17] Energy consumed for RAM : 0.004268 kWh. RAM Power : 5.755537033081055 W\n",
      "[codecarbon INFO @ 14:48:17] Energy consumed for all CPUs : 0.000000 kWh. All CPUs Power : 0.0 W\n",
      "[codecarbon INFO @ 14:48:17] 0.004268 kWh of electricity used since the begining.\n",
      "[codecarbon INFO @ 14:48:32] Energy consumed for RAM : 0.004292 kWh. RAM Power : 5.755537033081055 W\n",
      "[codecarbon INFO @ 14:48:32] Energy consumed for all CPUs : 0.000000 kWh. All CPUs Power : 0.0 W\n",
      "[codecarbon INFO @ 14:48:32] 0.004292 kWh of electricity used since the begining.\n"
     ]
    },
    {
     "name": "stdout",
     "output_type": "stream",
     "text": [
      "0.9813205104494174\n"
     ]
    },
    {
     "name": "stderr",
     "output_type": "stream",
     "text": [
      "[codecarbon INFO @ 14:48:47] Energy consumed for RAM : 0.004316 kWh. RAM Power : 5.755537033081055 W\n",
      "[codecarbon INFO @ 14:48:47] Energy consumed for all CPUs : 0.000000 kWh. All CPUs Power : 0.0 W\n",
      "[codecarbon INFO @ 14:48:47] 0.004316 kWh of electricity used since the begining.\n",
      "[codecarbon INFO @ 14:49:02] Energy consumed for RAM : 0.004340 kWh. RAM Power : 5.755537033081055 W\n",
      "[codecarbon INFO @ 14:49:02] Energy consumed for all CPUs : 0.000000 kWh. All CPUs Power : 0.0 W\n",
      "[codecarbon INFO @ 14:49:02] 0.004340 kWh of electricity used since the begining.\n"
     ]
    },
    {
     "name": "stdout",
     "output_type": "stream",
     "text": [
      "0.9944516367671536\n"
     ]
    },
    {
     "name": "stderr",
     "output_type": "stream",
     "text": [
      "[codecarbon INFO @ 14:49:17] Energy consumed for RAM : 0.004364 kWh. RAM Power : 5.755537033081055 W\n",
      "[codecarbon INFO @ 14:49:17] Energy consumed for all CPUs : 0.000000 kWh. All CPUs Power : 0.0 W\n",
      "[codecarbon INFO @ 14:49:17] 0.004364 kWh of electricity used since the begining.\n",
      "[codecarbon INFO @ 14:49:32] Energy consumed for RAM : 0.004388 kWh. RAM Power : 5.755537033081055 W\n",
      "[codecarbon INFO @ 14:49:32] Energy consumed for all CPUs : 0.000000 kWh. All CPUs Power : 0.0 W\n",
      "[codecarbon INFO @ 14:49:32] 0.004388 kWh of electricity used since the begining.\n",
      "[codecarbon INFO @ 14:49:47] Energy consumed for RAM : 0.004412 kWh. RAM Power : 5.755537033081055 W\n",
      "[codecarbon INFO @ 14:49:47] Energy consumed for all CPUs : 0.000000 kWh. All CPUs Power : 0.0 W\n",
      "[codecarbon INFO @ 14:49:47] 0.004412 kWh of electricity used since the begining.\n"
     ]
    },
    {
     "name": "stdout",
     "output_type": "stream",
     "text": [
      "0.9831699648603662\n"
     ]
    },
    {
     "name": "stderr",
     "output_type": "stream",
     "text": [
      "[codecarbon INFO @ 14:50:02] Energy consumed for RAM : 0.004436 kWh. RAM Power : 5.755537033081055 W\n",
      "[codecarbon INFO @ 14:50:02] Energy consumed for all CPUs : 0.000000 kWh. All CPUs Power : 0.0 W\n",
      "[codecarbon INFO @ 14:50:02] 0.004436 kWh of electricity used since the begining.\n",
      "[codecarbon INFO @ 14:50:17] Energy consumed for RAM : 0.004460 kWh. RAM Power : 5.755537033081055 W\n",
      "[codecarbon INFO @ 14:50:17] Energy consumed for all CPUs : 0.000000 kWh. All CPUs Power : 0.0 W\n",
      "[codecarbon INFO @ 14:50:17] 0.004460 kWh of electricity used since the begining.\n"
     ]
    },
    {
     "name": "stdout",
     "output_type": "stream",
     "text": [
      "Test loss: 1.2955, Accuracy: 55.19%\n",
      "\n",
      "Communication round 9/50\n"
     ]
    },
    {
     "name": "stderr",
     "output_type": "stream",
     "text": [
      "[codecarbon INFO @ 14:50:32] Energy consumed for RAM : 0.004484 kWh. RAM Power : 5.755537033081055 W\n",
      "[codecarbon INFO @ 14:50:32] Energy consumed for all CPUs : 0.000000 kWh. All CPUs Power : 0.0 W\n",
      "[codecarbon INFO @ 14:50:32] 0.004484 kWh of electricity used since the begining.\n",
      "[codecarbon INFO @ 14:50:47] Energy consumed for RAM : 0.004508 kWh. RAM Power : 5.755537033081055 W\n",
      "[codecarbon INFO @ 14:50:47] Energy consumed for all CPUs : 0.000000 kWh. All CPUs Power : 0.0 W\n",
      "[codecarbon INFO @ 14:50:47] 0.004508 kWh of electricity used since the begining.\n",
      "[codecarbon INFO @ 14:51:02] Energy consumed for RAM : 0.004532 kWh. RAM Power : 5.755537033081055 W\n",
      "[codecarbon INFO @ 14:51:02] Energy consumed for all CPUs : 0.000000 kWh. All CPUs Power : 0.0 W\n",
      "[codecarbon INFO @ 14:51:02] 0.004532 kWh of electricity used since the begining.\n",
      "[codecarbon INFO @ 14:51:17] Energy consumed for RAM : 0.004556 kWh. RAM Power : 5.755537033081055 W\n",
      "[codecarbon INFO @ 14:51:17] Energy consumed for all CPUs : 0.000000 kWh. All CPUs Power : 0.0 W\n",
      "[codecarbon INFO @ 14:51:17] 0.004556 kWh of electricity used since the begining.\n",
      "[codecarbon INFO @ 14:51:32] Energy consumed for RAM : 0.004580 kWh. RAM Power : 5.755537033081055 W\n",
      "[codecarbon INFO @ 14:51:32] Energy consumed for all CPUs : 0.000000 kWh. All CPUs Power : 0.0 W\n",
      "[codecarbon INFO @ 14:51:32] 0.004580 kWh of electricity used since the begining.\n",
      "[codecarbon INFO @ 14:51:47] Energy consumed for RAM : 0.004604 kWh. RAM Power : 5.755537033081055 W\n",
      "[codecarbon INFO @ 14:51:47] Energy consumed for all CPUs : 0.000000 kWh. All CPUs Power : 0.0 W\n",
      "[codecarbon INFO @ 14:51:47] 0.004604 kWh of electricity used since the begining.\n",
      "[codecarbon INFO @ 14:52:02] Energy consumed for RAM : 0.004628 kWh. RAM Power : 5.755537033081055 W\n",
      "[codecarbon INFO @ 14:52:02] Energy consumed for all CPUs : 0.000000 kWh. All CPUs Power : 0.0 W\n",
      "[codecarbon INFO @ 14:52:02] 0.004628 kWh of electricity used since the begining.\n",
      "[codecarbon INFO @ 14:52:17] Energy consumed for RAM : 0.004651 kWh. RAM Power : 5.755537033081055 W\n",
      "[codecarbon INFO @ 14:52:17] Energy consumed for all CPUs : 0.000000 kWh. All CPUs Power : 0.0 W\n",
      "[codecarbon INFO @ 14:52:17] 0.004651 kWh of electricity used since the begining.\n",
      "[codecarbon INFO @ 14:52:32] Energy consumed for RAM : 0.004675 kWh. RAM Power : 5.755537033081055 W\n",
      "[codecarbon INFO @ 14:52:32] Energy consumed for all CPUs : 0.000000 kWh. All CPUs Power : 0.0 W\n",
      "[codecarbon INFO @ 14:52:32] 0.004675 kWh of electricity used since the begining.\n",
      "[codecarbon INFO @ 14:52:47] Energy consumed for RAM : 0.004699 kWh. RAM Power : 5.755537033081055 W\n",
      "[codecarbon INFO @ 14:52:47] Energy consumed for all CPUs : 0.000000 kWh. All CPUs Power : 0.0 W\n",
      "[codecarbon INFO @ 14:52:47] 0.004699 kWh of electricity used since the begining.\n",
      "[codecarbon INFO @ 14:53:02] Energy consumed for RAM : 0.004723 kWh. RAM Power : 5.755537033081055 W\n",
      "[codecarbon INFO @ 14:53:02] Energy consumed for all CPUs : 0.000000 kWh. All CPUs Power : 0.0 W\n",
      "[codecarbon INFO @ 14:53:02] 0.004723 kWh of electricity used since the begining.\n",
      "[codecarbon INFO @ 14:53:17] Energy consumed for RAM : 0.004747 kWh. RAM Power : 5.755537033081055 W\n",
      "[codecarbon INFO @ 14:53:17] Energy consumed for all CPUs : 0.000000 kWh. All CPUs Power : 0.0 W\n",
      "[codecarbon INFO @ 14:53:17] 0.004747 kWh of electricity used since the begining.\n",
      "[codecarbon INFO @ 14:53:32] Energy consumed for RAM : 0.004771 kWh. RAM Power : 5.755537033081055 W\n",
      "[codecarbon INFO @ 14:53:32] Energy consumed for all CPUs : 0.000000 kWh. All CPUs Power : 0.0 W\n",
      "[codecarbon INFO @ 14:53:32] 0.004771 kWh of electricity used since the begining.\n"
     ]
    },
    {
     "name": "stdout",
     "output_type": "stream",
     "text": [
      "0.9953332088855704\n"
     ]
    },
    {
     "name": "stderr",
     "output_type": "stream",
     "text": [
      "[codecarbon INFO @ 14:53:47] Energy consumed for RAM : 0.004795 kWh. RAM Power : 5.755537033081055 W\n",
      "[codecarbon INFO @ 14:53:47] Energy consumed for all CPUs : 0.000000 kWh. All CPUs Power : 0.0 W\n",
      "[codecarbon INFO @ 14:53:47] 0.004795 kWh of electricity used since the begining.\n",
      "[codecarbon INFO @ 14:54:02] Energy consumed for RAM : 0.004819 kWh. RAM Power : 5.755537033081055 W\n",
      "[codecarbon INFO @ 14:54:02] Energy consumed for all CPUs : 0.000000 kWh. All CPUs Power : 0.0 W\n",
      "[codecarbon INFO @ 14:54:02] 0.004819 kWh of electricity used since the begining.\n"
     ]
    },
    {
     "name": "stdout",
     "output_type": "stream",
     "text": [
      "0.9779727459398919\n"
     ]
    },
    {
     "name": "stderr",
     "output_type": "stream",
     "text": [
      "[codecarbon INFO @ 14:54:17] Energy consumed for RAM : 0.004843 kWh. RAM Power : 5.755537033081055 W\n",
      "[codecarbon INFO @ 14:54:17] Energy consumed for all CPUs : 0.000000 kWh. All CPUs Power : 0.0 W\n",
      "[codecarbon INFO @ 14:54:17] 0.004843 kWh of electricity used since the begining.\n",
      "[codecarbon INFO @ 14:54:32] Energy consumed for RAM : 0.004867 kWh. RAM Power : 5.755537033081055 W\n",
      "[codecarbon INFO @ 14:54:32] Energy consumed for all CPUs : 0.000000 kWh. All CPUs Power : 0.0 W\n",
      "[codecarbon INFO @ 14:54:32] 0.004867 kWh of electricity used since the begining.\n"
     ]
    },
    {
     "name": "stdout",
     "output_type": "stream",
     "text": [
      "1.0\n"
     ]
    },
    {
     "name": "stderr",
     "output_type": "stream",
     "text": [
      "[codecarbon INFO @ 14:54:47] Energy consumed for RAM : 0.004891 kWh. RAM Power : 5.755537033081055 W\n",
      "[codecarbon INFO @ 14:54:47] Energy consumed for all CPUs : 0.000000 kWh. All CPUs Power : 0.0 W\n",
      "[codecarbon INFO @ 14:54:47] 0.004891 kWh of electricity used since the begining.\n",
      "[codecarbon INFO @ 14:55:02] Energy consumed for RAM : 0.004915 kWh. RAM Power : 5.755537033081055 W\n",
      "[codecarbon INFO @ 14:55:02] Energy consumed for all CPUs : 0.000000 kWh. All CPUs Power : 0.0 W\n",
      "[codecarbon INFO @ 14:55:02] 0.004915 kWh of electricity used since the begining.\n",
      "[codecarbon INFO @ 14:55:17] Energy consumed for RAM : 0.004939 kWh. RAM Power : 5.755537033081055 W\n",
      "[codecarbon INFO @ 14:55:17] Energy consumed for all CPUs : 0.000000 kWh. All CPUs Power : 0.0 W\n",
      "[codecarbon INFO @ 14:55:17] 0.004939 kWh of electricity used since the begining.\n"
     ]
    },
    {
     "name": "stdout",
     "output_type": "stream",
     "text": [
      "0.9818928504760128\n"
     ]
    },
    {
     "name": "stderr",
     "output_type": "stream",
     "text": [
      "[codecarbon INFO @ 14:55:32] Energy consumed for RAM : 0.004963 kWh. RAM Power : 5.755537033081055 W\n",
      "[codecarbon INFO @ 14:55:32] Energy consumed for all CPUs : 0.000000 kWh. All CPUs Power : 0.0 W\n",
      "[codecarbon INFO @ 14:55:32] 0.004963 kWh of electricity used since the begining.\n",
      "[codecarbon INFO @ 14:55:47] Energy consumed for RAM : 0.004987 kWh. RAM Power : 5.755537033081055 W\n",
      "[codecarbon INFO @ 14:55:47] Energy consumed for all CPUs : 0.000000 kWh. All CPUs Power : 0.0 W\n",
      "[codecarbon INFO @ 14:55:47] 0.004987 kWh of electricity used since the begining.\n"
     ]
    },
    {
     "name": "stdout",
     "output_type": "stream",
     "text": [
      "0.9934664924397985\n"
     ]
    },
    {
     "name": "stderr",
     "output_type": "stream",
     "text": [
      "[codecarbon INFO @ 14:56:02] Energy consumed for RAM : 0.005011 kWh. RAM Power : 5.755537033081055 W\n",
      "[codecarbon INFO @ 14:56:02] Energy consumed for all CPUs : 0.000000 kWh. All CPUs Power : 0.0 W\n",
      "[codecarbon INFO @ 14:56:02] 0.005011 kWh of electricity used since the begining.\n",
      "[codecarbon INFO @ 14:56:17] Energy consumed for RAM : 0.005035 kWh. RAM Power : 5.755537033081055 W\n",
      "[codecarbon INFO @ 14:56:17] Energy consumed for all CPUs : 0.000000 kWh. All CPUs Power : 0.0 W\n",
      "[codecarbon INFO @ 14:56:17] 0.005035 kWh of electricity used since the begining.\n"
     ]
    },
    {
     "name": "stdout",
     "output_type": "stream",
     "text": [
      "Test loss: 1.2917, Accuracy: 55.44%\n",
      "\n",
      "Communication round 10/50\n"
     ]
    },
    {
     "name": "stderr",
     "output_type": "stream",
     "text": [
      "[codecarbon INFO @ 14:56:32] Energy consumed for RAM : 0.005059 kWh. RAM Power : 5.755537033081055 W\n",
      "[codecarbon INFO @ 14:56:32] Energy consumed for all CPUs : 0.000000 kWh. All CPUs Power : 0.0 W\n",
      "[codecarbon INFO @ 14:56:32] 0.005059 kWh of electricity used since the begining.\n",
      "[codecarbon INFO @ 14:56:47] Energy consumed for RAM : 0.005083 kWh. RAM Power : 5.755537033081055 W\n",
      "[codecarbon INFO @ 14:56:47] Energy consumed for all CPUs : 0.000000 kWh. All CPUs Power : 0.0 W\n",
      "[codecarbon INFO @ 14:56:47] 0.005083 kWh of electricity used since the begining.\n",
      "[codecarbon INFO @ 14:57:02] Energy consumed for RAM : 0.005107 kWh. RAM Power : 5.755537033081055 W\n",
      "[codecarbon INFO @ 14:57:02] Energy consumed for all CPUs : 0.000000 kWh. All CPUs Power : 0.0 W\n",
      "[codecarbon INFO @ 14:57:02] 0.005107 kWh of electricity used since the begining.\n",
      "[codecarbon INFO @ 14:57:17] Energy consumed for RAM : 0.005131 kWh. RAM Power : 5.755537033081055 W\n",
      "[codecarbon INFO @ 14:57:17] Energy consumed for all CPUs : 0.000000 kWh. All CPUs Power : 0.0 W\n",
      "[codecarbon INFO @ 14:57:17] 0.005131 kWh of electricity used since the begining.\n",
      "[codecarbon INFO @ 14:57:32] Energy consumed for RAM : 0.005155 kWh. RAM Power : 5.755537033081055 W\n",
      "[codecarbon INFO @ 14:57:32] Energy consumed for all CPUs : 0.000000 kWh. All CPUs Power : 0.0 W\n",
      "[codecarbon INFO @ 14:57:32] 0.005155 kWh of electricity used since the begining.\n",
      "[codecarbon INFO @ 14:57:47] Energy consumed for RAM : 0.005179 kWh. RAM Power : 5.755537033081055 W\n",
      "[codecarbon INFO @ 14:57:47] Energy consumed for all CPUs : 0.000000 kWh. All CPUs Power : 0.0 W\n",
      "[codecarbon INFO @ 14:57:47] 0.005179 kWh of electricity used since the begining.\n",
      "[codecarbon INFO @ 14:58:02] Energy consumed for RAM : 0.005203 kWh. RAM Power : 5.755537033081055 W\n",
      "[codecarbon INFO @ 14:58:02] Energy consumed for all CPUs : 0.000000 kWh. All CPUs Power : 0.0 W\n",
      "[codecarbon INFO @ 14:58:02] 0.005203 kWh of electricity used since the begining.\n",
      "[codecarbon INFO @ 14:58:17] Energy consumed for RAM : 0.005227 kWh. RAM Power : 5.755537033081055 W\n",
      "[codecarbon INFO @ 14:58:17] Energy consumed for all CPUs : 0.000000 kWh. All CPUs Power : 0.0 W\n",
      "[codecarbon INFO @ 14:58:17] 0.005227 kWh of electricity used since the begining.\n",
      "[codecarbon INFO @ 14:58:32] Energy consumed for RAM : 0.005251 kWh. RAM Power : 5.755537033081055 W\n",
      "[codecarbon INFO @ 14:58:32] Energy consumed for all CPUs : 0.000000 kWh. All CPUs Power : 0.0 W\n",
      "[codecarbon INFO @ 14:58:32] 0.005251 kWh of electricity used since the begining.\n",
      "[codecarbon INFO @ 14:58:47] Energy consumed for RAM : 0.005275 kWh. RAM Power : 5.755537033081055 W\n",
      "[codecarbon INFO @ 14:58:47] Energy consumed for all CPUs : 0.000000 kWh. All CPUs Power : 0.0 W\n",
      "[codecarbon INFO @ 14:58:47] 0.005275 kWh of electricity used since the begining.\n",
      "[codecarbon INFO @ 14:59:02] Energy consumed for RAM : 0.005299 kWh. RAM Power : 5.755537033081055 W\n",
      "[codecarbon INFO @ 14:59:02] Energy consumed for all CPUs : 0.000000 kWh. All CPUs Power : 0.0 W\n",
      "[codecarbon INFO @ 14:59:02] 0.005299 kWh of electricity used since the begining.\n",
      "[codecarbon INFO @ 14:59:17] Energy consumed for RAM : 0.005323 kWh. RAM Power : 5.755537033081055 W\n",
      "[codecarbon INFO @ 14:59:17] Energy consumed for all CPUs : 0.000000 kWh. All CPUs Power : 0.0 W\n",
      "[codecarbon INFO @ 14:59:17] 0.005323 kWh of electricity used since the begining.\n",
      "[codecarbon INFO @ 14:59:32] Energy consumed for RAM : 0.005347 kWh. RAM Power : 5.755537033081055 W\n",
      "[codecarbon INFO @ 14:59:32] Energy consumed for all CPUs : 0.000000 kWh. All CPUs Power : 0.0 W\n",
      "[codecarbon INFO @ 14:59:32] 0.005347 kWh of electricity used since the begining.\n",
      "[codecarbon INFO @ 14:59:47] Energy consumed for RAM : 0.005371 kWh. RAM Power : 5.755537033081055 W\n",
      "[codecarbon INFO @ 14:59:47] Energy consumed for all CPUs : 0.000000 kWh. All CPUs Power : 0.0 W\n",
      "[codecarbon INFO @ 14:59:47] 0.005371 kWh of electricity used since the begining.\n",
      "[codecarbon INFO @ 15:00:02] Energy consumed for RAM : 0.005395 kWh. RAM Power : 5.755537033081055 W\n",
      "[codecarbon INFO @ 15:00:02] Energy consumed for all CPUs : 0.000000 kWh. All CPUs Power : 0.0 W\n",
      "[codecarbon INFO @ 15:00:02] 0.005395 kWh of electricity used since the begining.\n"
     ]
    },
    {
     "name": "stdout",
     "output_type": "stream",
     "text": [
      "0.9716285924834194\n"
     ]
    },
    {
     "name": "stderr",
     "output_type": "stream",
     "text": [
      "[codecarbon INFO @ 15:00:17] Energy consumed for RAM : 0.005419 kWh. RAM Power : 5.755537033081055 W\n",
      "[codecarbon INFO @ 15:00:17] Energy consumed for all CPUs : 0.000000 kWh. All CPUs Power : 0.0 W\n",
      "[codecarbon INFO @ 15:00:17] 0.005419 kWh of electricity used since the begining.\n",
      "[codecarbon INFO @ 15:00:32] Energy consumed for RAM : 0.005443 kWh. RAM Power : 5.755537033081055 W\n",
      "[codecarbon INFO @ 15:00:32] Energy consumed for all CPUs : 0.000000 kWh. All CPUs Power : 0.0 W\n",
      "[codecarbon INFO @ 15:00:32] 0.005443 kWh of electricity used since the begining.\n"
     ]
    },
    {
     "name": "stdout",
     "output_type": "stream",
     "text": [
      "0.9789977892409728\n"
     ]
    },
    {
     "name": "stderr",
     "output_type": "stream",
     "text": [
      "[codecarbon INFO @ 15:00:47] Energy consumed for RAM : 0.005467 kWh. RAM Power : 5.755537033081055 W\n",
      "[codecarbon INFO @ 15:00:47] Energy consumed for all CPUs : 0.000000 kWh. All CPUs Power : 0.0 W\n",
      "[codecarbon INFO @ 15:00:47] 0.005467 kWh of electricity used since the begining.\n",
      "[codecarbon INFO @ 15:01:02] Energy consumed for RAM : 0.005491 kWh. RAM Power : 5.755537033081055 W\n",
      "[codecarbon INFO @ 15:01:02] Energy consumed for all CPUs : 0.000000 kWh. All CPUs Power : 0.0 W\n",
      "[codecarbon INFO @ 15:01:02] 0.005491 kWh of electricity used since the begining.\n"
     ]
    },
    {
     "name": "stdout",
     "output_type": "stream",
     "text": [
      "0.9801031687546059\n"
     ]
    },
    {
     "name": "stderr",
     "output_type": "stream",
     "text": [
      "[codecarbon INFO @ 15:01:17] Energy consumed for RAM : 0.005515 kWh. RAM Power : 5.755537033081055 W\n",
      "[codecarbon INFO @ 15:01:17] Energy consumed for all CPUs : 0.000000 kWh. All CPUs Power : 0.0 W\n",
      "[codecarbon INFO @ 15:01:17] 0.005515 kWh of electricity used since the begining.\n",
      "[codecarbon INFO @ 15:01:32] Energy consumed for RAM : 0.005539 kWh. RAM Power : 5.755537033081055 W\n",
      "[codecarbon INFO @ 15:01:32] Energy consumed for all CPUs : 0.000000 kWh. All CPUs Power : 0.0 W\n",
      "[codecarbon INFO @ 15:01:32] 0.005539 kWh of electricity used since the begining.\n",
      "[codecarbon INFO @ 15:01:47] Energy consumed for RAM : 0.005563 kWh. RAM Power : 5.755537033081055 W\n",
      "[codecarbon INFO @ 15:01:47] Energy consumed for all CPUs : 0.000000 kWh. All CPUs Power : 0.0 W\n",
      "[codecarbon INFO @ 15:01:47] 0.005563 kWh of electricity used since the begining.\n"
     ]
    },
    {
     "name": "stdout",
     "output_type": "stream",
     "text": [
      "1.0\n"
     ]
    },
    {
     "name": "stderr",
     "output_type": "stream",
     "text": [
      "[codecarbon INFO @ 15:02:02] Energy consumed for RAM : 0.005587 kWh. RAM Power : 5.755537033081055 W\n",
      "[codecarbon INFO @ 15:02:02] Energy consumed for all CPUs : 0.000000 kWh. All CPUs Power : 0.0 W\n",
      "[codecarbon INFO @ 15:02:02] 0.005587 kWh of electricity used since the begining.\n",
      "[codecarbon INFO @ 15:02:17] Energy consumed for RAM : 0.005611 kWh. RAM Power : 5.755537033081055 W\n",
      "[codecarbon INFO @ 15:02:17] Energy consumed for all CPUs : 0.000000 kWh. All CPUs Power : 0.0 W\n",
      "[codecarbon INFO @ 15:02:17] 0.005611 kWh of electricity used since the begining.\n",
      "[codecarbon INFO @ 15:02:32] Energy consumed for RAM : 0.005635 kWh. RAM Power : 5.755537033081055 W\n",
      "[codecarbon INFO @ 15:02:32] Energy consumed for all CPUs : 0.000000 kWh. All CPUs Power : 0.0 W\n",
      "[codecarbon INFO @ 15:02:32] 0.005635 kWh of electricity used since the begining.\n"
     ]
    },
    {
     "ename": "",
     "evalue": "",
     "output_type": "error",
     "traceback": [
      "\u001b[1;31mCanceled future for execute_request message before replies were done"
     ]
    },
    {
     "ename": "",
     "evalue": "",
     "output_type": "error",
     "traceback": [
      "\u001b[1;31mThe Kernel crashed while executing code in the the current cell or a previous cell. Please review the code in the cell(s) to identify a possible cause of the failure. Click <a href='https://aka.ms/vscodeJupyterKernelCrash'>here</a> for more info. View Jupyter <a href='command:jupyter.viewOutput'>log</a> for further details."
     ]
    }
   ],
   "source": [
    "import torch\n",
    "import torch.nn as nn\n",
    "import torch.optim as optim\n",
    "import torch.nn.functional as F\n",
    "import torchvision\n",
    "import torchvision.transforms as transforms\n",
    "from torch.utils.data import DataLoader, Subset\n",
    "from collections import OrderedDict\n",
    "import numpy as np\n",
    "from torchvision.models import vgg16\n",
    "from codecarbon import EmissionsTracker\n",
    "\n",
    "\n",
    "tracker = EmissionsTracker()\n",
    "tracker.start()\n",
    "\n",
    "\n",
    "\n",
    "def get_vgg16_model(num_classes):\n",
    "    model = vgg16(pretrained=True)\n",
    "    for param in model.parameters():\n",
    "        param.requires_grad = False\n",
    "    num_features = model.classifier[6].in_features\n",
    "    model.classifier[6] = nn.Linear(num_features, num_classes)\n",
    "    return model\n",
    "\n",
    "\n",
    "\n",
    "def train_model(model, device, train_loader, optimizer, epoch):\n",
    "    model.train()\n",
    "    for batch_idx, (data, target) in enumerate(train_loader):\n",
    "        data, target = data.to(device), target.to(device)\n",
    "        optimizer.zero_grad()\n",
    "        output = model(data)\n",
    "        loss = nn.CrossEntropyLoss()(output, target)\n",
    "        loss.backward()\n",
    "        optimizer.step()\n",
    "\n",
    "def test_model(model, device, test_loader):\n",
    "    model.eval()\n",
    "    test_loss = 0\n",
    "    correct = 0\n",
    "    with torch.no_grad():\n",
    "        for data, target in test_loader:\n",
    "            data, target = data.to(device), target.to(device)\n",
    "            output = model(data)\n",
    "            test_loss += nn.CrossEntropyLoss(reduction='sum')(output, target).item()\n",
    "            pred = output.argmax(dim=1, keepdim=True)\n",
    "            correct += pred.eq(target.view_as(pred)).sum().item()\n",
    "\n",
    "    return test_loss / len(test_loader.dataset), correct / len(test_loader.dataset)\n",
    "\n",
    "def average_weights(weight_list):\n",
    "    avg_weights = OrderedDict()\n",
    "    for key in weight_list[0].keys():\n",
    "        avg_weights[key] = sum([client_weights[key] for client_weights in weight_list]) / len(weight_list)\n",
    "    return avg_weights\n",
    "    \n",
    "def create_client_dataset(dataset, num_clients):\n",
    "    indices = list(range(len(dataset)))\n",
    "    np.random.shuffle(indices)\n",
    "    client_indices = np.array_split(indices, num_clients)\n",
    "    client_datasets = [Subset(dataset, index_list) for index_list in client_indices]\n",
    "    return client_datasets\n",
    "\n",
    "# Load the CIFAR-10 dataset\n",
    "transform = transforms.Compose([transforms.RandomHorizontalFlip(), transforms.RandomCrop(32, padding=4), transforms.ToTensor(), transforms.Normalize((0.5, 0.5, 0.5), (0.5, 0.5, 0.5))])\n",
    "train_dataset = torchvision.datasets.CIFAR10(root='./data', train=True, download=True, transform=transform)\n",
    "test_dataset = torchvision.datasets.CIFAR10(root='./data', train=False, download=True, transform=transform)\n",
    "\n",
    "num_clients = 5\n",
    "client_datasets = create_client_dataset(train_dataset, num_clients)\n",
    "train_loaders = [DataLoader(client_dataset, batch_size=100, shuffle=True) for client_dataset in client_datasets]\n",
    "test_loader = DataLoader(test_dataset, batch_size=100, shuffle=False)\n",
    "\n",
    "device = torch.device('cuda' if torch.cuda.is_available() else 'cpu')\n",
    "epochs = 10\n",
    "\n",
    "\n",
    "# ... (previous code remains the same) ...\n",
    "\n",
    "def federated_learning(train_loaders, test_loader, device, epochs, num_clients, communication_rounds, client_weighting, clients_per_round):\n",
    "    global_model = get_vgg16_model(10).to(device)\n",
    "    client_models = [get_vgg16_model(10).to(device) for _ in range(num_clients)]\n",
    "\n",
    "    for client_model in client_models:\n",
    "        client_model.load_state_dict(global_model.state_dict())\n",
    "\n",
    "    for com_round in range(1, communication_rounds + 1):\n",
    "        print(f'Communication round {com_round}/{communication_rounds}')\n",
    "\n",
    "        selected_clients = np.random.choice(range(num_clients), size=clients_per_round, replace=False)\n",
    "        client_weights = []\n",
    "\n",
    "        client_accuracies = []\n",
    "        if client_weighting:\n",
    "            for idx in selected_clients:\n",
    "                client_model = client_models[idx]\n",
    "                test_loss, client_accuracy = test_model(client_model, device, test_loader)\n",
    "                client_accuracies.append(client_accuracy)\n",
    "            max_accuracy = max(client_accuracies)\n",
    "\n",
    "        for idx, client_idx in enumerate(selected_clients):\n",
    "            client_model = client_models[client_idx]\n",
    "            optimizer = optim.SGD(client_model.parameters(), lr=0.001, momentum=0.9)\n",
    "            train_model(client_model, device, train_loaders[client_idx], optimizer, epochs)\n",
    "\n",
    "            if client_weighting:\n",
    "                client_weight = client_accuracies[idx] / max_accuracy\n",
    "                print(client_weight)\n",
    "            else:\n",
    "                client_weight = 1\n",
    "\n",
    "            weighted_client_state = OrderedDict()\n",
    "\n",
    "            for key in client_model.state_dict().keys():\n",
    "                weighted_client_state[key] = client_model.state_dict()[key] * client_weight\n",
    "\n",
    "            client_weights.append(weighted_client_state)\n",
    "\n",
    "        global_weights = average_weights(client_weights)\n",
    "        global_model.load_state_dict(global_weights)\n",
    "\n",
    "        test_loss, accuracy = test_model(global_model, device, test_loader)\n",
    "        print(f'Test loss: {test_loss:.4f}, Accuracy: {accuracy * 100:.2f}%\\n')\n",
    "\n",
    "    return global_model\n",
    "\n",
    "\n",
    "\n",
    "communication_rounds = 50\n",
    "client_weighting = True\n",
    "clients_per_round = 5\n",
    "\n",
    "federated_model = federated_learning(train_loaders, test_loader, device, epochs, num_clients, communication_rounds, client_weighting, clients_per_round)\n",
    "\n",
    "\n",
    "tracker.stop()\n"
   ]
  },
  {
   "cell_type": "code",
   "execution_count": null,
   "metadata": {},
   "outputs": [],
   "source": []
  }
 ],
 "metadata": {
  "kernelspec": {
   "display_name": "Python 3.8.16 ('jessVIT')",
   "language": "python",
   "name": "python3"
  },
  "language_info": {
   "codemirror_mode": {
    "name": "ipython",
    "version": 3
   },
   "file_extension": ".py",
   "mimetype": "text/x-python",
   "name": "python",
   "nbconvert_exporter": "python",
   "pygments_lexer": "ipython3",
   "version": "3.8.16"
  },
  "orig_nbformat": 4,
  "vscode": {
   "interpreter": {
    "hash": "cf8fa5aea382284d3485dc5460c54fd3d5550fab184fdf72c2e9b70f5312d5ea"
   }
  }
 },
 "nbformat": 4,
 "nbformat_minor": 2
}
