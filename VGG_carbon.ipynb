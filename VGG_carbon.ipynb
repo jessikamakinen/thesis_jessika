{
 "cells": [
  {
   "cell_type": "code",
   "execution_count": 3,
   "metadata": {},
   "outputs": [],
   "source": [
    "import tensorflow as tf\n",
    "from tensorflow.keras.datasets import cifar10\n",
    "from tensorflow.keras.models import Sequential\n",
    "from tensorflow.keras.layers import Dense, Dropout, Flatten\n",
    "from tensorflow.keras.optimizers import Adam\n",
    "from tensorflow.keras.applications.vgg16 import VGG16\n",
    "from codecarbon import EmissionsTracker\n"
   ]
  },
  {
   "cell_type": "code",
   "execution_count": 4,
   "metadata": {},
   "outputs": [
    {
     "name": "stderr",
     "output_type": "stream",
     "text": [
      "[codecarbon INFO @ 12:37:29] [setup] RAM Tracking...\n",
      "[codecarbon INFO @ 12:37:29] [setup] GPU Tracking...\n",
      "[codecarbon INFO @ 12:37:29] No GPU found.\n",
      "[codecarbon INFO @ 12:37:29] [setup] CPU Tracking...\n",
      "[codecarbon ERROR @ 12:37:29] Unable to read Intel RAPL files for CPU power, we will use a constant for your CPU power. Please view https://github.com/mlco2/codecarbon/issues/244 for workarounds : [Errno 13] Permission denied: '/sys/class/powercap/intel-rapl/intel-rapl:1/energy_uj'\n",
      "[codecarbon ERROR @ 12:37:29] Unable to read Intel RAPL files for CPU power, we will use a constant for your CPU power. Please view https://github.com/mlco2/codecarbon/issues/244 for workarounds : [Errno 13] Permission denied: '/sys/class/powercap/intel-rapl/intel-rapl:0/energy_uj'\n",
      "[codecarbon INFO @ 12:37:29] Tracking Intel CPU via RAPL interface\n",
      "[codecarbon ERROR @ 12:37:30] Unable to read Intel RAPL files for CPU power, we will use a constant for your CPU power. Please view https://github.com/mlco2/codecarbon/issues/244 for workarounds : [Errno 13] Permission denied: '/sys/class/powercap/intel-rapl/intel-rapl:1/energy_uj'\n",
      "[codecarbon ERROR @ 12:37:30] Unable to read Intel RAPL files for CPU power, we will use a constant for your CPU power. Please view https://github.com/mlco2/codecarbon/issues/244 for workarounds : [Errno 13] Permission denied: '/sys/class/powercap/intel-rapl/intel-rapl:0/energy_uj'\n",
      "[codecarbon INFO @ 12:37:30] >>> Tracker's metadata:\n",
      "[codecarbon INFO @ 12:37:30]   Platform system: Linux-5.14.0-1058-oem-x86_64-with-glibc2.17\n",
      "[codecarbon INFO @ 12:37:30]   Python version: 3.8.16\n",
      "[codecarbon INFO @ 12:37:30]   Available RAM : 15.348 GB\n",
      "[codecarbon INFO @ 12:37:30]   CPU count: 8\n",
      "[codecarbon INFO @ 12:37:30]   CPU model: 11th Gen Intel(R) Core(TM) i7-1165G7 @ 2.80GHz\n",
      "[codecarbon INFO @ 12:37:30]   GPU count: None\n",
      "[codecarbon INFO @ 12:37:30]   GPU model: None\n",
      "[codecarbon INFO @ 12:37:37] Unable to access geographical location.                 Using 'Canada' as the default value\n",
      "2023-04-10 12:37:38.403065: W tensorflow/core/framework/cpu_allocator_impl.cc:80] Allocation of 614400000 exceeds 10% of free system memory.\n"
     ]
    },
    {
     "name": "stdout",
     "output_type": "stream",
     "text": [
      "Epoch 1/10\n",
      "  9/391 [..............................] - ETA: 2:16 - loss: 3.2561 - accuracy: 0.1326"
     ]
    },
    {
     "name": "stderr",
     "output_type": "stream",
     "text": [
      "[codecarbon INFO @ 12:37:43] Energy consumed for RAM : 0.000072 kWh. RAM Power : 5.755537033081055 W\n",
      "[codecarbon INFO @ 12:37:43] Energy consumed for all CPUs : 0.000000 kWh. All CPUs Power : 0.0 W\n",
      "[codecarbon INFO @ 12:37:43] 0.000072 kWh of electricity used since the begining.\n"
     ]
    },
    {
     "name": "stdout",
     "output_type": "stream",
     "text": [
      " 34/391 [=>............................] - ETA: 2:07 - loss: 2.6670 - accuracy: 0.2216"
     ]
    },
    {
     "name": "stderr",
     "output_type": "stream",
     "text": [
      "[codecarbon INFO @ 12:37:52] Energy consumed for RAM : 0.000024 kWh. RAM Power : 5.755537033081055 W\n",
      "[codecarbon INFO @ 12:37:52] Energy consumed for all CPUs : 0.000000 kWh. All CPUs Power : 0.0 W\n",
      "[codecarbon INFO @ 12:37:52] 0.000024 kWh of electricity used since the begining.\n"
     ]
    },
    {
     "name": "stdout",
     "output_type": "stream",
     "text": [
      " 51/391 [==>...........................] - ETA: 2:01 - loss: 2.4631 - accuracy: 0.2574"
     ]
    },
    {
     "name": "stderr",
     "output_type": "stream",
     "text": [
      "[codecarbon INFO @ 12:37:58] Energy consumed for RAM : 0.000096 kWh. RAM Power : 5.755537033081055 W\n"
     ]
    },
    {
     "name": "stdout",
     "output_type": "stream",
     "text": [
      " 52/391 [==>...........................] - ETA: 2:00 - loss: 2.4536 - accuracy: 0.2592"
     ]
    },
    {
     "name": "stderr",
     "output_type": "stream",
     "text": [
      "[codecarbon INFO @ 12:37:58] Energy consumed for all CPUs : 0.000000 kWh. All CPUs Power : 0.0 W\n",
      "[codecarbon INFO @ 12:37:58] 0.000096 kWh of electricity used since the begining.\n"
     ]
    },
    {
     "name": "stdout",
     "output_type": "stream",
     "text": [
      " 76/391 [====>.........................] - ETA: 1:52 - loss: 2.2712 - accuracy: 0.2959"
     ]
    },
    {
     "name": "stderr",
     "output_type": "stream",
     "text": [
      "[codecarbon INFO @ 12:38:07] Energy consumed for RAM : 0.000048 kWh. RAM Power : 5.755537033081055 W\n",
      "[codecarbon INFO @ 12:38:07] Energy consumed for all CPUs : 0.000000 kWh. All CPUs Power : 0.0 W\n",
      "[codecarbon INFO @ 12:38:07] 0.000048 kWh of electricity used since the begining.\n"
     ]
    },
    {
     "name": "stdout",
     "output_type": "stream",
     "text": [
      " 93/391 [======>.......................] - ETA: 1:46 - loss: 2.1816 - accuracy: 0.3149"
     ]
    },
    {
     "name": "stderr",
     "output_type": "stream",
     "text": [
      "[codecarbon INFO @ 12:38:13] Energy consumed for RAM : 0.000120 kWh. RAM Power : 5.755537033081055 W\n",
      "[codecarbon INFO @ 12:38:13] Energy consumed for all CPUs : 0.000000 kWh. All CPUs Power : 0.0 W\n",
      "[codecarbon INFO @ 12:38:13] 0.000120 kWh of electricity used since the begining.\n"
     ]
    },
    {
     "name": "stdout",
     "output_type": "stream",
     "text": [
      "118/391 [========>.....................] - ETA: 1:37 - loss: 2.0842 - accuracy: 0.3362"
     ]
    },
    {
     "name": "stderr",
     "output_type": "stream",
     "text": [
      "[codecarbon INFO @ 12:38:22] Energy consumed for RAM : 0.000072 kWh. RAM Power : 5.755537033081055 W\n",
      "[codecarbon INFO @ 12:38:22] Energy consumed for all CPUs : 0.000000 kWh. All CPUs Power : 0.0 W\n",
      "[codecarbon INFO @ 12:38:22] 0.000072 kWh of electricity used since the begining.\n"
     ]
    },
    {
     "name": "stdout",
     "output_type": "stream",
     "text": [
      "136/391 [=========>....................] - ETA: 1:30 - loss: 2.0299 - accuracy: 0.3483"
     ]
    },
    {
     "name": "stderr",
     "output_type": "stream",
     "text": [
      "[codecarbon INFO @ 12:38:28] Energy consumed for RAM : 0.000144 kWh. RAM Power : 5.755537033081055 W\n",
      "[codecarbon INFO @ 12:38:28] Energy consumed for all CPUs : 0.000000 kWh. All CPUs Power : 0.0 W\n",
      "[codecarbon INFO @ 12:38:28] 0.000144 kWh of electricity used since the begining.\n"
     ]
    },
    {
     "name": "stdout",
     "output_type": "stream",
     "text": [
      "160/391 [===========>..................] - ETA: 1:22 - loss: 1.9709 - accuracy: 0.3619"
     ]
    },
    {
     "name": "stderr",
     "output_type": "stream",
     "text": [
      "[codecarbon INFO @ 12:38:37] Energy consumed for RAM : 0.000096 kWh. RAM Power : 5.755537033081055 W\n",
      "[codecarbon INFO @ 12:38:37] Energy consumed for all CPUs : 0.000000 kWh. All CPUs Power : 0.0 W\n",
      "[codecarbon INFO @ 12:38:37] 0.000096 kWh of electricity used since the begining.\n"
     ]
    },
    {
     "name": "stdout",
     "output_type": "stream",
     "text": [
      "177/391 [============>.................] - ETA: 1:16 - loss: 1.9359 - accuracy: 0.3701"
     ]
    },
    {
     "name": "stderr",
     "output_type": "stream",
     "text": [
      "[codecarbon INFO @ 12:38:43] Energy consumed for RAM : 0.000168 kWh. RAM Power : 5.755537033081055 W\n",
      "[codecarbon INFO @ 12:38:43] Energy consumed for all CPUs : 0.000000 kWh. All CPUs Power : 0.0 W\n",
      "[codecarbon INFO @ 12:38:43] 0.000168 kWh of electricity used since the begining.\n"
     ]
    },
    {
     "name": "stdout",
     "output_type": "stream",
     "text": [
      "201/391 [==============>...............] - ETA: 1:08 - loss: 1.8940 - accuracy: 0.3799"
     ]
    },
    {
     "name": "stderr",
     "output_type": "stream",
     "text": [
      "[codecarbon INFO @ 12:38:52] Energy consumed for RAM : 0.000120 kWh. RAM Power : 5.755537033081055 W\n",
      "[codecarbon INFO @ 12:38:52] Energy consumed for all CPUs : 0.000000 kWh. All CPUs Power : 0.0 W\n",
      "[codecarbon INFO @ 12:38:52] 0.000120 kWh of electricity used since the begining.\n"
     ]
    },
    {
     "name": "stdout",
     "output_type": "stream",
     "text": [
      "218/391 [===============>..............] - ETA: 1:02 - loss: 1.8683 - accuracy: 0.3861"
     ]
    },
    {
     "name": "stderr",
     "output_type": "stream",
     "text": [
      "[codecarbon INFO @ 12:38:58] Energy consumed for RAM : 0.000192 kWh. RAM Power : 5.755537033081055 W\n",
      "[codecarbon INFO @ 12:38:58] Energy consumed for all CPUs : 0.000000 kWh. All CPUs Power : 0.0 W\n",
      "[codecarbon INFO @ 12:38:58] 0.000192 kWh of electricity used since the begining.\n"
     ]
    },
    {
     "name": "stdout",
     "output_type": "stream",
     "text": [
      "242/391 [=================>............] - ETA: 53s - loss: 1.8365 - accuracy: 0.3938"
     ]
    },
    {
     "name": "stderr",
     "output_type": "stream",
     "text": [
      "[codecarbon INFO @ 12:39:07] Energy consumed for RAM : 0.000144 kWh. RAM Power : 5.755537033081055 W\n",
      "[codecarbon INFO @ 12:39:07] Energy consumed for all CPUs : 0.000000 kWh. All CPUs Power : 0.0 W\n",
      "[codecarbon INFO @ 12:39:07] 0.000144 kWh of electricity used since the begining.\n"
     ]
    },
    {
     "name": "stdout",
     "output_type": "stream",
     "text": [
      "260/391 [==================>...........] - ETA: 47s - loss: 1.8154 - accuracy: 0.3990"
     ]
    },
    {
     "name": "stderr",
     "output_type": "stream",
     "text": [
      "[codecarbon INFO @ 12:39:13] Energy consumed for RAM : 0.000216 kWh. RAM Power : 5.755537033081055 W\n",
      "[codecarbon INFO @ 12:39:13] Energy consumed for all CPUs : 0.000000 kWh. All CPUs Power : 0.0 W\n",
      "[codecarbon INFO @ 12:39:13] 0.000216 kWh of electricity used since the begining.\n"
     ]
    },
    {
     "name": "stdout",
     "output_type": "stream",
     "text": [
      "283/391 [====================>.........] - ETA: 38s - loss: 1.7911 - accuracy: 0.4050"
     ]
    },
    {
     "name": "stderr",
     "output_type": "stream",
     "text": [
      "[codecarbon INFO @ 12:39:22] Energy consumed for RAM : 0.000168 kWh. RAM Power : 5.755537033081055 W\n",
      "[codecarbon INFO @ 12:39:22] Energy consumed for all CPUs : 0.000000 kWh. All CPUs Power : 0.0 W\n",
      "[codecarbon INFO @ 12:39:22] 0.000168 kWh of electricity used since the begining.\n"
     ]
    },
    {
     "name": "stdout",
     "output_type": "stream",
     "text": [
      "301/391 [======================>.......] - ETA: 32s - loss: 1.7741 - accuracy: 0.4093"
     ]
    },
    {
     "name": "stderr",
     "output_type": "stream",
     "text": [
      "[codecarbon INFO @ 12:39:28] Energy consumed for RAM : 0.000240 kWh. RAM Power : 5.755537033081055 W\n",
      "[codecarbon INFO @ 12:39:28] Energy consumed for all CPUs : 0.000000 kWh. All CPUs Power : 0.0 W\n",
      "[codecarbon INFO @ 12:39:28] 0.000240 kWh of electricity used since the begining.\n"
     ]
    },
    {
     "name": "stdout",
     "output_type": "stream",
     "text": [
      "325/391 [=======================>......] - ETA: 23s - loss: 1.7534 - accuracy: 0.4145"
     ]
    },
    {
     "name": "stderr",
     "output_type": "stream",
     "text": [
      "[codecarbon INFO @ 12:39:37] Energy consumed for RAM : 0.000192 kWh. RAM Power : 5.755537033081055 W\n",
      "[codecarbon INFO @ 12:39:37] Energy consumed for all CPUs : 0.000000 kWh. All CPUs Power : 0.0 W\n",
      "[codecarbon INFO @ 12:39:37] 0.000192 kWh of electricity used since the begining.\n"
     ]
    },
    {
     "name": "stdout",
     "output_type": "stream",
     "text": [
      "341/391 [=========================>....] - ETA: 18s - loss: 1.7407 - accuracy: 0.4178"
     ]
    },
    {
     "name": "stderr",
     "output_type": "stream",
     "text": [
      "[codecarbon INFO @ 12:39:43] Energy consumed for RAM : 0.000264 kWh. RAM Power : 5.755537033081055 W\n",
      "[codecarbon INFO @ 12:39:43] Energy consumed for all CPUs : 0.000000 kWh. All CPUs Power : 0.0 W\n",
      "[codecarbon INFO @ 12:39:43] 0.000264 kWh of electricity used since the begining.\n"
     ]
    },
    {
     "name": "stdout",
     "output_type": "stream",
     "text": [
      "364/391 [==========================>...] - ETA: 9s - loss: 1.7237 - accuracy: 0.4222 "
     ]
    },
    {
     "name": "stderr",
     "output_type": "stream",
     "text": [
      "[codecarbon INFO @ 12:39:52] Energy consumed for RAM : 0.000216 kWh. RAM Power : 5.755537033081055 W\n",
      "[codecarbon INFO @ 12:39:52] Energy consumed for all CPUs : 0.000000 kWh. All CPUs Power : 0.0 W\n",
      "[codecarbon INFO @ 12:39:52] 0.000216 kWh of electricity used since the begining.\n"
     ]
    },
    {
     "name": "stdout",
     "output_type": "stream",
     "text": [
      "381/391 [============================>.] - ETA: 3s - loss: 1.7121 - accuracy: 0.4252"
     ]
    },
    {
     "name": "stderr",
     "output_type": "stream",
     "text": [
      "[codecarbon INFO @ 12:39:58] Energy consumed for RAM : 0.000288 kWh. RAM Power : 5.755537033081055 W\n",
      "[codecarbon INFO @ 12:39:58] Energy consumed for all CPUs : 0.000000 kWh. All CPUs Power : 0.0 W\n",
      "[codecarbon INFO @ 12:39:58] 0.000288 kWh of electricity used since the begining.\n"
     ]
    },
    {
     "name": "stdout",
     "output_type": "stream",
     "text": [
      "391/391 [==============================] - ETA: 0s - loss: 1.7056 - accuracy: 0.4269"
     ]
    },
    {
     "name": "stderr",
     "output_type": "stream",
     "text": [
      "[codecarbon INFO @ 12:40:07] Energy consumed for RAM : 0.000240 kWh. RAM Power : 5.755537033081055 W\n",
      "[codecarbon INFO @ 12:40:07] Energy consumed for all CPUs : 0.000000 kWh. All CPUs Power : 0.0 W\n",
      "[codecarbon INFO @ 12:40:07] 0.000240 kWh of electricity used since the begining.\n",
      "[codecarbon INFO @ 12:40:13] Energy consumed for RAM : 0.000312 kWh. RAM Power : 5.755537033081055 W\n",
      "[codecarbon INFO @ 12:40:13] Energy consumed for all CPUs : 0.000000 kWh. All CPUs Power : 0.0 W\n",
      "[codecarbon INFO @ 12:40:13] 0.000312 kWh of electricity used since the begining.\n",
      "[codecarbon INFO @ 12:40:22] Energy consumed for RAM : 0.000264 kWh. RAM Power : 5.755537033081055 W\n",
      "[codecarbon INFO @ 12:40:22] Energy consumed for all CPUs : 0.000000 kWh. All CPUs Power : 0.0 W\n",
      "[codecarbon INFO @ 12:40:22] 0.000264 kWh of electricity used since the begining.\n"
     ]
    },
    {
     "name": "stdout",
     "output_type": "stream",
     "text": [
      "391/391 [==============================] - 166s 424ms/step - loss: 1.7050 - accuracy: 0.4271 - val_loss: 1.2904 - val_accuracy: 0.5420\n",
      "Epoch 2/10\n",
      "  8/391 [..............................] - ETA: 2:22 - loss: 1.2769 - accuracy: 0.5475"
     ]
    },
    {
     "name": "stderr",
     "output_type": "stream",
     "text": [
      "[codecarbon INFO @ 12:40:28] Energy consumed for RAM : 0.000336 kWh. RAM Power : 5.755537033081055 W\n",
      "[codecarbon INFO @ 12:40:28] Energy consumed for all CPUs : 0.000000 kWh. All CPUs Power : 0.0 W\n",
      "[codecarbon INFO @ 12:40:28] 0.000336 kWh of electricity used since the begining.\n"
     ]
    },
    {
     "name": "stdout",
     "output_type": "stream",
     "text": [
      " 31/391 [=>............................] - ETA: 2:15 - loss: 1.2892 - accuracy: 0.5497"
     ]
    },
    {
     "name": "stderr",
     "output_type": "stream",
     "text": [
      "[codecarbon INFO @ 12:40:37] Energy consumed for RAM : 0.000288 kWh. RAM Power : 5.755537033081055 W\n",
      "[codecarbon INFO @ 12:40:37] Energy consumed for all CPUs : 0.000000 kWh. All CPUs Power : 0.0 W\n",
      "[codecarbon INFO @ 12:40:37] 0.000288 kWh of electricity used since the begining.\n"
     ]
    },
    {
     "name": "stdout",
     "output_type": "stream",
     "text": [
      " 48/391 [==>...........................] - ETA: 2:08 - loss: 1.2890 - accuracy: 0.5513"
     ]
    },
    {
     "name": "stderr",
     "output_type": "stream",
     "text": [
      "[codecarbon INFO @ 12:40:43] Energy consumed for RAM : 0.000360 kWh. RAM Power : 5.755537033081055 W\n",
      "[codecarbon INFO @ 12:40:43] Energy consumed for all CPUs : 0.000000 kWh. All CPUs Power : 0.0 W\n",
      "[codecarbon INFO @ 12:40:43] 0.000360 kWh of electricity used since the begining.\n"
     ]
    },
    {
     "name": "stdout",
     "output_type": "stream",
     "text": [
      " 70/391 [====>.........................] - ETA: 2:01 - loss: 1.2872 - accuracy: 0.5516"
     ]
    },
    {
     "name": "stderr",
     "output_type": "stream",
     "text": [
      "[codecarbon INFO @ 12:40:52] Energy consumed for RAM : 0.000312 kWh. RAM Power : 5.755537033081055 W\n",
      "[codecarbon INFO @ 12:40:52] Energy consumed for all CPUs : 0.000000 kWh. All CPUs Power : 0.0 W\n",
      "[codecarbon INFO @ 12:40:52] 0.000312 kWh of electricity used since the begining.\n"
     ]
    },
    {
     "name": "stdout",
     "output_type": "stream",
     "text": [
      " 87/391 [=====>........................] - ETA: 1:54 - loss: 1.2867 - accuracy: 0.5510"
     ]
    },
    {
     "name": "stderr",
     "output_type": "stream",
     "text": [
      "[codecarbon INFO @ 12:40:58] Energy consumed for RAM : 0.000384 kWh. RAM Power : 5.755537033081055 W\n",
      "[codecarbon INFO @ 12:40:58] Energy consumed for all CPUs : 0.000000 kWh. All CPUs Power : 0.0 W\n",
      "[codecarbon INFO @ 12:40:58] 0.000384 kWh of electricity used since the begining.\n"
     ]
    },
    {
     "name": "stdout",
     "output_type": "stream",
     "text": [
      "110/391 [=======>......................] - ETA: 1:45 - loss: 1.2859 - accuracy: 0.5503"
     ]
    },
    {
     "name": "stderr",
     "output_type": "stream",
     "text": [
      "[codecarbon INFO @ 12:41:07] Energy consumed for RAM : 0.000336 kWh. RAM Power : 5.755537033081055 W\n",
      "[codecarbon INFO @ 12:41:07] Energy consumed for all CPUs : 0.000000 kWh. All CPUs Power : 0.0 W\n",
      "[codecarbon INFO @ 12:41:07] 0.000336 kWh of electricity used since the begining.\n"
     ]
    },
    {
     "name": "stdout",
     "output_type": "stream",
     "text": [
      "127/391 [========>.....................] - ETA: 1:39 - loss: 1.2856 - accuracy: 0.5499"
     ]
    },
    {
     "name": "stderr",
     "output_type": "stream",
     "text": [
      "[codecarbon INFO @ 12:41:13] Energy consumed for RAM : 0.000408 kWh. RAM Power : 5.755537033081055 W\n",
      "[codecarbon INFO @ 12:41:13] Energy consumed for all CPUs : 0.000000 kWh. All CPUs Power : 0.0 W\n",
      "[codecarbon INFO @ 12:41:13] 0.000408 kWh of electricity used since the begining.\n"
     ]
    },
    {
     "name": "stdout",
     "output_type": "stream",
     "text": [
      "151/391 [==========>...................] - ETA: 1:29 - loss: 1.2851 - accuracy: 0.5495"
     ]
    },
    {
     "name": "stderr",
     "output_type": "stream",
     "text": [
      "[codecarbon INFO @ 12:41:22] Energy consumed for RAM : 0.000360 kWh. RAM Power : 5.755537033081055 W\n",
      "[codecarbon INFO @ 12:41:22] Energy consumed for all CPUs : 0.000000 kWh. All CPUs Power : 0.0 W\n",
      "[codecarbon INFO @ 12:41:22] 0.000360 kWh of electricity used since the begining.\n"
     ]
    },
    {
     "name": "stdout",
     "output_type": "stream",
     "text": [
      "168/391 [===========>..................] - ETA: 1:23 - loss: 1.2842 - accuracy: 0.5494"
     ]
    },
    {
     "name": "stderr",
     "output_type": "stream",
     "text": [
      "[codecarbon INFO @ 12:41:28] Energy consumed for RAM : 0.000432 kWh. RAM Power : 5.755537033081055 W\n",
      "[codecarbon INFO @ 12:41:28] Energy consumed for all CPUs : 0.000000 kWh. All CPUs Power : 0.0 W\n",
      "[codecarbon INFO @ 12:41:28] 0.000432 kWh of electricity used since the begining.\n"
     ]
    },
    {
     "name": "stdout",
     "output_type": "stream",
     "text": [
      "191/391 [=============>................] - ETA: 1:14 - loss: 1.2829 - accuracy: 0.5495"
     ]
    },
    {
     "name": "stderr",
     "output_type": "stream",
     "text": [
      "[codecarbon INFO @ 12:41:37] Energy consumed for RAM : 0.000384 kWh. RAM Power : 5.755537033081055 W\n",
      "[codecarbon INFO @ 12:41:37] Energy consumed for all CPUs : 0.000000 kWh. All CPUs Power : 0.0 W\n",
      "[codecarbon INFO @ 12:41:37] 0.000384 kWh of electricity used since the begining.\n"
     ]
    },
    {
     "name": "stdout",
     "output_type": "stream",
     "text": [
      "208/391 [==============>...............] - ETA: 1:08 - loss: 1.2821 - accuracy: 0.5496"
     ]
    },
    {
     "name": "stderr",
     "output_type": "stream",
     "text": [
      "[codecarbon INFO @ 12:41:43] Energy consumed for RAM : 0.000456 kWh. RAM Power : 5.755537033081055 W\n",
      "[codecarbon INFO @ 12:41:43] Energy consumed for all CPUs : 0.000000 kWh. All CPUs Power : 0.0 W\n",
      "[codecarbon INFO @ 12:41:43] 0.000456 kWh of electricity used since the begining.\n"
     ]
    },
    {
     "name": "stdout",
     "output_type": "stream",
     "text": [
      "231/391 [================>.............] - ETA: 1:00 - loss: 1.2810 - accuracy: 0.5498"
     ]
    },
    {
     "name": "stderr",
     "output_type": "stream",
     "text": [
      "[codecarbon INFO @ 12:41:52] Energy consumed for RAM : 0.000408 kWh. RAM Power : 5.755537033081055 W\n",
      "[codecarbon INFO @ 12:41:52] Energy consumed for all CPUs : 0.000000 kWh. All CPUs Power : 0.0 W\n",
      "[codecarbon INFO @ 12:41:52] 0.000408 kWh of electricity used since the begining.\n"
     ]
    },
    {
     "name": "stdout",
     "output_type": "stream",
     "text": [
      "248/391 [==================>...........] - ETA: 53s - loss: 1.2802 - accuracy: 0.5499"
     ]
    },
    {
     "name": "stderr",
     "output_type": "stream",
     "text": [
      "[codecarbon INFO @ 12:41:58] Energy consumed for RAM : 0.000480 kWh. RAM Power : 5.755537033081055 W\n",
      "[codecarbon INFO @ 12:41:58] Energy consumed for all CPUs : 0.000000 kWh. All CPUs Power : 0.0 W\n",
      "[codecarbon INFO @ 12:41:58] 0.000480 kWh of electricity used since the begining.\n"
     ]
    },
    {
     "name": "stdout",
     "output_type": "stream",
     "text": [
      "271/391 [===================>..........] - ETA: 44s - loss: 1.2793 - accuracy: 0.5501"
     ]
    },
    {
     "name": "stderr",
     "output_type": "stream",
     "text": [
      "[codecarbon INFO @ 12:42:07] Energy consumed for RAM : 0.000432 kWh. RAM Power : 5.755537033081055 W\n",
      "[codecarbon INFO @ 12:42:07] Energy consumed for all CPUs : 0.000000 kWh. All CPUs Power : 0.0 W\n",
      "[codecarbon INFO @ 12:42:07] 0.000432 kWh of electricity used since the begining.\n"
     ]
    },
    {
     "name": "stdout",
     "output_type": "stream",
     "text": [
      "288/391 [=====================>........] - ETA: 38s - loss: 1.2788 - accuracy: 0.5502"
     ]
    },
    {
     "name": "stderr",
     "output_type": "stream",
     "text": [
      "[codecarbon INFO @ 12:42:13] Energy consumed for RAM : 0.000504 kWh. RAM Power : 5.755537033081055 W\n",
      "[codecarbon INFO @ 12:42:13] Energy consumed for all CPUs : 0.000000 kWh. All CPUs Power : 0.0 W\n",
      "[codecarbon INFO @ 12:42:13] 0.000504 kWh of electricity used since the begining.\n"
     ]
    },
    {
     "name": "stdout",
     "output_type": "stream",
     "text": [
      "311/391 [======================>.......] - ETA: 29s - loss: 1.2781 - accuracy: 0.5503"
     ]
    },
    {
     "name": "stderr",
     "output_type": "stream",
     "text": [
      "[codecarbon INFO @ 12:42:22] Energy consumed for RAM : 0.000456 kWh. RAM Power : 5.755537033081055 W\n",
      "[codecarbon INFO @ 12:42:22] Energy consumed for all CPUs : 0.000000 kWh. All CPUs Power : 0.0 W\n",
      "[codecarbon INFO @ 12:42:22] 0.000456 kWh of electricity used since the begining.\n"
     ]
    },
    {
     "name": "stdout",
     "output_type": "stream",
     "text": [
      "328/391 [========================>.....] - ETA: 23s - loss: 1.2776 - accuracy: 0.5504"
     ]
    },
    {
     "name": "stderr",
     "output_type": "stream",
     "text": [
      "[codecarbon INFO @ 12:42:28] Energy consumed for RAM : 0.000528 kWh. RAM Power : 5.755537033081055 W\n",
      "[codecarbon INFO @ 12:42:28] Energy consumed for all CPUs : 0.000000 kWh. All CPUs Power : 0.0 W\n",
      "[codecarbon INFO @ 12:42:28] 0.000528 kWh of electricity used since the begining.\n"
     ]
    },
    {
     "name": "stdout",
     "output_type": "stream",
     "text": [
      "351/391 [=========================>....] - ETA: 14s - loss: 1.2769 - accuracy: 0.5505"
     ]
    },
    {
     "name": "stderr",
     "output_type": "stream",
     "text": [
      "[codecarbon INFO @ 12:42:37] Energy consumed for RAM : 0.000480 kWh. RAM Power : 5.755537033081055 W\n",
      "[codecarbon INFO @ 12:42:37] Energy consumed for all CPUs : 0.000000 kWh. All CPUs Power : 0.0 W\n",
      "[codecarbon INFO @ 12:42:37] 0.000480 kWh of electricity used since the begining.\n"
     ]
    },
    {
     "name": "stdout",
     "output_type": "stream",
     "text": [
      "368/391 [===========================>..] - ETA: 8s - loss: 1.2764 - accuracy: 0.5507"
     ]
    },
    {
     "name": "stderr",
     "output_type": "stream",
     "text": [
      "[codecarbon INFO @ 12:42:43] Energy consumed for RAM : 0.000552 kWh. RAM Power : 5.755537033081055 W\n",
      "[codecarbon INFO @ 12:42:43] Energy consumed for all CPUs : 0.000000 kWh. All CPUs Power : 0.0 W\n",
      "[codecarbon INFO @ 12:42:43] 0.000552 kWh of electricity used since the begining.\n"
     ]
    },
    {
     "name": "stdout",
     "output_type": "stream",
     "text": [
      "391/391 [==============================] - ETA: 0s - loss: 1.2757 - accuracy: 0.5508"
     ]
    },
    {
     "name": "stderr",
     "output_type": "stream",
     "text": [
      "[codecarbon INFO @ 12:42:52] Energy consumed for RAM : 0.000504 kWh. RAM Power : 5.755537033081055 W\n",
      "[codecarbon INFO @ 12:42:52] Energy consumed for all CPUs : 0.000000 kWh. All CPUs Power : 0.0 W\n",
      "[codecarbon INFO @ 12:42:52] 0.000504 kWh of electricity used since the begining.\n",
      "[codecarbon INFO @ 12:42:58] Energy consumed for RAM : 0.000576 kWh. RAM Power : 5.755537033081055 W\n",
      "[codecarbon INFO @ 12:42:58] Energy consumed for all CPUs : 0.000000 kWh. All CPUs Power : 0.0 W\n",
      "[codecarbon INFO @ 12:42:58] 0.000576 kWh of electricity used since the begining.\n",
      "[codecarbon INFO @ 12:43:07] Energy consumed for RAM : 0.000528 kWh. RAM Power : 5.755537033081055 W\n",
      "[codecarbon INFO @ 12:43:07] Energy consumed for all CPUs : 0.000000 kWh. All CPUs Power : 0.0 W\n",
      "[codecarbon INFO @ 12:43:07] 0.000528 kWh of electricity used since the begining.\n",
      "[codecarbon INFO @ 12:43:13] Energy consumed for RAM : 0.000600 kWh. RAM Power : 5.755537033081055 W\n",
      "[codecarbon INFO @ 12:43:13] Energy consumed for all CPUs : 0.000000 kWh. All CPUs Power : 0.0 W\n",
      "[codecarbon INFO @ 12:43:13] 0.000600 kWh of electricity used since the begining.\n"
     ]
    },
    {
     "name": "stdout",
     "output_type": "stream",
     "text": [
      "391/391 [==============================] - 169s 433ms/step - loss: 1.2757 - accuracy: 0.5509 - val_loss: 1.2216 - val_accuracy: 0.5700\n",
      "Epoch 3/10\n",
      " 19/391 [>.............................] - ETA: 2:17 - loss: 1.2369 - accuracy: 0.5613"
     ]
    },
    {
     "name": "stderr",
     "output_type": "stream",
     "text": [
      "[codecarbon INFO @ 12:43:22] Energy consumed for RAM : 0.000552 kWh. RAM Power : 5.755537033081055 W\n",
      "[codecarbon INFO @ 12:43:22] Energy consumed for all CPUs : 0.000000 kWh. All CPUs Power : 0.0 W\n",
      "[codecarbon INFO @ 12:43:22] 0.000552 kWh of electricity used since the begining.\n"
     ]
    },
    {
     "name": "stdout",
     "output_type": "stream",
     "text": [
      " 37/391 [=>............................] - ETA: 2:10 - loss: 1.2215 - accuracy: 0.5641"
     ]
    },
    {
     "name": "stderr",
     "output_type": "stream",
     "text": [
      "[codecarbon INFO @ 12:43:28] Energy consumed for RAM : 0.000624 kWh. RAM Power : 5.755537033081055 W\n",
      "[codecarbon INFO @ 12:43:28] Energy consumed for all CPUs : 0.000000 kWh. All CPUs Power : 0.0 W\n",
      "[codecarbon INFO @ 12:43:28] 0.000624 kWh of electricity used since the begining.\n"
     ]
    },
    {
     "name": "stdout",
     "output_type": "stream",
     "text": [
      " 60/391 [===>..........................] - ETA: 2:02 - loss: 1.2168 - accuracy: 0.5656"
     ]
    },
    {
     "name": "stderr",
     "output_type": "stream",
     "text": [
      "[codecarbon INFO @ 12:43:37] Energy consumed for RAM : 0.000576 kWh. RAM Power : 5.755537033081055 W\n",
      "[codecarbon INFO @ 12:43:37] Energy consumed for all CPUs : 0.000000 kWh. All CPUs Power : 0.0 W\n",
      "[codecarbon INFO @ 12:43:37] 0.000576 kWh of electricity used since the begining.\n"
     ]
    },
    {
     "name": "stdout",
     "output_type": "stream",
     "text": [
      " 77/391 [====>.........................] - ETA: 1:56 - loss: 1.2145 - accuracy: 0.5669"
     ]
    },
    {
     "name": "stderr",
     "output_type": "stream",
     "text": [
      "[codecarbon INFO @ 12:43:43] Energy consumed for RAM : 0.000648 kWh. RAM Power : 5.755537033081055 W\n",
      "[codecarbon INFO @ 12:43:43] Energy consumed for all CPUs : 0.000000 kWh. All CPUs Power : 0.0 W\n",
      "[codecarbon INFO @ 12:43:43] 0.000648 kWh of electricity used since the begining.\n"
     ]
    },
    {
     "name": "stdout",
     "output_type": "stream",
     "text": [
      "100/391 [======>.......................] - ETA: 1:48 - loss: 1.2106 - accuracy: 0.5689"
     ]
    },
    {
     "name": "stderr",
     "output_type": "stream",
     "text": [
      "[codecarbon INFO @ 12:43:52] Energy consumed for RAM : 0.000600 kWh. RAM Power : 5.755537033081055 W\n",
      "[codecarbon INFO @ 12:43:52] Energy consumed for all CPUs : 0.000000 kWh. All CPUs Power : 0.0 W\n",
      "[codecarbon INFO @ 12:43:52] 0.000600 kWh of electricity used since the begining.\n"
     ]
    },
    {
     "name": "stdout",
     "output_type": "stream",
     "text": [
      "117/391 [=======>......................] - ETA: 1:42 - loss: 1.2089 - accuracy: 0.5697"
     ]
    },
    {
     "name": "stderr",
     "output_type": "stream",
     "text": [
      "[codecarbon INFO @ 12:43:58] Energy consumed for RAM : 0.000672 kWh. RAM Power : 5.755537033081055 W\n",
      "[codecarbon INFO @ 12:43:58] Energy consumed for all CPUs : 0.000000 kWh. All CPUs Power : 0.0 W\n",
      "[codecarbon INFO @ 12:43:58] 0.000672 kWh of electricity used since the begining.\n"
     ]
    },
    {
     "name": "stdout",
     "output_type": "stream",
     "text": [
      "140/391 [=========>....................] - ETA: 1:33 - loss: 1.2077 - accuracy: 0.5705"
     ]
    },
    {
     "name": "stderr",
     "output_type": "stream",
     "text": [
      "[codecarbon INFO @ 12:44:07] Energy consumed for RAM : 0.000624 kWh. RAM Power : 5.755537033081055 W\n",
      "[codecarbon INFO @ 12:44:07] Energy consumed for all CPUs : 0.000000 kWh. All CPUs Power : 0.0 W\n",
      "[codecarbon INFO @ 12:44:07] 0.000624 kWh of electricity used since the begining.\n"
     ]
    },
    {
     "name": "stdout",
     "output_type": "stream",
     "text": [
      "157/391 [===========>..................] - ETA: 1:27 - loss: 1.2073 - accuracy: 0.5709"
     ]
    },
    {
     "name": "stderr",
     "output_type": "stream",
     "text": [
      "[codecarbon INFO @ 12:44:13] Energy consumed for RAM : 0.000696 kWh. RAM Power : 5.755537033081055 W\n",
      "[codecarbon INFO @ 12:44:13] Energy consumed for all CPUs : 0.000000 kWh. All CPUs Power : 0.0 W\n",
      "[codecarbon INFO @ 12:44:13] 0.000696 kWh of electricity used since the begining.\n"
     ]
    },
    {
     "name": "stdout",
     "output_type": "stream",
     "text": [
      "180/391 [============>.................] - ETA: 1:18 - loss: 1.2068 - accuracy: 0.5715"
     ]
    },
    {
     "name": "stderr",
     "output_type": "stream",
     "text": [
      "[codecarbon INFO @ 12:44:22] Energy consumed for RAM : 0.000648 kWh. RAM Power : 5.755537033081055 W\n",
      "[codecarbon INFO @ 12:44:22] Energy consumed for all CPUs : 0.000000 kWh. All CPUs Power : 0.0 W\n",
      "[codecarbon INFO @ 12:44:22] 0.000648 kWh of electricity used since the begining.\n"
     ]
    },
    {
     "name": "stdout",
     "output_type": "stream",
     "text": [
      "198/391 [==============>...............] - ETA: 1:11 - loss: 1.2066 - accuracy: 0.5717"
     ]
    },
    {
     "name": "stderr",
     "output_type": "stream",
     "text": [
      "[codecarbon INFO @ 12:44:28] Energy consumed for RAM : 0.000719 kWh. RAM Power : 5.755537033081055 W\n",
      "[codecarbon INFO @ 12:44:28] Energy consumed for all CPUs : 0.000000 kWh. All CPUs Power : 0.0 W\n",
      "[codecarbon INFO @ 12:44:28] 0.000719 kWh of electricity used since the begining.\n"
     ]
    },
    {
     "name": "stdout",
     "output_type": "stream",
     "text": [
      "221/391 [===============>..............] - ETA: 1:03 - loss: 1.2063 - accuracy: 0.5720"
     ]
    },
    {
     "name": "stderr",
     "output_type": "stream",
     "text": [
      "[codecarbon INFO @ 12:44:37] Energy consumed for RAM : 0.000671 kWh. RAM Power : 5.755537033081055 W\n",
      "[codecarbon INFO @ 12:44:37] Energy consumed for all CPUs : 0.000000 kWh. All CPUs Power : 0.0 W\n",
      "[codecarbon INFO @ 12:44:37] 0.000671 kWh of electricity used since the begining.\n"
     ]
    },
    {
     "name": "stdout",
     "output_type": "stream",
     "text": [
      "238/391 [=================>............] - ETA: 56s - loss: 1.2063 - accuracy: 0.5721"
     ]
    },
    {
     "name": "stderr",
     "output_type": "stream",
     "text": [
      "[codecarbon INFO @ 12:44:43] Energy consumed for RAM : 0.000743 kWh. RAM Power : 5.755537033081055 W\n",
      "[codecarbon INFO @ 12:44:43] Energy consumed for all CPUs : 0.000000 kWh. All CPUs Power : 0.0 W\n",
      "[codecarbon INFO @ 12:44:43] 0.000743 kWh of electricity used since the begining.\n"
     ]
    },
    {
     "name": "stdout",
     "output_type": "stream",
     "text": [
      "261/391 [===================>..........] - ETA: 48s - loss: 1.2061 - accuracy: 0.5723"
     ]
    },
    {
     "name": "stderr",
     "output_type": "stream",
     "text": [
      "[codecarbon INFO @ 12:44:52] Energy consumed for RAM : 0.000695 kWh. RAM Power : 5.755537033081055 W\n",
      "[codecarbon INFO @ 12:44:52] Energy consumed for all CPUs : 0.000000 kWh. All CPUs Power : 0.0 W\n",
      "[codecarbon INFO @ 12:44:52] 0.000695 kWh of electricity used since the begining.\n"
     ]
    },
    {
     "name": "stdout",
     "output_type": "stream",
     "text": [
      "277/391 [====================>.........] - ETA: 42s - loss: 1.2059 - accuracy: 0.5725"
     ]
    },
    {
     "name": "stderr",
     "output_type": "stream",
     "text": [
      "[codecarbon INFO @ 12:44:58] Energy consumed for RAM : 0.000767 kWh. RAM Power : 5.755537033081055 W\n",
      "[codecarbon INFO @ 12:44:58] Energy consumed for all CPUs : 0.000000 kWh. All CPUs Power : 0.0 W\n"
     ]
    },
    {
     "name": "stdout",
     "output_type": "stream",
     "text": [
      "278/391 [====================>.........] - ETA: 42s - loss: 1.2059 - accuracy: 0.5725"
     ]
    },
    {
     "name": "stderr",
     "output_type": "stream",
     "text": [
      "[codecarbon INFO @ 12:44:58] 0.000767 kWh of electricity used since the begining.\n"
     ]
    },
    {
     "name": "stdout",
     "output_type": "stream",
     "text": [
      "301/391 [======================>.......] - ETA: 33s - loss: 1.2056 - accuracy: 0.5727"
     ]
    },
    {
     "name": "stderr",
     "output_type": "stream",
     "text": [
      "[codecarbon INFO @ 12:45:07] Energy consumed for RAM : 0.000719 kWh. RAM Power : 5.755537033081055 W\n",
      "[codecarbon INFO @ 12:45:07] Energy consumed for all CPUs : 0.000000 kWh. All CPUs Power : 0.0 W\n",
      "[codecarbon INFO @ 12:45:07] 0.000719 kWh of electricity used since the begining.\n"
     ]
    },
    {
     "name": "stdout",
     "output_type": "stream",
     "text": [
      "318/391 [=======================>......] - ETA: 27s - loss: 1.2055 - accuracy: 0.5729"
     ]
    },
    {
     "name": "stderr",
     "output_type": "stream",
     "text": [
      "[codecarbon INFO @ 12:45:13] Energy consumed for RAM : 0.000791 kWh. RAM Power : 5.755537033081055 W\n",
      "[codecarbon INFO @ 12:45:13] Energy consumed for all CPUs : 0.000000 kWh. All CPUs Power : 0.0 W\n",
      "[codecarbon INFO @ 12:45:13] 0.000791 kWh of electricity used since the begining.\n"
     ]
    },
    {
     "name": "stdout",
     "output_type": "stream",
     "text": [
      "341/391 [=========================>....] - ETA: 18s - loss: 1.2054 - accuracy: 0.5730"
     ]
    },
    {
     "name": "stderr",
     "output_type": "stream",
     "text": [
      "[codecarbon INFO @ 12:45:22] Energy consumed for RAM : 0.000743 kWh. RAM Power : 5.755537033081055 W\n",
      "[codecarbon INFO @ 12:45:22] Energy consumed for all CPUs : 0.000000 kWh. All CPUs Power : 0.0 W\n",
      "[codecarbon INFO @ 12:45:22] 0.000743 kWh of electricity used since the begining.\n"
     ]
    },
    {
     "name": "stdout",
     "output_type": "stream",
     "text": [
      "358/391 [==========================>...] - ETA: 12s - loss: 1.2052 - accuracy: 0.5732"
     ]
    },
    {
     "name": "stderr",
     "output_type": "stream",
     "text": [
      "[codecarbon INFO @ 12:45:28] Energy consumed for RAM : 0.000815 kWh. RAM Power : 5.755537033081055 W\n",
      "[codecarbon INFO @ 12:45:28] Energy consumed for all CPUs : 0.000000 kWh. All CPUs Power : 0.0 W\n",
      "[codecarbon INFO @ 12:45:28] 0.000815 kWh of electricity used since the begining.\n"
     ]
    },
    {
     "name": "stdout",
     "output_type": "stream",
     "text": [
      "381/391 [============================>.] - ETA: 3s - loss: 1.2051 - accuracy: 0.5734"
     ]
    },
    {
     "name": "stderr",
     "output_type": "stream",
     "text": [
      "[codecarbon INFO @ 12:45:37] Energy consumed for RAM : 0.000767 kWh. RAM Power : 5.755537033081055 W\n",
      "[codecarbon INFO @ 12:45:37] Energy consumed for all CPUs : 0.000000 kWh. All CPUs Power : 0.0 W\n",
      "[codecarbon INFO @ 12:45:37] 0.000767 kWh of electricity used since the begining.\n"
     ]
    },
    {
     "name": "stdout",
     "output_type": "stream",
     "text": [
      "391/391 [==============================] - ETA: 0s - loss: 1.2051 - accuracy: 0.5735"
     ]
    },
    {
     "name": "stderr",
     "output_type": "stream",
     "text": [
      "[codecarbon INFO @ 12:45:43] Energy consumed for RAM : 0.000839 kWh. RAM Power : 5.755537033081055 W\n",
      "[codecarbon INFO @ 12:45:43] Energy consumed for all CPUs : 0.000000 kWh. All CPUs Power : 0.0 W\n",
      "[codecarbon INFO @ 12:45:43] 0.000839 kWh of electricity used since the begining.\n",
      "[codecarbon INFO @ 12:45:52] Energy consumed for RAM : 0.000791 kWh. RAM Power : 5.755537033081055 W\n",
      "[codecarbon INFO @ 12:45:52] Energy consumed for all CPUs : 0.000000 kWh. All CPUs Power : 0.0 W\n",
      "[codecarbon INFO @ 12:45:52] 0.000791 kWh of electricity used since the begining.\n",
      "[codecarbon INFO @ 12:45:58] Energy consumed for RAM : 0.000863 kWh. RAM Power : 5.755537033081055 W\n",
      "[codecarbon INFO @ 12:45:58] Energy consumed for all CPUs : 0.000000 kWh. All CPUs Power : 0.0 W\n",
      "[codecarbon INFO @ 12:45:58] 0.000863 kWh of electricity used since the begining.\n"
     ]
    },
    {
     "name": "stdout",
     "output_type": "stream",
     "text": [
      "391/391 [==============================] - 169s 432ms/step - loss: 1.2051 - accuracy: 0.5735 - val_loss: 1.1785 - val_accuracy: 0.5881\n",
      "Epoch 4/10\n",
      "  9/391 [..............................] - ETA: 2:21 - loss: 1.1995 - accuracy: 0.5743"
     ]
    },
    {
     "name": "stderr",
     "output_type": "stream",
     "text": [
      "[codecarbon INFO @ 12:46:07] Energy consumed for RAM : 0.000815 kWh. RAM Power : 5.755537033081055 W\n",
      "[codecarbon INFO @ 12:46:07] Energy consumed for all CPUs : 0.000000 kWh. All CPUs Power : 0.0 W\n",
      "[codecarbon INFO @ 12:46:07] 0.000815 kWh of electricity used since the begining.\n"
     ]
    },
    {
     "name": "stdout",
     "output_type": "stream",
     "text": [
      " 26/391 [>.............................] - ETA: 2:15 - loss: 1.1653 - accuracy: 0.5849"
     ]
    },
    {
     "name": "stderr",
     "output_type": "stream",
     "text": [
      "[codecarbon INFO @ 12:46:13] Energy consumed for RAM : 0.000887 kWh. RAM Power : 5.755537033081055 W\n",
      "[codecarbon INFO @ 12:46:13] Energy consumed for all CPUs : 0.000000 kWh. All CPUs Power : 0.0 W\n",
      "[codecarbon INFO @ 12:46:13] 0.000887 kWh of electricity used since the begining.\n"
     ]
    },
    {
     "name": "stdout",
     "output_type": "stream",
     "text": [
      " 50/391 [==>...........................] - ETA: 2:06 - loss: 1.1543 - accuracy: 0.5910"
     ]
    },
    {
     "name": "stderr",
     "output_type": "stream",
     "text": [
      "[codecarbon INFO @ 12:46:22] Energy consumed for RAM : 0.000839 kWh. RAM Power : 5.755537033081055 W\n",
      "[codecarbon INFO @ 12:46:22] Energy consumed for all CPUs : 0.000000 kWh. All CPUs Power : 0.0 W\n",
      "[codecarbon INFO @ 12:46:22] 0.000839 kWh of electricity used since the begining.\n"
     ]
    },
    {
     "name": "stdout",
     "output_type": "stream",
     "text": [
      " 67/391 [====>.........................] - ETA: 1:59 - loss: 1.1532 - accuracy: 0.5933"
     ]
    },
    {
     "name": "stderr",
     "output_type": "stream",
     "text": [
      "[codecarbon INFO @ 12:46:28] Energy consumed for RAM : 0.000911 kWh. RAM Power : 5.755537033081055 W\n",
      "[codecarbon INFO @ 12:46:28] Energy consumed for all CPUs : 0.000000 kWh. All CPUs Power : 0.0 W\n",
      "[codecarbon INFO @ 12:46:28] 0.000911 kWh of electricity used since the begining.\n"
     ]
    },
    {
     "name": "stdout",
     "output_type": "stream",
     "text": [
      " 90/391 [=====>........................] - ETA: 1:51 - loss: 1.1535 - accuracy: 0.5943"
     ]
    },
    {
     "name": "stderr",
     "output_type": "stream",
     "text": [
      "[codecarbon INFO @ 12:46:37] Energy consumed for RAM : 0.000863 kWh. RAM Power : 5.755537033081055 W\n",
      "[codecarbon INFO @ 12:46:37] Energy consumed for all CPUs : 0.000000 kWh. All CPUs Power : 0.0 W\n",
      "[codecarbon INFO @ 12:46:37] 0.000863 kWh of electricity used since the begining.\n"
     ]
    },
    {
     "name": "stdout",
     "output_type": "stream",
     "text": [
      "107/391 [=======>......................] - ETA: 1:44 - loss: 1.1546 - accuracy: 0.5945"
     ]
    },
    {
     "name": "stderr",
     "output_type": "stream",
     "text": [
      "[codecarbon INFO @ 12:46:43] Energy consumed for RAM : 0.000935 kWh. RAM Power : 5.755537033081055 W\n",
      "[codecarbon INFO @ 12:46:43] Energy consumed for all CPUs : 0.000000 kWh. All CPUs Power : 0.0 W\n",
      "[codecarbon INFO @ 12:46:43] 0.000935 kWh of electricity used since the begining.\n"
     ]
    },
    {
     "name": "stdout",
     "output_type": "stream",
     "text": [
      "131/391 [=========>....................] - ETA: 1:36 - loss: 1.1554 - accuracy: 0.5945"
     ]
    },
    {
     "name": "stderr",
     "output_type": "stream",
     "text": [
      "[codecarbon INFO @ 12:46:52] Energy consumed for RAM : 0.000887 kWh. RAM Power : 5.755537033081055 W\n",
      "[codecarbon INFO @ 12:46:52] Energy consumed for all CPUs : 0.000000 kWh. All CPUs Power : 0.0 W\n",
      "[codecarbon INFO @ 12:46:52] 0.000887 kWh of electricity used since the begining.\n"
     ]
    },
    {
     "name": "stdout",
     "output_type": "stream",
     "text": [
      "147/391 [==========>...................] - ETA: 1:30 - loss: 1.1555 - accuracy: 0.5947"
     ]
    },
    {
     "name": "stderr",
     "output_type": "stream",
     "text": [
      "[codecarbon INFO @ 12:46:58] Energy consumed for RAM : 0.000959 kWh. RAM Power : 5.755537033081055 W\n",
      "[codecarbon INFO @ 12:46:58] Energy consumed for all CPUs : 0.000000 kWh. All CPUs Power : 0.0 W\n",
      "[codecarbon INFO @ 12:46:58] 0.000959 kWh of electricity used since the begining.\n"
     ]
    },
    {
     "name": "stdout",
     "output_type": "stream",
     "text": [
      "171/391 [============>.................] - ETA: 1:21 - loss: 1.1559 - accuracy: 0.5948"
     ]
    },
    {
     "name": "stderr",
     "output_type": "stream",
     "text": [
      "[codecarbon INFO @ 12:47:07] Energy consumed for RAM : 0.000911 kWh. RAM Power : 5.755537033081055 W\n",
      "[codecarbon INFO @ 12:47:07] Energy consumed for all CPUs : 0.000000 kWh. All CPUs Power : 0.0 W\n",
      "[codecarbon INFO @ 12:47:07] 0.000911 kWh of electricity used since the begining.\n"
     ]
    },
    {
     "name": "stdout",
     "output_type": "stream",
     "text": [
      "188/391 [=============>................] - ETA: 1:15 - loss: 1.1564 - accuracy: 0.5948"
     ]
    },
    {
     "name": "stderr",
     "output_type": "stream",
     "text": [
      "[codecarbon INFO @ 12:47:13] Energy consumed for RAM : 0.000983 kWh. RAM Power : 5.755537033081055 W\n",
      "[codecarbon INFO @ 12:47:13] Energy consumed for all CPUs : 0.000000 kWh. All CPUs Power : 0.0 W\n",
      "[codecarbon INFO @ 12:47:13] 0.000983 kWh of electricity used since the begining.\n"
     ]
    },
    {
     "name": "stdout",
     "output_type": "stream",
     "text": [
      "211/391 [===============>..............] - ETA: 1:06 - loss: 1.1572 - accuracy: 0.5947"
     ]
    },
    {
     "name": "stderr",
     "output_type": "stream",
     "text": [
      "[codecarbon INFO @ 12:47:22] Energy consumed for RAM : 0.000935 kWh. RAM Power : 5.755537033081055 W\n",
      "[codecarbon INFO @ 12:47:22] Energy consumed for all CPUs : 0.000000 kWh. All CPUs Power : 0.0 W\n",
      "[codecarbon INFO @ 12:47:22] 0.000935 kWh of electricity used since the begining.\n"
     ]
    },
    {
     "name": "stdout",
     "output_type": "stream",
     "text": [
      "229/391 [================>.............] - ETA: 1:00 - loss: 1.1578 - accuracy: 0.5946"
     ]
    },
    {
     "name": "stderr",
     "output_type": "stream",
     "text": [
      "[codecarbon INFO @ 12:47:28] Energy consumed for RAM : 0.001007 kWh. RAM Power : 5.755537033081055 W\n",
      "[codecarbon INFO @ 12:47:28] Energy consumed for all CPUs : 0.000000 kWh. All CPUs Power : 0.0 W\n",
      "[codecarbon INFO @ 12:47:28] 0.001007 kWh of electricity used since the begining.\n"
     ]
    },
    {
     "name": "stdout",
     "output_type": "stream",
     "text": [
      "252/391 [==================>...........] - ETA: 51s - loss: 1.1588 - accuracy: 0.5943"
     ]
    },
    {
     "name": "stderr",
     "output_type": "stream",
     "text": [
      "[codecarbon INFO @ 12:47:37] Energy consumed for RAM : 0.000959 kWh. RAM Power : 5.755537033081055 W\n",
      "[codecarbon INFO @ 12:47:37] Energy consumed for all CPUs : 0.000000 kWh. All CPUs Power : 0.0 W\n",
      "[codecarbon INFO @ 12:47:37] 0.000959 kWh of electricity used since the begining.\n"
     ]
    },
    {
     "name": "stdout",
     "output_type": "stream",
     "text": [
      "269/391 [===================>..........] - ETA: 45s - loss: 1.1596 - accuracy: 0.5940"
     ]
    },
    {
     "name": "stderr",
     "output_type": "stream",
     "text": [
      "[codecarbon INFO @ 12:47:43] Energy consumed for RAM : 0.001031 kWh. RAM Power : 5.755537033081055 W\n",
      "[codecarbon INFO @ 12:47:43] Energy consumed for all CPUs : 0.000000 kWh. All CPUs Power : 0.0 W\n",
      "[codecarbon INFO @ 12:47:43] 0.001031 kWh of electricity used since the begining.\n"
     ]
    },
    {
     "name": "stdout",
     "output_type": "stream",
     "text": [
      "292/391 [=====================>........] - ETA: 36s - loss: 1.1606 - accuracy: 0.5936"
     ]
    },
    {
     "name": "stderr",
     "output_type": "stream",
     "text": [
      "[codecarbon INFO @ 12:47:52] Energy consumed for RAM : 0.000983 kWh. RAM Power : 5.755537033081055 W\n",
      "[codecarbon INFO @ 12:47:52] Energy consumed for all CPUs : 0.000000 kWh. All CPUs Power : 0.0 W\n",
      "[codecarbon INFO @ 12:47:52] 0.000983 kWh of electricity used since the begining.\n"
     ]
    },
    {
     "name": "stdout",
     "output_type": "stream",
     "text": [
      "309/391 [======================>.......] - ETA: 30s - loss: 1.1612 - accuracy: 0.5934"
     ]
    },
    {
     "name": "stderr",
     "output_type": "stream",
     "text": [
      "[codecarbon INFO @ 12:47:58] Energy consumed for RAM : 0.001055 kWh. RAM Power : 5.755537033081055 W\n",
      "[codecarbon INFO @ 12:47:58] Energy consumed for all CPUs : 0.000000 kWh. All CPUs Power : 0.0 W\n",
      "[codecarbon INFO @ 12:47:58] 0.001055 kWh of electricity used since the begining.\n"
     ]
    },
    {
     "name": "stdout",
     "output_type": "stream",
     "text": [
      "332/391 [========================>.....] - ETA: 21s - loss: 1.1619 - accuracy: 0.5931"
     ]
    },
    {
     "name": "stderr",
     "output_type": "stream",
     "text": [
      "[codecarbon INFO @ 12:48:07] Energy consumed for RAM : 0.001007 kWh. RAM Power : 5.755537033081055 W\n",
      "[codecarbon INFO @ 12:48:07] Energy consumed for all CPUs : 0.000000 kWh. All CPUs Power : 0.0 W\n",
      "[codecarbon INFO @ 12:48:07] 0.001007 kWh of electricity used since the begining.\n"
     ]
    },
    {
     "name": "stdout",
     "output_type": "stream",
     "text": [
      "349/391 [=========================>....] - ETA: 15s - loss: 1.1623 - accuracy: 0.5929"
     ]
    },
    {
     "name": "stderr",
     "output_type": "stream",
     "text": [
      "[codecarbon INFO @ 12:48:13] Energy consumed for RAM : 0.001079 kWh. RAM Power : 5.755537033081055 W\n",
      "[codecarbon INFO @ 12:48:13] Energy consumed for all CPUs : 0.000000 kWh. All CPUs Power : 0.0 W\n",
      "[codecarbon INFO @ 12:48:13] 0.001079 kWh of electricity used since the begining.\n"
     ]
    },
    {
     "name": "stdout",
     "output_type": "stream",
     "text": [
      "373/391 [===========================>..] - ETA: 6s - loss: 1.1625 - accuracy: 0.5928"
     ]
    },
    {
     "name": "stderr",
     "output_type": "stream",
     "text": [
      "[codecarbon INFO @ 12:48:22] Energy consumed for RAM : 0.001031 kWh. RAM Power : 5.755537033081055 W\n",
      "[codecarbon INFO @ 12:48:22] Energy consumed for all CPUs : 0.000000 kWh. All CPUs Power : 0.0 W\n",
      "[codecarbon INFO @ 12:48:22] 0.001031 kWh of electricity used since the begining.\n"
     ]
    },
    {
     "name": "stdout",
     "output_type": "stream",
     "text": [
      "390/391 [============================>.] - ETA: 0s - loss: 1.1627 - accuracy: 0.5927"
     ]
    },
    {
     "name": "stderr",
     "output_type": "stream",
     "text": [
      "[codecarbon INFO @ 12:48:28] Energy consumed for RAM : 0.001103 kWh. RAM Power : 5.755537033081055 W\n",
      "[codecarbon INFO @ 12:48:28] Energy consumed for all CPUs : 0.000000 kWh. All CPUs Power : 0.0 W\n",
      "[codecarbon INFO @ 12:48:28] 0.001103 kWh of electricity used since the begining.\n"
     ]
    },
    {
     "name": "stdout",
     "output_type": "stream",
     "text": [
      "391/391 [==============================] - ETA: 0s - loss: 1.1627 - accuracy: 0.5927"
     ]
    },
    {
     "name": "stderr",
     "output_type": "stream",
     "text": [
      "[codecarbon INFO @ 12:48:37] Energy consumed for RAM : 0.001055 kWh. RAM Power : 5.755537033081055 W\n",
      "[codecarbon INFO @ 12:48:37] Energy consumed for all CPUs : 0.000000 kWh. All CPUs Power : 0.0 W\n",
      "[codecarbon INFO @ 12:48:37] 0.001055 kWh of electricity used since the begining.\n",
      "[codecarbon INFO @ 12:48:43] Energy consumed for RAM : 0.001127 kWh. RAM Power : 5.755537033081055 W\n",
      "[codecarbon INFO @ 12:48:43] Energy consumed for all CPUs : 0.000000 kWh. All CPUs Power : 0.0 W\n",
      "[codecarbon INFO @ 12:48:43] 0.001127 kWh of electricity used since the begining.\n"
     ]
    },
    {
     "name": "stdout",
     "output_type": "stream",
     "text": [
      "391/391 [==============================] - 168s 429ms/step - loss: 1.1627 - accuracy: 0.5927 - val_loss: 1.1408 - val_accuracy: 0.5975\n",
      "Epoch 5/10\n",
      "  2/391 [..............................] - ETA: 2:25 - loss: 1.1694 - accuracy: 0.5879"
     ]
    },
    {
     "name": "stderr",
     "output_type": "stream",
     "text": [
      "[codecarbon INFO @ 12:48:52] Energy consumed for RAM : 0.001079 kWh. RAM Power : 5.755537033081055 W\n",
      "[codecarbon INFO @ 12:48:52] Energy consumed for all CPUs : 0.000000 kWh. All CPUs Power : 0.0 W\n",
      "[codecarbon INFO @ 12:48:52] 0.001079 kWh of electricity used since the begining.\n"
     ]
    },
    {
     "name": "stdout",
     "output_type": "stream",
     "text": [
      " 19/391 [>.............................] - ETA: 2:18 - loss: 1.1347 - accuracy: 0.5981"
     ]
    },
    {
     "name": "stderr",
     "output_type": "stream",
     "text": [
      "[codecarbon INFO @ 12:48:58] Energy consumed for RAM : 0.001151 kWh. RAM Power : 5.755537033081055 W\n",
      "[codecarbon INFO @ 12:48:58] Energy consumed for all CPUs : 0.000000 kWh. All CPUs Power : 0.0 W\n",
      "[codecarbon INFO @ 12:48:58] 0.001151 kWh of electricity used since the begining.\n"
     ]
    },
    {
     "name": "stdout",
     "output_type": "stream",
     "text": [
      " 41/391 [==>...........................] - ETA: 2:14 - loss: 1.1388 - accuracy: 0.5967"
     ]
    },
    {
     "name": "stderr",
     "output_type": "stream",
     "text": [
      "[codecarbon INFO @ 12:49:07] Energy consumed for RAM : 0.001103 kWh. RAM Power : 5.755537033081055 W\n",
      "[codecarbon INFO @ 12:49:07] Energy consumed for all CPUs : 0.000000 kWh. All CPUs Power : 0.0 W\n",
      "[codecarbon INFO @ 12:49:07] 0.001103 kWh of electricity used since the begining.\n"
     ]
    },
    {
     "name": "stdout",
     "output_type": "stream",
     "text": [
      " 58/391 [===>..........................] - ETA: 2:06 - loss: 1.1427 - accuracy: 0.5956"
     ]
    },
    {
     "name": "stderr",
     "output_type": "stream",
     "text": [
      "[codecarbon INFO @ 12:49:13] Energy consumed for RAM : 0.001175 kWh. RAM Power : 5.755537033081055 W\n",
      "[codecarbon INFO @ 12:49:13] Energy consumed for all CPUs : 0.000000 kWh. All CPUs Power : 0.0 W\n",
      "[codecarbon INFO @ 12:49:13] 0.001175 kWh of electricity used since the begining.\n"
     ]
    },
    {
     "name": "stdout",
     "output_type": "stream",
     "text": [
      " 81/391 [=====>........................] - ETA: 1:56 - loss: 1.1429 - accuracy: 0.5967"
     ]
    },
    {
     "name": "stderr",
     "output_type": "stream",
     "text": [
      "[codecarbon INFO @ 12:49:22] Energy consumed for RAM : 0.001127 kWh. RAM Power : 5.755537033081055 W\n",
      "[codecarbon INFO @ 12:49:22] Energy consumed for all CPUs : 0.000000 kWh. All CPUs Power : 0.0 W\n",
      "[codecarbon INFO @ 12:49:22] 0.001127 kWh of electricity used since the begining.\n"
     ]
    },
    {
     "name": "stdout",
     "output_type": "stream",
     "text": [
      " 98/391 [======>.......................] - ETA: 1:50 - loss: 1.1424 - accuracy: 0.5977"
     ]
    },
    {
     "name": "stderr",
     "output_type": "stream",
     "text": [
      "[codecarbon INFO @ 12:49:28] Energy consumed for RAM : 0.001199 kWh. RAM Power : 5.755537033081055 W\n",
      "[codecarbon INFO @ 12:49:28] Energy consumed for all CPUs : 0.000000 kWh. All CPUs Power : 0.0 W\n",
      "[codecarbon INFO @ 12:49:28] 0.001199 kWh of electricity used since the begining.\n"
     ]
    },
    {
     "name": "stdout",
     "output_type": "stream",
     "text": [
      "121/391 [========>.....................] - ETA: 1:41 - loss: 1.1434 - accuracy: 0.5979"
     ]
    },
    {
     "name": "stderr",
     "output_type": "stream",
     "text": [
      "[codecarbon INFO @ 12:49:37] Energy consumed for RAM : 0.001151 kWh. RAM Power : 5.755537033081055 W\n",
      "[codecarbon INFO @ 12:49:37] Energy consumed for all CPUs : 0.000000 kWh. All CPUs Power : 0.0 W\n",
      "[codecarbon INFO @ 12:49:37] 0.001151 kWh of electricity used since the begining.\n"
     ]
    },
    {
     "name": "stdout",
     "output_type": "stream",
     "text": [
      "138/391 [=========>....................] - ETA: 1:34 - loss: 1.1443 - accuracy: 0.5978"
     ]
    },
    {
     "name": "stderr",
     "output_type": "stream",
     "text": [
      "[codecarbon INFO @ 12:49:43] Energy consumed for RAM : 0.001223 kWh. RAM Power : 5.755537033081055 W\n",
      "[codecarbon INFO @ 12:49:43] Energy consumed for all CPUs : 0.000000 kWh. All CPUs Power : 0.0 W\n",
      "[codecarbon INFO @ 12:49:43] 0.001223 kWh of electricity used since the begining.\n"
     ]
    },
    {
     "name": "stdout",
     "output_type": "stream",
     "text": [
      "162/391 [===========>..................] - ETA: 1:25 - loss: 1.1449 - accuracy: 0.5979"
     ]
    },
    {
     "name": "stderr",
     "output_type": "stream",
     "text": [
      "[codecarbon INFO @ 12:49:52] Energy consumed for RAM : 0.001175 kWh. RAM Power : 5.755537033081055 W\n",
      "[codecarbon INFO @ 12:49:52] Energy consumed for all CPUs : 0.000000 kWh. All CPUs Power : 0.0 W\n",
      "[codecarbon INFO @ 12:49:52] 0.001175 kWh of electricity used since the begining.\n"
     ]
    },
    {
     "name": "stdout",
     "output_type": "stream",
     "text": [
      "179/391 [============>.................] - ETA: 1:19 - loss: 1.1452 - accuracy: 0.5980"
     ]
    },
    {
     "name": "stderr",
     "output_type": "stream",
     "text": [
      "[codecarbon INFO @ 12:49:58] Energy consumed for RAM : 0.001247 kWh. RAM Power : 5.755537033081055 W\n",
      "[codecarbon INFO @ 12:49:58] Energy consumed for all CPUs : 0.000000 kWh. All CPUs Power : 0.0 W\n",
      "[codecarbon INFO @ 12:49:58] 0.001247 kWh of electricity used since the begining.\n"
     ]
    },
    {
     "name": "stdout",
     "output_type": "stream",
     "text": [
      "202/391 [==============>...............] - ETA: 1:10 - loss: 1.1455 - accuracy: 0.5980"
     ]
    },
    {
     "name": "stderr",
     "output_type": "stream",
     "text": [
      "[codecarbon INFO @ 12:50:07] Energy consumed for RAM : 0.001199 kWh. RAM Power : 5.755537033081055 W\n",
      "[codecarbon INFO @ 12:50:07] Energy consumed for all CPUs : 0.000000 kWh. All CPUs Power : 0.0 W\n",
      "[codecarbon INFO @ 12:50:07] 0.001199 kWh of electricity used since the begining.\n"
     ]
    },
    {
     "name": "stdout",
     "output_type": "stream",
     "text": [
      "219/391 [===============>..............] - ETA: 1:04 - loss: 1.1454 - accuracy: 0.5981"
     ]
    },
    {
     "name": "stderr",
     "output_type": "stream",
     "text": [
      "[codecarbon INFO @ 12:50:13] Energy consumed for RAM : 0.001271 kWh. RAM Power : 5.755537033081055 W\n",
      "[codecarbon INFO @ 12:50:13] Energy consumed for all CPUs : 0.000000 kWh. All CPUs Power : 0.0 W\n",
      "[codecarbon INFO @ 12:50:13] 0.001271 kWh of electricity used since the begining.\n"
     ]
    },
    {
     "name": "stdout",
     "output_type": "stream",
     "text": [
      "242/391 [=================>............] - ETA: 55s - loss: 1.1452 - accuracy: 0.5982"
     ]
    },
    {
     "name": "stderr",
     "output_type": "stream",
     "text": [
      "[codecarbon INFO @ 12:50:22] Energy consumed for RAM : 0.001223 kWh. RAM Power : 5.755537033081055 W\n",
      "[codecarbon INFO @ 12:50:22] Energy consumed for all CPUs : 0.000000 kWh. All CPUs Power : 0.0 W\n",
      "[codecarbon INFO @ 12:50:22] 0.001223 kWh of electricity used since the begining.\n"
     ]
    },
    {
     "name": "stdout",
     "output_type": "stream",
     "text": [
      "259/391 [==================>...........] - ETA: 49s - loss: 1.1449 - accuracy: 0.5983"
     ]
    },
    {
     "name": "stderr",
     "output_type": "stream",
     "text": [
      "[codecarbon INFO @ 12:50:28] Energy consumed for RAM : 0.001295 kWh. RAM Power : 5.755537033081055 W\n",
      "[codecarbon INFO @ 12:50:28] Energy consumed for all CPUs : 0.000000 kWh. All CPUs Power : 0.0 W\n",
      "[codecarbon INFO @ 12:50:28] 0.001295 kWh of electricity used since the begining.\n"
     ]
    },
    {
     "name": "stdout",
     "output_type": "stream",
     "text": [
      "283/391 [====================>.........] - ETA: 40s - loss: 1.1446 - accuracy: 0.5985"
     ]
    },
    {
     "name": "stderr",
     "output_type": "stream",
     "text": [
      "[codecarbon INFO @ 12:50:37] Energy consumed for RAM : 0.001247 kWh. RAM Power : 5.755537033081055 W\n",
      "[codecarbon INFO @ 12:50:37] Energy consumed for all CPUs : 0.000000 kWh. All CPUs Power : 0.0 W\n",
      "[codecarbon INFO @ 12:50:37] 0.001247 kWh of electricity used since the begining.\n"
     ]
    },
    {
     "name": "stdout",
     "output_type": "stream",
     "text": [
      "300/391 [======================>.......] - ETA: 33s - loss: 1.1444 - accuracy: 0.5986"
     ]
    },
    {
     "name": "stderr",
     "output_type": "stream",
     "text": [
      "[codecarbon INFO @ 12:50:43] Energy consumed for RAM : 0.001319 kWh. RAM Power : 5.755537033081055 W\n",
      "[codecarbon INFO @ 12:50:43] Energy consumed for all CPUs : 0.000000 kWh. All CPUs Power : 0.0 W\n",
      "[codecarbon INFO @ 12:50:43] 0.001319 kWh of electricity used since the begining.\n"
     ]
    },
    {
     "name": "stdout",
     "output_type": "stream",
     "text": [
      "323/391 [=======================>......] - ETA: 25s - loss: 1.1441 - accuracy: 0.5987"
     ]
    },
    {
     "name": "stderr",
     "output_type": "stream",
     "text": [
      "[codecarbon INFO @ 12:50:52] Energy consumed for RAM : 0.001271 kWh. RAM Power : 5.755537033081055 W\n",
      "[codecarbon INFO @ 12:50:52] Energy consumed for all CPUs : 0.000000 kWh. All CPUs Power : 0.0 W\n",
      "[codecarbon INFO @ 12:50:52] 0.001271 kWh of electricity used since the begining.\n"
     ]
    },
    {
     "name": "stdout",
     "output_type": "stream",
     "text": [
      "340/391 [=========================>....] - ETA: 19s - loss: 1.1439 - accuracy: 0.5987"
     ]
    },
    {
     "name": "stderr",
     "output_type": "stream",
     "text": [
      "[codecarbon INFO @ 12:50:58] Energy consumed for RAM : 0.001343 kWh. RAM Power : 5.755537033081055 W\n",
      "[codecarbon INFO @ 12:50:58] Energy consumed for all CPUs : 0.000000 kWh. All CPUs Power : 0.0 W\n",
      "[codecarbon INFO @ 12:50:58] 0.001343 kWh of electricity used since the begining.\n"
     ]
    },
    {
     "name": "stdout",
     "output_type": "stream",
     "text": [
      "363/391 [==========================>...] - ETA: 10s - loss: 1.1436 - accuracy: 0.5988"
     ]
    },
    {
     "name": "stderr",
     "output_type": "stream",
     "text": [
      "[codecarbon INFO @ 12:51:07] Energy consumed for RAM : 0.001295 kWh. RAM Power : 5.755537033081055 W\n",
      "[codecarbon INFO @ 12:51:07] Energy consumed for all CPUs : 0.000000 kWh. All CPUs Power : 0.0 W\n",
      "[codecarbon INFO @ 12:51:07] 0.001295 kWh of electricity used since the begining.\n"
     ]
    },
    {
     "name": "stdout",
     "output_type": "stream",
     "text": [
      "380/391 [============================>.] - ETA: 4s - loss: 1.1434 - accuracy: 0.5989"
     ]
    },
    {
     "name": "stderr",
     "output_type": "stream",
     "text": [
      "[codecarbon INFO @ 12:51:13] Energy consumed for RAM : 0.001367 kWh. RAM Power : 5.755537033081055 W\n",
      "[codecarbon INFO @ 12:51:13] Energy consumed for all CPUs : 0.000000 kWh. All CPUs Power : 0.0 W\n",
      "[codecarbon INFO @ 12:51:13] 0.001367 kWh of electricity used since the begining.\n"
     ]
    },
    {
     "name": "stdout",
     "output_type": "stream",
     "text": [
      "391/391 [==============================] - ETA: 0s - loss: 1.1433 - accuracy: 0.5989"
     ]
    },
    {
     "name": "stderr",
     "output_type": "stream",
     "text": [
      "[codecarbon INFO @ 12:51:22] Energy consumed for RAM : 0.001319 kWh. RAM Power : 5.755537033081055 W\n",
      "[codecarbon INFO @ 12:51:22] Energy consumed for all CPUs : 0.000000 kWh. All CPUs Power : 0.0 W\n",
      "[codecarbon INFO @ 12:51:22] 0.001319 kWh of electricity used since the begining.\n",
      "[codecarbon INFO @ 12:51:28] Energy consumed for RAM : 0.001391 kWh. RAM Power : 5.755537033081055 W\n",
      "[codecarbon INFO @ 12:51:28] Energy consumed for all CPUs : 0.000000 kWh. All CPUs Power : 0.0 W\n",
      "[codecarbon INFO @ 12:51:28] 0.001391 kWh of electricity used since the begining.\n",
      "[codecarbon INFO @ 12:51:37] Energy consumed for RAM : 0.001343 kWh. RAM Power : 5.755537033081055 W\n",
      "[codecarbon INFO @ 12:51:37] Energy consumed for all CPUs : 0.000000 kWh. All CPUs Power : 0.0 W\n",
      "[codecarbon INFO @ 12:51:37] 0.001343 kWh of electricity used since the begining.\n"
     ]
    },
    {
     "name": "stdout",
     "output_type": "stream",
     "text": [
      "391/391 [==============================] - 169s 432ms/step - loss: 1.1433 - accuracy: 0.5989 - val_loss: 1.1287 - val_accuracy: 0.6040\n",
      "Epoch 6/10\n",
      "  8/391 [..............................] - ETA: 2:21 - loss: 1.0831 - accuracy: 0.6230"
     ]
    },
    {
     "name": "stderr",
     "output_type": "stream",
     "text": [
      "[codecarbon INFO @ 12:51:43] Energy consumed for RAM : 0.001415 kWh. RAM Power : 5.755537033081055 W\n",
      "[codecarbon INFO @ 12:51:43] Energy consumed for all CPUs : 0.000000 kWh. All CPUs Power : 0.0 W\n",
      "[codecarbon INFO @ 12:51:43] 0.001415 kWh of electricity used since the begining.\n"
     ]
    },
    {
     "name": "stdout",
     "output_type": "stream",
     "text": [
      " 32/391 [=>............................] - ETA: 2:12 - loss: 1.0841 - accuracy: 0.6202"
     ]
    },
    {
     "name": "stderr",
     "output_type": "stream",
     "text": [
      "[codecarbon INFO @ 12:51:52] Energy consumed for RAM : 0.001367 kWh. RAM Power : 5.755537033081055 W\n",
      "[codecarbon INFO @ 12:51:52] Energy consumed for all CPUs : 0.000000 kWh. All CPUs Power : 0.0 W\n",
      "[codecarbon INFO @ 12:51:52] 0.001367 kWh of electricity used since the begining.\n"
     ]
    },
    {
     "name": "stdout",
     "output_type": "stream",
     "text": [
      " 48/391 [==>...........................] - ETA: 2:07 - loss: 1.0868 - accuracy: 0.6187"
     ]
    },
    {
     "name": "stderr",
     "output_type": "stream",
     "text": [
      "[codecarbon INFO @ 12:51:58] Energy consumed for RAM : 0.001439 kWh. RAM Power : 5.755537033081055 W\n",
      "[codecarbon INFO @ 12:51:58] Energy consumed for all CPUs : 0.000000 kWh. All CPUs Power : 0.0 W\n",
      "[codecarbon INFO @ 12:51:58] 0.001439 kWh of electricity used since the begining.\n"
     ]
    },
    {
     "name": "stdout",
     "output_type": "stream",
     "text": [
      " 72/391 [====>.........................] - ETA: 1:58 - loss: 1.0902 - accuracy: 0.6174"
     ]
    },
    {
     "name": "stderr",
     "output_type": "stream",
     "text": [
      "[codecarbon INFO @ 12:52:07] Energy consumed for RAM : 0.001391 kWh. RAM Power : 5.755537033081055 W\n",
      "[codecarbon INFO @ 12:52:07] Energy consumed for all CPUs : 0.000000 kWh. All CPUs Power : 0.0 W\n",
      "[codecarbon INFO @ 12:52:07] 0.001391 kWh of electricity used since the begining.\n"
     ]
    },
    {
     "name": "stdout",
     "output_type": "stream",
     "text": [
      " 88/391 [=====>........................] - ETA: 1:53 - loss: 1.0911 - accuracy: 0.6170"
     ]
    },
    {
     "name": "stderr",
     "output_type": "stream",
     "text": [
      "[codecarbon INFO @ 12:52:13] Energy consumed for RAM : 0.001463 kWh. RAM Power : 5.755537033081055 W\n",
      "[codecarbon INFO @ 12:52:13] Energy consumed for all CPUs : 0.000000 kWh. All CPUs Power : 0.0 W\n",
      "[codecarbon INFO @ 12:52:13] 0.001463 kWh of electricity used since the begining.\n"
     ]
    },
    {
     "name": "stdout",
     "output_type": "stream",
     "text": [
      "112/391 [=======>......................] - ETA: 1:44 - loss: 1.0926 - accuracy: 0.6166"
     ]
    },
    {
     "name": "stderr",
     "output_type": "stream",
     "text": [
      "[codecarbon INFO @ 12:52:22] Energy consumed for RAM : 0.001415 kWh. RAM Power : 5.755537033081055 W\n",
      "[codecarbon INFO @ 12:52:22] Energy consumed for all CPUs : 0.000000 kWh. All CPUs Power : 0.0 W\n",
      "[codecarbon INFO @ 12:52:22] 0.001415 kWh of electricity used since the begining.\n"
     ]
    },
    {
     "name": "stdout",
     "output_type": "stream",
     "text": [
      "128/391 [========>.....................] - ETA: 1:38 - loss: 1.0937 - accuracy: 0.6164"
     ]
    },
    {
     "name": "stderr",
     "output_type": "stream",
     "text": [
      "[codecarbon INFO @ 12:52:28] Energy consumed for RAM : 0.001487 kWh. RAM Power : 5.755537033081055 W\n",
      "[codecarbon INFO @ 12:52:28] Energy consumed for all CPUs : 0.000000 kWh. All CPUs Power : 0.0 W\n",
      "[codecarbon INFO @ 12:52:28] 0.001487 kWh of electricity used since the begining.\n"
     ]
    },
    {
     "name": "stdout",
     "output_type": "stream",
     "text": [
      "152/391 [==========>...................] - ETA: 1:29 - loss: 1.0942 - accuracy: 0.6163"
     ]
    },
    {
     "name": "stderr",
     "output_type": "stream",
     "text": [
      "[codecarbon INFO @ 12:52:37] Energy consumed for RAM : 0.001439 kWh. RAM Power : 5.755537033081055 W\n",
      "[codecarbon INFO @ 12:52:37] Energy consumed for all CPUs : 0.000000 kWh. All CPUs Power : 0.0 W\n",
      "[codecarbon INFO @ 12:52:37] 0.001439 kWh of electricity used since the begining.\n"
     ]
    },
    {
     "name": "stdout",
     "output_type": "stream",
     "text": [
      "169/391 [===========>..................] - ETA: 1:22 - loss: 1.0948 - accuracy: 0.6160"
     ]
    },
    {
     "name": "stderr",
     "output_type": "stream",
     "text": [
      "[codecarbon INFO @ 12:52:43] Energy consumed for RAM : 0.001511 kWh. RAM Power : 5.755537033081055 W\n",
      "[codecarbon INFO @ 12:52:43] Energy consumed for all CPUs : 0.000000 kWh. All CPUs Power : 0.0 W\n",
      "[codecarbon INFO @ 12:52:43] 0.001511 kWh of electricity used since the begining.\n"
     ]
    },
    {
     "name": "stdout",
     "output_type": "stream",
     "text": [
      "192/391 [=============>................] - ETA: 1:14 - loss: 1.0957 - accuracy: 0.6154"
     ]
    },
    {
     "name": "stderr",
     "output_type": "stream",
     "text": [
      "[codecarbon INFO @ 12:52:52] Energy consumed for RAM : 0.001463 kWh. RAM Power : 5.755537033081055 W\n",
      "[codecarbon INFO @ 12:52:52] Energy consumed for all CPUs : 0.000000 kWh. All CPUs Power : 0.0 W\n",
      "[codecarbon INFO @ 12:52:52] 0.001463 kWh of electricity used since the begining.\n"
     ]
    },
    {
     "name": "stdout",
     "output_type": "stream",
     "text": [
      "209/391 [===============>..............] - ETA: 1:07 - loss: 1.0964 - accuracy: 0.6150"
     ]
    },
    {
     "name": "stderr",
     "output_type": "stream",
     "text": [
      "[codecarbon INFO @ 12:52:58] Energy consumed for RAM : 0.001535 kWh. RAM Power : 5.755537033081055 W\n",
      "[codecarbon INFO @ 12:52:58] Energy consumed for all CPUs : 0.000000 kWh. All CPUs Power : 0.0 W\n",
      "[codecarbon INFO @ 12:52:58] 0.001535 kWh of electricity used since the begining.\n"
     ]
    },
    {
     "name": "stdout",
     "output_type": "stream",
     "text": [
      "232/391 [================>.............] - ETA: 59s - loss: 1.0971 - accuracy: 0.6145"
     ]
    },
    {
     "name": "stderr",
     "output_type": "stream",
     "text": [
      "[codecarbon INFO @ 12:53:07] Energy consumed for RAM : 0.001487 kWh. RAM Power : 5.755537033081055 W\n",
      "[codecarbon INFO @ 12:53:07] Energy consumed for all CPUs : 0.000000 kWh. All CPUs Power : 0.0 W\n",
      "[codecarbon INFO @ 12:53:07] 0.001487 kWh of electricity used since the begining.\n"
     ]
    },
    {
     "name": "stdout",
     "output_type": "stream",
     "text": [
      "248/391 [==================>...........] - ETA: 53s - loss: 1.0975 - accuracy: 0.6142"
     ]
    },
    {
     "name": "stderr",
     "output_type": "stream",
     "text": [
      "[codecarbon INFO @ 12:53:13] Energy consumed for RAM : 0.001559 kWh. RAM Power : 5.755537033081055 W\n",
      "[codecarbon INFO @ 12:53:13] Energy consumed for all CPUs : 0.000000 kWh. All CPUs Power : 0.0 W\n",
      "[codecarbon INFO @ 12:53:13] 0.001559 kWh of electricity used since the begining.\n"
     ]
    },
    {
     "name": "stdout",
     "output_type": "stream",
     "text": [
      "272/391 [===================>..........] - ETA: 44s - loss: 1.0983 - accuracy: 0.6138"
     ]
    },
    {
     "name": "stderr",
     "output_type": "stream",
     "text": [
      "[codecarbon INFO @ 12:53:22] Energy consumed for RAM : 0.001511 kWh. RAM Power : 5.755537033081055 W\n",
      "[codecarbon INFO @ 12:53:22] Energy consumed for all CPUs : 0.000000 kWh. All CPUs Power : 0.0 W\n",
      "[codecarbon INFO @ 12:53:22] 0.001511 kWh of electricity used since the begining.\n"
     ]
    },
    {
     "name": "stdout",
     "output_type": "stream",
     "text": [
      "289/391 [=====================>........] - ETA: 38s - loss: 1.0989 - accuracy: 0.6135"
     ]
    },
    {
     "name": "stderr",
     "output_type": "stream",
     "text": [
      "[codecarbon INFO @ 12:53:28] Energy consumed for RAM : 0.001583 kWh. RAM Power : 5.755537033081055 W\n",
      "[codecarbon INFO @ 12:53:28] Energy consumed for all CPUs : 0.000000 kWh. All CPUs Power : 0.0 W\n",
      "[codecarbon INFO @ 12:53:28] 0.001583 kWh of electricity used since the begining.\n"
     ]
    },
    {
     "name": "stdout",
     "output_type": "stream",
     "text": [
      "312/391 [======================>.......] - ETA: 29s - loss: 1.0997 - accuracy: 0.6130"
     ]
    },
    {
     "name": "stderr",
     "output_type": "stream",
     "text": [
      "[codecarbon INFO @ 12:53:37] Energy consumed for RAM : 0.001535 kWh. RAM Power : 5.755537033081055 W\n",
      "[codecarbon INFO @ 12:53:37] Energy consumed for all CPUs : 0.000000 kWh. All CPUs Power : 0.0 W\n",
      "[codecarbon INFO @ 12:53:37] 0.001535 kWh of electricity used since the begining.\n"
     ]
    },
    {
     "name": "stdout",
     "output_type": "stream",
     "text": [
      "329/391 [========================>.....] - ETA: 23s - loss: 1.1003 - accuracy: 0.6128"
     ]
    },
    {
     "name": "stderr",
     "output_type": "stream",
     "text": [
      "[codecarbon INFO @ 12:53:43] Energy consumed for RAM : 0.001607 kWh. RAM Power : 5.755537033081055 W\n",
      "[codecarbon INFO @ 12:53:43] Energy consumed for all CPUs : 0.000000 kWh. All CPUs Power : 0.0 W\n",
      "[codecarbon INFO @ 12:53:43] 0.001607 kWh of electricity used since the begining.\n"
     ]
    },
    {
     "name": "stdout",
     "output_type": "stream",
     "text": [
      "353/391 [==========================>...] - ETA: 14s - loss: 1.1011 - accuracy: 0.6124"
     ]
    },
    {
     "name": "stderr",
     "output_type": "stream",
     "text": [
      "[codecarbon INFO @ 12:53:52] Energy consumed for RAM : 0.001559 kWh. RAM Power : 5.755537033081055 W\n",
      "[codecarbon INFO @ 12:53:52] Energy consumed for all CPUs : 0.000000 kWh. All CPUs Power : 0.0 W\n",
      "[codecarbon INFO @ 12:53:52] 0.001559 kWh of electricity used since the begining.\n"
     ]
    },
    {
     "name": "stdout",
     "output_type": "stream",
     "text": [
      "369/391 [===========================>..] - ETA: 8s - loss: 1.1016 - accuracy: 0.6122"
     ]
    },
    {
     "name": "stderr",
     "output_type": "stream",
     "text": [
      "[codecarbon INFO @ 12:53:58] Energy consumed for RAM : 0.001631 kWh. RAM Power : 5.755537033081055 W\n",
      "[codecarbon INFO @ 12:53:58] Energy consumed for all CPUs : 0.000000 kWh. All CPUs Power : 0.0 W\n",
      "[codecarbon INFO @ 12:53:58] 0.001631 kWh of electricity used since the begining.\n"
     ]
    },
    {
     "name": "stdout",
     "output_type": "stream",
     "text": [
      "391/391 [==============================] - ETA: 0s - loss: 1.1022 - accuracy: 0.6119"
     ]
    },
    {
     "name": "stderr",
     "output_type": "stream",
     "text": [
      "[codecarbon INFO @ 12:54:07] Energy consumed for RAM : 0.001583 kWh. RAM Power : 5.755537033081055 W\n",
      "[codecarbon INFO @ 12:54:07] Energy consumed for all CPUs : 0.000000 kWh. All CPUs Power : 0.0 W\n",
      "[codecarbon INFO @ 12:54:07] 0.001583 kWh of electricity used since the begining.\n",
      "[codecarbon INFO @ 12:54:13] Energy consumed for RAM : 0.001655 kWh. RAM Power : 5.755537033081055 W\n",
      "[codecarbon INFO @ 12:54:13] Energy consumed for all CPUs : 0.000000 kWh. All CPUs Power : 0.0 W\n",
      "[codecarbon INFO @ 12:54:13] 0.001655 kWh of electricity used since the begining.\n",
      "[codecarbon INFO @ 12:54:22] Energy consumed for RAM : 0.001607 kWh. RAM Power : 5.755537033081055 W\n",
      "[codecarbon INFO @ 12:54:22] Energy consumed for all CPUs : 0.000000 kWh. All CPUs Power : 0.0 W\n",
      "[codecarbon INFO @ 12:54:22] 0.001607 kWh of electricity used since the begining.\n",
      "[codecarbon INFO @ 12:54:28] Energy consumed for RAM : 0.001679 kWh. RAM Power : 5.755537033081055 W\n",
      "[codecarbon INFO @ 12:54:28] Energy consumed for all CPUs : 0.000000 kWh. All CPUs Power : 0.0 W\n",
      "[codecarbon INFO @ 12:54:28] 0.001679 kWh of electricity used since the begining.\n"
     ]
    },
    {
     "name": "stdout",
     "output_type": "stream",
     "text": [
      "391/391 [==============================] - 169s 433ms/step - loss: 1.1023 - accuracy: 0.6119 - val_loss: 1.1206 - val_accuracy: 0.6100\n",
      "Epoch 7/10\n",
      " 20/391 [>.............................] - ETA: 2:18 - loss: 1.1308 - accuracy: 0.5957"
     ]
    },
    {
     "name": "stderr",
     "output_type": "stream",
     "text": [
      "[codecarbon INFO @ 12:54:37] Energy consumed for RAM : 0.001631 kWh. RAM Power : 5.755537033081055 W\n",
      "[codecarbon INFO @ 12:54:37] Energy consumed for all CPUs : 0.000000 kWh. All CPUs Power : 0.0 W\n",
      "[codecarbon INFO @ 12:54:37] 0.001631 kWh of electricity used since the begining.\n"
     ]
    },
    {
     "name": "stdout",
     "output_type": "stream",
     "text": [
      " 37/391 [=>............................] - ETA: 2:11 - loss: 1.1381 - accuracy: 0.5916"
     ]
    },
    {
     "name": "stderr",
     "output_type": "stream",
     "text": [
      "[codecarbon INFO @ 12:54:43] Energy consumed for RAM : 0.001703 kWh. RAM Power : 5.755537033081055 W\n",
      "[codecarbon INFO @ 12:54:43] Energy consumed for all CPUs : 0.000000 kWh. All CPUs Power : 0.0 W\n",
      "[codecarbon INFO @ 12:54:43] 0.001703 kWh of electricity used since the begining.\n"
     ]
    },
    {
     "name": "stdout",
     "output_type": "stream",
     "text": [
      " 60/391 [===>..........................] - ETA: 2:03 - loss: 1.1265 - accuracy: 0.5963"
     ]
    },
    {
     "name": "stderr",
     "output_type": "stream",
     "text": [
      "[codecarbon INFO @ 12:54:52] Energy consumed for RAM : 0.001655 kWh. RAM Power : 5.755537033081055 W\n",
      "[codecarbon INFO @ 12:54:52] Energy consumed for all CPUs : 0.000000 kWh. All CPUs Power : 0.0 W\n",
      "[codecarbon INFO @ 12:54:52] 0.001655 kWh of electricity used since the begining.\n"
     ]
    },
    {
     "name": "stdout",
     "output_type": "stream",
     "text": [
      " 77/391 [====>.........................] - ETA: 1:56 - loss: 1.1209 - accuracy: 0.5986"
     ]
    },
    {
     "name": "stderr",
     "output_type": "stream",
     "text": [
      "[codecarbon INFO @ 12:54:58] Energy consumed for RAM : 0.001727 kWh. RAM Power : 5.755537033081055 W\n",
      "[codecarbon INFO @ 12:54:58] Energy consumed for all CPUs : 0.000000 kWh. All CPUs Power : 0.0 W\n",
      "[codecarbon INFO @ 12:54:58] 0.001727 kWh of electricity used since the begining.\n"
     ]
    },
    {
     "name": "stdout",
     "output_type": "stream",
     "text": [
      "100/391 [======>.......................] - ETA: 1:48 - loss: 1.1170 - accuracy: 0.6004"
     ]
    },
    {
     "name": "stderr",
     "output_type": "stream",
     "text": [
      "[codecarbon INFO @ 12:55:07] Energy consumed for RAM : 0.001679 kWh. RAM Power : 5.755537033081055 W\n",
      "[codecarbon INFO @ 12:55:07] Energy consumed for all CPUs : 0.000000 kWh. All CPUs Power : 0.0 W\n",
      "[codecarbon INFO @ 12:55:07] 0.001679 kWh of electricity used since the begining.\n"
     ]
    },
    {
     "name": "stdout",
     "output_type": "stream",
     "text": [
      "117/391 [=======>......................] - ETA: 1:42 - loss: 1.1150 - accuracy: 0.6013"
     ]
    },
    {
     "name": "stderr",
     "output_type": "stream",
     "text": [
      "[codecarbon INFO @ 12:55:13] Energy consumed for RAM : 0.001751 kWh. RAM Power : 5.755537033081055 W\n",
      "[codecarbon INFO @ 12:55:13] Energy consumed for all CPUs : 0.000000 kWh. All CPUs Power : 0.0 W\n",
      "[codecarbon INFO @ 12:55:13] 0.001751 kWh of electricity used since the begining.\n"
     ]
    },
    {
     "name": "stdout",
     "output_type": "stream",
     "text": [
      "140/391 [=========>....................] - ETA: 1:33 - loss: 1.1119 - accuracy: 0.6028"
     ]
    },
    {
     "name": "stderr",
     "output_type": "stream",
     "text": [
      "[codecarbon INFO @ 12:55:22] Energy consumed for RAM : 0.001703 kWh. RAM Power : 5.755537033081055 W\n",
      "[codecarbon INFO @ 12:55:22] Energy consumed for all CPUs : 0.000000 kWh. All CPUs Power : 0.0 W\n",
      "[codecarbon INFO @ 12:55:22] 0.001703 kWh of electricity used since the begining.\n"
     ]
    },
    {
     "name": "stdout",
     "output_type": "stream",
     "text": [
      "157/391 [===========>..................] - ETA: 1:27 - loss: 1.1101 - accuracy: 0.6036"
     ]
    },
    {
     "name": "stderr",
     "output_type": "stream",
     "text": [
      "[codecarbon INFO @ 12:55:28] Energy consumed for RAM : 0.001775 kWh. RAM Power : 5.755537033081055 W\n",
      "[codecarbon INFO @ 12:55:28] Energy consumed for all CPUs : 0.000000 kWh. All CPUs Power : 0.0 W\n",
      "[codecarbon INFO @ 12:55:28] 0.001775 kWh of electricity used since the begining.\n"
     ]
    },
    {
     "name": "stdout",
     "output_type": "stream",
     "text": [
      "180/391 [============>.................] - ETA: 1:19 - loss: 1.1082 - accuracy: 0.6046"
     ]
    },
    {
     "name": "stderr",
     "output_type": "stream",
     "text": [
      "[codecarbon INFO @ 12:55:37] Energy consumed for RAM : 0.001727 kWh. RAM Power : 5.755537033081055 W\n",
      "[codecarbon INFO @ 12:55:37] Energy consumed for all CPUs : 0.000000 kWh. All CPUs Power : 0.0 W\n",
      "[codecarbon INFO @ 12:55:37] 0.001727 kWh of electricity used since the begining.\n"
     ]
    },
    {
     "name": "stdout",
     "output_type": "stream",
     "text": [
      "197/391 [==============>...............] - ETA: 1:12 - loss: 1.1069 - accuracy: 0.6053"
     ]
    },
    {
     "name": "stderr",
     "output_type": "stream",
     "text": [
      "[codecarbon INFO @ 12:55:43] Energy consumed for RAM : 0.001799 kWh. RAM Power : 5.755537033081055 W\n",
      "[codecarbon INFO @ 12:55:43] Energy consumed for all CPUs : 0.000000 kWh. All CPUs Power : 0.0 W\n",
      "[codecarbon INFO @ 12:55:43] 0.001799 kWh of electricity used since the begining.\n"
     ]
    },
    {
     "name": "stdout",
     "output_type": "stream",
     "text": [
      "220/391 [===============>..............] - ETA: 1:03 - loss: 1.1055 - accuracy: 0.6060"
     ]
    },
    {
     "name": "stderr",
     "output_type": "stream",
     "text": [
      "[codecarbon INFO @ 12:55:52] Energy consumed for RAM : 0.001751 kWh. RAM Power : 5.755537033081055 W\n",
      "[codecarbon INFO @ 12:55:52] Energy consumed for all CPUs : 0.000000 kWh. All CPUs Power : 0.0 W\n",
      "[codecarbon INFO @ 12:55:52] 0.001751 kWh of electricity used since the begining.\n"
     ]
    },
    {
     "name": "stdout",
     "output_type": "stream",
     "text": [
      "237/391 [=================>............] - ETA: 57s - loss: 1.1046 - accuracy: 0.6065"
     ]
    },
    {
     "name": "stderr",
     "output_type": "stream",
     "text": [
      "[codecarbon INFO @ 12:55:58] Energy consumed for RAM : 0.001823 kWh. RAM Power : 5.755537033081055 W\n",
      "[codecarbon INFO @ 12:55:58] Energy consumed for all CPUs : 0.000000 kWh. All CPUs Power : 0.0 W\n",
      "[codecarbon INFO @ 12:55:58] 0.001823 kWh of electricity used since the begining.\n"
     ]
    },
    {
     "name": "stdout",
     "output_type": "stream",
     "text": [
      "261/391 [===================>..........] - ETA: 48s - loss: 1.1035 - accuracy: 0.6071"
     ]
    },
    {
     "name": "stderr",
     "output_type": "stream",
     "text": [
      "[codecarbon INFO @ 12:56:07] Energy consumed for RAM : 0.001775 kWh. RAM Power : 5.755537033081055 W\n",
      "[codecarbon INFO @ 12:56:07] Energy consumed for all CPUs : 0.000000 kWh. All CPUs Power : 0.0 W\n",
      "[codecarbon INFO @ 12:56:07] 0.001775 kWh of electricity used since the begining.\n"
     ]
    },
    {
     "name": "stdout",
     "output_type": "stream",
     "text": [
      "277/391 [====================>.........] - ETA: 42s - loss: 1.1028 - accuracy: 0.6075"
     ]
    },
    {
     "name": "stderr",
     "output_type": "stream",
     "text": [
      "[codecarbon INFO @ 12:56:13] Energy consumed for RAM : 0.001847 kWh. RAM Power : 5.755537033081055 W\n",
      "[codecarbon INFO @ 12:56:13] Energy consumed for all CPUs : 0.000000 kWh. All CPUs Power : 0.0 W\n",
      "[codecarbon INFO @ 12:56:13] 0.001847 kWh of electricity used since the begining.\n"
     ]
    },
    {
     "name": "stdout",
     "output_type": "stream",
     "text": [
      "300/391 [======================>.......] - ETA: 34s - loss: 1.1021 - accuracy: 0.6080"
     ]
    },
    {
     "name": "stderr",
     "output_type": "stream",
     "text": [
      "[codecarbon INFO @ 12:56:22] Energy consumed for RAM : 0.001799 kWh. RAM Power : 5.755537033081055 W\n",
      "[codecarbon INFO @ 12:56:22] Energy consumed for all CPUs : 0.000000 kWh. All CPUs Power : 0.0 W\n",
      "[codecarbon INFO @ 12:56:22] 0.001799 kWh of electricity used since the begining.\n"
     ]
    },
    {
     "name": "stdout",
     "output_type": "stream",
     "text": [
      "317/391 [=======================>......] - ETA: 27s - loss: 1.1017 - accuracy: 0.6083"
     ]
    },
    {
     "name": "stderr",
     "output_type": "stream",
     "text": [
      "[codecarbon INFO @ 12:56:28] Energy consumed for RAM : 0.001871 kWh. RAM Power : 5.755537033081055 W\n",
      "[codecarbon INFO @ 12:56:28] Energy consumed for all CPUs : 0.000000 kWh. All CPUs Power : 0.0 W\n",
      "[codecarbon INFO @ 12:56:28] 0.001871 kWh of electricity used since the begining.\n"
     ]
    },
    {
     "name": "stdout",
     "output_type": "stream",
     "text": [
      "341/391 [=========================>....] - ETA: 18s - loss: 1.1011 - accuracy: 0.6086"
     ]
    },
    {
     "name": "stderr",
     "output_type": "stream",
     "text": [
      "[codecarbon INFO @ 12:56:37] Energy consumed for RAM : 0.001823 kWh. RAM Power : 5.755537033081055 W\n",
      "[codecarbon INFO @ 12:56:37] Energy consumed for all CPUs : 0.000000 kWh. All CPUs Power : 0.0 W\n",
      "[codecarbon INFO @ 12:56:37] 0.001823 kWh of electricity used since the begining.\n"
     ]
    },
    {
     "name": "stdout",
     "output_type": "stream",
     "text": [
      "357/391 [==========================>...] - ETA: 12s - loss: 1.1008 - accuracy: 0.6088"
     ]
    },
    {
     "name": "stderr",
     "output_type": "stream",
     "text": [
      "[codecarbon INFO @ 12:56:43] Energy consumed for RAM : 0.001895 kWh. RAM Power : 5.755537033081055 W\n",
      "[codecarbon INFO @ 12:56:43] Energy consumed for all CPUs : 0.000000 kWh. All CPUs Power : 0.0 W\n",
      "[codecarbon INFO @ 12:56:43] 0.001895 kWh of electricity used since the begining.\n"
     ]
    },
    {
     "name": "stdout",
     "output_type": "stream",
     "text": [
      "381/391 [============================>.] - ETA: 3s - loss: 1.1003 - accuracy: 0.6091"
     ]
    },
    {
     "name": "stderr",
     "output_type": "stream",
     "text": [
      "[codecarbon INFO @ 12:56:52] Energy consumed for RAM : 0.001847 kWh. RAM Power : 5.755537033081055 W\n",
      "[codecarbon INFO @ 12:56:52] Energy consumed for all CPUs : 0.000000 kWh. All CPUs Power : 0.0 W\n",
      "[codecarbon INFO @ 12:56:52] 0.001847 kWh of electricity used since the begining.\n"
     ]
    },
    {
     "name": "stdout",
     "output_type": "stream",
     "text": [
      "391/391 [==============================] - ETA: 0s - loss: 1.1002 - accuracy: 0.6092"
     ]
    },
    {
     "name": "stderr",
     "output_type": "stream",
     "text": [
      "[codecarbon INFO @ 12:56:58] Energy consumed for RAM : 0.001919 kWh. RAM Power : 5.755537033081055 W\n",
      "[codecarbon INFO @ 12:56:58] Energy consumed for all CPUs : 0.000000 kWh. All CPUs Power : 0.0 W\n",
      "[codecarbon INFO @ 12:56:58] 0.001919 kWh of electricity used since the begining.\n",
      "[codecarbon INFO @ 12:57:07] Energy consumed for RAM : 0.001871 kWh. RAM Power : 5.755537033081055 W\n",
      "[codecarbon INFO @ 12:57:07] Energy consumed for all CPUs : 0.000000 kWh. All CPUs Power : 0.0 W\n",
      "[codecarbon INFO @ 12:57:07] 0.001871 kWh of electricity used since the begining.\n",
      "[codecarbon INFO @ 12:57:13] Energy consumed for RAM : 0.001943 kWh. RAM Power : 5.755537033081055 W\n",
      "[codecarbon INFO @ 12:57:13] Energy consumed for all CPUs : 0.000000 kWh. All CPUs Power : 0.0 W\n",
      "[codecarbon INFO @ 12:57:13] 0.001943 kWh of electricity used since the begining.\n"
     ]
    },
    {
     "name": "stdout",
     "output_type": "stream",
     "text": [
      "391/391 [==============================] - 169s 434ms/step - loss: 1.1002 - accuracy: 0.6092 - val_loss: 1.1097 - val_accuracy: 0.6149\n",
      "Epoch 8/10\n",
      "  8/391 [..............................] - ETA: 2:25 - loss: 1.0617 - accuracy: 0.6198"
     ]
    },
    {
     "name": "stderr",
     "output_type": "stream",
     "text": [
      "[codecarbon INFO @ 12:57:22] Energy consumed for RAM : 0.001895 kWh. RAM Power : 5.755537033081055 W\n",
      "[codecarbon INFO @ 12:57:22] Energy consumed for all CPUs : 0.000000 kWh. All CPUs Power : 0.0 W\n",
      "[codecarbon INFO @ 12:57:22] 0.001895 kWh of electricity used since the begining.\n"
     ]
    },
    {
     "name": "stdout",
     "output_type": "stream",
     "text": [
      " 25/391 [>.............................] - ETA: 2:17 - loss: 1.0770 - accuracy: 0.6158"
     ]
    },
    {
     "name": "stderr",
     "output_type": "stream",
     "text": [
      "[codecarbon INFO @ 12:57:28] Energy consumed for RAM : 0.001967 kWh. RAM Power : 5.755537033081055 W\n",
      "[codecarbon INFO @ 12:57:28] Energy consumed for all CPUs : 0.000000 kWh. All CPUs Power : 0.0 W\n",
      "[codecarbon INFO @ 12:57:28] 0.001967 kWh of electricity used since the begining.\n"
     ]
    },
    {
     "name": "stdout",
     "output_type": "stream",
     "text": [
      " 48/391 [==>...........................] - ETA: 2:08 - loss: 1.0615 - accuracy: 0.6220"
     ]
    },
    {
     "name": "stderr",
     "output_type": "stream",
     "text": [
      "[codecarbon INFO @ 12:57:37] Energy consumed for RAM : 0.001919 kWh. RAM Power : 5.755537033081055 W\n",
      "[codecarbon INFO @ 12:57:37] Energy consumed for all CPUs : 0.000000 kWh. All CPUs Power : 0.0 W\n",
      "[codecarbon INFO @ 12:57:37] 0.001919 kWh of electricity used since the begining.\n"
     ]
    },
    {
     "name": "stdout",
     "output_type": "stream",
     "text": [
      " 65/391 [===>..........................] - ETA: 2:01 - loss: 1.0584 - accuracy: 0.6235"
     ]
    },
    {
     "name": "stderr",
     "output_type": "stream",
     "text": [
      "[codecarbon INFO @ 12:57:43] Energy consumed for RAM : 0.001991 kWh. RAM Power : 5.755537033081055 W\n",
      "[codecarbon INFO @ 12:57:43] Energy consumed for all CPUs : 0.000000 kWh. All CPUs Power : 0.0 W\n",
      "[codecarbon INFO @ 12:57:43] 0.001991 kWh of electricity used since the begining.\n"
     ]
    },
    {
     "name": "stdout",
     "output_type": "stream",
     "text": [
      " 88/391 [=====>........................] - ETA: 1:53 - loss: 1.0561 - accuracy: 0.6251"
     ]
    },
    {
     "name": "stderr",
     "output_type": "stream",
     "text": [
      "[codecarbon INFO @ 12:57:52] Energy consumed for RAM : 0.001943 kWh. RAM Power : 5.755537033081055 W\n",
      "[codecarbon INFO @ 12:57:52] Energy consumed for all CPUs : 0.000000 kWh. All CPUs Power : 0.0 W\n",
      "[codecarbon INFO @ 12:57:52] 0.001943 kWh of electricity used since the begining.\n"
     ]
    },
    {
     "name": "stdout",
     "output_type": "stream",
     "text": [
      "105/391 [=======>......................] - ETA: 1:46 - loss: 1.0551 - accuracy: 0.6259"
     ]
    },
    {
     "name": "stderr",
     "output_type": "stream",
     "text": [
      "[codecarbon INFO @ 12:57:58] Energy consumed for RAM : 0.002015 kWh. RAM Power : 5.755537033081055 W\n",
      "[codecarbon INFO @ 12:57:58] Energy consumed for all CPUs : 0.000000 kWh. All CPUs Power : 0.0 W\n",
      "[codecarbon INFO @ 12:57:58] 0.002015 kWh of electricity used since the begining.\n"
     ]
    },
    {
     "name": "stdout",
     "output_type": "stream",
     "text": [
      "129/391 [========>.....................] - ETA: 1:37 - loss: 1.0547 - accuracy: 0.6264"
     ]
    },
    {
     "name": "stderr",
     "output_type": "stream",
     "text": [
      "[codecarbon INFO @ 12:58:07] Energy consumed for RAM : 0.001967 kWh. RAM Power : 5.755537033081055 W\n",
      "[codecarbon INFO @ 12:58:07] Energy consumed for all CPUs : 0.000000 kWh. All CPUs Power : 0.0 W\n",
      "[codecarbon INFO @ 12:58:07] 0.001967 kWh of electricity used since the begining.\n"
     ]
    },
    {
     "name": "stdout",
     "output_type": "stream",
     "text": [
      "147/391 [==========>...................] - ETA: 1:30 - loss: 1.0549 - accuracy: 0.6263"
     ]
    },
    {
     "name": "stderr",
     "output_type": "stream",
     "text": [
      "[codecarbon INFO @ 12:58:13] Energy consumed for RAM : 0.002039 kWh. RAM Power : 5.755537033081055 W\n",
      "[codecarbon INFO @ 12:58:13] Energy consumed for all CPUs : 0.000000 kWh. All CPUs Power : 0.0 W\n",
      "[codecarbon INFO @ 12:58:13] 0.002039 kWh of electricity used since the begining.\n"
     ]
    },
    {
     "name": "stdout",
     "output_type": "stream",
     "text": [
      "171/391 [============>.................] - ETA: 1:21 - loss: 1.0551 - accuracy: 0.6264"
     ]
    },
    {
     "name": "stderr",
     "output_type": "stream",
     "text": [
      "[codecarbon INFO @ 12:58:22] Energy consumed for RAM : 0.001991 kWh. RAM Power : 5.755537033081055 W\n",
      "[codecarbon INFO @ 12:58:22] Energy consumed for all CPUs : 0.000000 kWh. All CPUs Power : 0.0 W\n",
      "[codecarbon INFO @ 12:58:22] 0.001991 kWh of electricity used since the begining.\n"
     ]
    },
    {
     "name": "stdout",
     "output_type": "stream",
     "text": [
      "189/391 [=============>................] - ETA: 1:14 - loss: 1.0554 - accuracy: 0.6264"
     ]
    },
    {
     "name": "stderr",
     "output_type": "stream",
     "text": [
      "[codecarbon INFO @ 12:58:28] Energy consumed for RAM : 0.002063 kWh. RAM Power : 5.755537033081055 W\n",
      "[codecarbon INFO @ 12:58:28] Energy consumed for all CPUs : 0.000000 kWh. All CPUs Power : 0.0 W\n",
      "[codecarbon INFO @ 12:58:28] 0.002063 kWh of electricity used since the begining.\n"
     ]
    },
    {
     "name": "stdout",
     "output_type": "stream",
     "text": [
      "214/391 [===============>..............] - ETA: 1:04 - loss: 1.0557 - accuracy: 0.6264"
     ]
    },
    {
     "name": "stderr",
     "output_type": "stream",
     "text": [
      "[codecarbon INFO @ 12:58:37] Energy consumed for RAM : 0.002015 kWh. RAM Power : 5.755537033081055 W\n",
      "[codecarbon INFO @ 12:58:37] Energy consumed for all CPUs : 0.000000 kWh. All CPUs Power : 0.0 W\n",
      "[codecarbon INFO @ 12:58:37] 0.002015 kWh of electricity used since the begining.\n"
     ]
    },
    {
     "name": "stdout",
     "output_type": "stream",
     "text": [
      "232/391 [================>.............] - ETA: 57s - loss: 1.0560 - accuracy: 0.6264"
     ]
    },
    {
     "name": "stderr",
     "output_type": "stream",
     "text": [
      "[codecarbon INFO @ 12:58:43] Energy consumed for RAM : 0.002087 kWh. RAM Power : 5.755537033081055 W\n",
      "[codecarbon INFO @ 12:58:43] Energy consumed for all CPUs : 0.000000 kWh. All CPUs Power : 0.0 W\n",
      "[codecarbon INFO @ 12:58:43] 0.002087 kWh of electricity used since the begining.\n"
     ]
    },
    {
     "name": "stdout",
     "output_type": "stream",
     "text": [
      "257/391 [==================>...........] - ETA: 48s - loss: 1.0564 - accuracy: 0.6264"
     ]
    },
    {
     "name": "stderr",
     "output_type": "stream",
     "text": [
      "[codecarbon INFO @ 12:58:52] Energy consumed for RAM : 0.002039 kWh. RAM Power : 5.755537033081055 W\n",
      "[codecarbon INFO @ 12:58:52] Energy consumed for all CPUs : 0.000000 kWh. All CPUs Power : 0.0 W\n",
      "[codecarbon INFO @ 12:58:52] 0.002039 kWh of electricity used since the begining.\n"
     ]
    },
    {
     "name": "stdout",
     "output_type": "stream",
     "text": [
      "275/391 [====================>.........] - ETA: 41s - loss: 1.0567 - accuracy: 0.6264"
     ]
    },
    {
     "name": "stderr",
     "output_type": "stream",
     "text": [
      "[codecarbon INFO @ 12:58:58] Energy consumed for RAM : 0.002111 kWh. RAM Power : 5.755537033081055 W\n",
      "[codecarbon INFO @ 12:58:58] Energy consumed for all CPUs : 0.000000 kWh. All CPUs Power : 0.0 W\n",
      "[codecarbon INFO @ 12:58:58] 0.002111 kWh of electricity used since the begining.\n"
     ]
    },
    {
     "name": "stdout",
     "output_type": "stream",
     "text": [
      "300/391 [======================>.......] - ETA: 32s - loss: 1.0571 - accuracy: 0.6264"
     ]
    },
    {
     "name": "stderr",
     "output_type": "stream",
     "text": [
      "[codecarbon INFO @ 12:59:07] Energy consumed for RAM : 0.002063 kWh. RAM Power : 5.755537033081055 W\n",
      "[codecarbon INFO @ 12:59:07] Energy consumed for all CPUs : 0.000000 kWh. All CPUs Power : 0.0 W\n",
      "[codecarbon INFO @ 12:59:07] 0.002063 kWh of electricity used since the begining.\n"
     ]
    },
    {
     "name": "stdout",
     "output_type": "stream",
     "text": [
      "318/391 [=======================>......] - ETA: 26s - loss: 1.0574 - accuracy: 0.6263"
     ]
    },
    {
     "name": "stderr",
     "output_type": "stream",
     "text": [
      "[codecarbon INFO @ 12:59:13] Energy consumed for RAM : 0.002134 kWh. RAM Power : 5.755537033081055 W\n",
      "[codecarbon INFO @ 12:59:13] Energy consumed for all CPUs : 0.000000 kWh. All CPUs Power : 0.0 W\n",
      "[codecarbon INFO @ 12:59:13] 0.002134 kWh of electricity used since the begining.\n"
     ]
    },
    {
     "name": "stdout",
     "output_type": "stream",
     "text": [
      "342/391 [=========================>....] - ETA: 17s - loss: 1.0579 - accuracy: 0.6262"
     ]
    },
    {
     "name": "stderr",
     "output_type": "stream",
     "text": [
      "[codecarbon INFO @ 12:59:22] Energy consumed for RAM : 0.002087 kWh. RAM Power : 5.755537033081055 W\n",
      "[codecarbon INFO @ 12:59:22] Energy consumed for all CPUs : 0.000000 kWh. All CPUs Power : 0.0 W\n",
      "[codecarbon INFO @ 12:59:22] 0.002087 kWh of electricity used since the begining.\n"
     ]
    },
    {
     "name": "stdout",
     "output_type": "stream",
     "text": [
      "360/391 [==========================>...] - ETA: 11s - loss: 1.0584 - accuracy: 0.6261"
     ]
    },
    {
     "name": "stderr",
     "output_type": "stream",
     "text": [
      "[codecarbon INFO @ 12:59:28] Energy consumed for RAM : 0.002158 kWh. RAM Power : 5.755537033081055 W\n",
      "[codecarbon INFO @ 12:59:28] Energy consumed for all CPUs : 0.000000 kWh. All CPUs Power : 0.0 W\n",
      "[codecarbon INFO @ 12:59:28] 0.002158 kWh of electricity used since the begining.\n"
     ]
    },
    {
     "name": "stdout",
     "output_type": "stream",
     "text": [
      "385/391 [============================>.] - ETA: 2s - loss: 1.0589 - accuracy: 0.6259"
     ]
    },
    {
     "name": "stderr",
     "output_type": "stream",
     "text": [
      "[codecarbon INFO @ 12:59:37] Energy consumed for RAM : 0.002111 kWh. RAM Power : 5.755537033081055 W\n",
      "[codecarbon INFO @ 12:59:37] Energy consumed for all CPUs : 0.000000 kWh. All CPUs Power : 0.0 W\n",
      "[codecarbon INFO @ 12:59:37] 0.002111 kWh of electricity used since the begining.\n"
     ]
    },
    {
     "name": "stdout",
     "output_type": "stream",
     "text": [
      "391/391 [==============================] - ETA: 0s - loss: 1.0591 - accuracy: 0.6259"
     ]
    },
    {
     "name": "stderr",
     "output_type": "stream",
     "text": [
      "[codecarbon INFO @ 12:59:43] Energy consumed for RAM : 0.002182 kWh. RAM Power : 5.755537033081055 W\n",
      "[codecarbon INFO @ 12:59:43] Energy consumed for all CPUs : 0.000000 kWh. All CPUs Power : 0.0 W\n",
      "[codecarbon INFO @ 12:59:43] 0.002182 kWh of electricity used since the begining.\n",
      "[codecarbon INFO @ 12:59:52] Energy consumed for RAM : 0.002134 kWh. RAM Power : 5.755537033081055 W\n",
      "[codecarbon INFO @ 12:59:52] Energy consumed for all CPUs : 0.000000 kWh. All CPUs Power : 0.0 W\n",
      "[codecarbon INFO @ 12:59:52] 0.002134 kWh of electricity used since the begining.\n",
      "[codecarbon INFO @ 12:59:58] Energy consumed for RAM : 0.002206 kWh. RAM Power : 5.755537033081055 W\n",
      "[codecarbon INFO @ 12:59:58] Energy consumed for all CPUs : 0.000000 kWh. All CPUs Power : 0.0 W\n",
      "[codecarbon INFO @ 12:59:58] 0.002206 kWh of electricity used since the begining.\n"
     ]
    },
    {
     "name": "stdout",
     "output_type": "stream",
     "text": [
      "391/391 [==============================] - 162s 414ms/step - loss: 1.0591 - accuracy: 0.6259 - val_loss: 1.1018 - val_accuracy: 0.6134\n",
      "Epoch 9/10\n",
      " 17/391 [>.............................] - ETA: 2:09 - loss: 1.0816 - accuracy: 0.6227"
     ]
    },
    {
     "name": "stderr",
     "output_type": "stream",
     "text": [
      "[codecarbon INFO @ 13:00:07] Energy consumed for RAM : 0.002158 kWh. RAM Power : 5.755537033081055 W\n",
      "[codecarbon INFO @ 13:00:07] Energy consumed for all CPUs : 0.000000 kWh. All CPUs Power : 0.0 W\n",
      "[codecarbon INFO @ 13:00:07] 0.002158 kWh of electricity used since the begining.\n"
     ]
    },
    {
     "name": "stdout",
     "output_type": "stream",
     "text": [
      " 35/391 [=>............................] - ETA: 2:04 - loss: 1.0777 - accuracy: 0.6199"
     ]
    },
    {
     "name": "stderr",
     "output_type": "stream",
     "text": [
      "[codecarbon INFO @ 13:00:13] Energy consumed for RAM : 0.002230 kWh. RAM Power : 5.755537033081055 W\n",
      "[codecarbon INFO @ 13:00:13] Energy consumed for all CPUs : 0.000000 kWh. All CPUs Power : 0.0 W\n",
      "[codecarbon INFO @ 13:00:13] 0.002230 kWh of electricity used since the begining.\n"
     ]
    },
    {
     "name": "stdout",
     "output_type": "stream",
     "text": [
      " 60/391 [===>..........................] - ETA: 1:55 - loss: 1.0664 - accuracy: 0.6234"
     ]
    },
    {
     "name": "stderr",
     "output_type": "stream",
     "text": [
      "[codecarbon INFO @ 13:00:22] Energy consumed for RAM : 0.002182 kWh. RAM Power : 5.755537033081055 W\n",
      "[codecarbon INFO @ 13:00:22] Energy consumed for all CPUs : 0.000000 kWh. All CPUs Power : 0.0 W\n",
      "[codecarbon INFO @ 13:00:22] 0.002182 kWh of electricity used since the begining.\n"
     ]
    },
    {
     "name": "stdout",
     "output_type": "stream",
     "text": [
      " 78/391 [====>.........................] - ETA: 1:50 - loss: 1.0609 - accuracy: 0.6253"
     ]
    },
    {
     "name": "stderr",
     "output_type": "stream",
     "text": [
      "[codecarbon INFO @ 13:00:28] Energy consumed for RAM : 0.002254 kWh. RAM Power : 5.755537033081055 W\n",
      "[codecarbon INFO @ 13:00:28] Energy consumed for all CPUs : 0.000000 kWh. All CPUs Power : 0.0 W\n",
      "[codecarbon INFO @ 13:00:28] 0.002254 kWh of electricity used since the begining.\n"
     ]
    },
    {
     "name": "stdout",
     "output_type": "stream",
     "text": [
      "103/391 [======>.......................] - ETA: 1:41 - loss: 1.0579 - accuracy: 0.6262"
     ]
    },
    {
     "name": "stderr",
     "output_type": "stream",
     "text": [
      "[codecarbon INFO @ 13:00:37] Energy consumed for RAM : 0.002206 kWh. RAM Power : 5.755537033081055 W\n",
      "[codecarbon INFO @ 13:00:37] Energy consumed for all CPUs : 0.000000 kWh. All CPUs Power : 0.0 W\n",
      "[codecarbon INFO @ 13:00:37] 0.002206 kWh of electricity used since the begining.\n"
     ]
    },
    {
     "name": "stdout",
     "output_type": "stream",
     "text": [
      "121/391 [========>.....................] - ETA: 1:34 - loss: 1.0567 - accuracy: 0.6265"
     ]
    },
    {
     "name": "stderr",
     "output_type": "stream",
     "text": [
      "[codecarbon INFO @ 13:00:43] Energy consumed for RAM : 0.002278 kWh. RAM Power : 5.755537033081055 W\n",
      "[codecarbon INFO @ 13:00:43] Energy consumed for all CPUs : 0.000000 kWh. All CPUs Power : 0.0 W\n",
      "[codecarbon INFO @ 13:00:43] 0.002278 kWh of electricity used since the begining.\n"
     ]
    },
    {
     "name": "stdout",
     "output_type": "stream",
     "text": [
      "146/391 [==========>...................] - ETA: 1:25 - loss: 1.0548 - accuracy: 0.6271"
     ]
    },
    {
     "name": "stderr",
     "output_type": "stream",
     "text": [
      "[codecarbon INFO @ 13:00:52] Energy consumed for RAM : 0.002230 kWh. RAM Power : 5.755537033081055 W\n",
      "[codecarbon INFO @ 13:00:52] Energy consumed for all CPUs : 0.000000 kWh. All CPUs Power : 0.0 W\n",
      "[codecarbon INFO @ 13:00:52] 0.002230 kWh of electricity used since the begining.\n"
     ]
    },
    {
     "name": "stdout",
     "output_type": "stream",
     "text": [
      "164/391 [===========>..................] - ETA: 1:19 - loss: 1.0537 - accuracy: 0.6274"
     ]
    },
    {
     "name": "stderr",
     "output_type": "stream",
     "text": [
      "[codecarbon INFO @ 13:00:58] Energy consumed for RAM : 0.002302 kWh. RAM Power : 5.755537033081055 W\n",
      "[codecarbon INFO @ 13:00:58] Energy consumed for all CPUs : 0.000000 kWh. All CPUs Power : 0.0 W\n",
      "[codecarbon INFO @ 13:00:58] 0.002302 kWh of electricity used since the begining.\n"
     ]
    },
    {
     "name": "stdout",
     "output_type": "stream",
     "text": [
      "189/391 [=============>................] - ETA: 1:10 - loss: 1.0525 - accuracy: 0.6278"
     ]
    },
    {
     "name": "stderr",
     "output_type": "stream",
     "text": [
      "[codecarbon INFO @ 13:01:07] Energy consumed for RAM : 0.002254 kWh. RAM Power : 5.755537033081055 W\n",
      "[codecarbon INFO @ 13:01:07] Energy consumed for all CPUs : 0.000000 kWh. All CPUs Power : 0.0 W\n",
      "[codecarbon INFO @ 13:01:07] 0.002254 kWh of electricity used since the begining.\n"
     ]
    },
    {
     "name": "stdout",
     "output_type": "stream",
     "text": [
      "207/391 [==============>...............] - ETA: 1:04 - loss: 1.0519 - accuracy: 0.6279"
     ]
    },
    {
     "name": "stderr",
     "output_type": "stream",
     "text": [
      "[codecarbon INFO @ 13:01:13] Energy consumed for RAM : 0.002326 kWh. RAM Power : 5.755537033081055 W\n",
      "[codecarbon INFO @ 13:01:13] Energy consumed for all CPUs : 0.000000 kWh. All CPUs Power : 0.0 W\n",
      "[codecarbon INFO @ 13:01:13] 0.002326 kWh of electricity used since the begining.\n"
     ]
    },
    {
     "name": "stdout",
     "output_type": "stream",
     "text": [
      "232/391 [================>.............] - ETA: 55s - loss: 1.0513 - accuracy: 0.6281"
     ]
    },
    {
     "name": "stderr",
     "output_type": "stream",
     "text": [
      "[codecarbon INFO @ 13:01:22] Energy consumed for RAM : 0.002278 kWh. RAM Power : 5.755537033081055 W\n",
      "[codecarbon INFO @ 13:01:22] Energy consumed for all CPUs : 0.000000 kWh. All CPUs Power : 0.0 W\n",
      "[codecarbon INFO @ 13:01:22] 0.002278 kWh of electricity used since the begining.\n"
     ]
    },
    {
     "name": "stdout",
     "output_type": "stream",
     "text": [
      "249/391 [==================>...........] - ETA: 49s - loss: 1.0508 - accuracy: 0.6283"
     ]
    },
    {
     "name": "stderr",
     "output_type": "stream",
     "text": [
      "[codecarbon INFO @ 13:01:28] Energy consumed for RAM : 0.002350 kWh. RAM Power : 5.755537033081055 W\n",
      "[codecarbon INFO @ 13:01:28] Energy consumed for all CPUs : 0.000000 kWh. All CPUs Power : 0.0 W\n",
      "[codecarbon INFO @ 13:01:28] 0.002350 kWh of electricity used since the begining.\n"
     ]
    },
    {
     "name": "stdout",
     "output_type": "stream",
     "text": [
      "274/391 [====================>.........] - ETA: 41s - loss: 1.0502 - accuracy: 0.6285"
     ]
    },
    {
     "name": "stderr",
     "output_type": "stream",
     "text": [
      "[codecarbon INFO @ 13:01:37] Energy consumed for RAM : 0.002302 kWh. RAM Power : 5.755537033081055 W\n",
      "[codecarbon INFO @ 13:01:37] Energy consumed for all CPUs : 0.000000 kWh. All CPUs Power : 0.0 W\n",
      "[codecarbon INFO @ 13:01:37] 0.002302 kWh of electricity used since the begining.\n"
     ]
    },
    {
     "name": "stdout",
     "output_type": "stream",
     "text": [
      "292/391 [=====================>........] - ETA: 34s - loss: 1.0499 - accuracy: 0.6286"
     ]
    },
    {
     "name": "stderr",
     "output_type": "stream",
     "text": [
      "[codecarbon INFO @ 13:01:43] Energy consumed for RAM : 0.002374 kWh. RAM Power : 5.755537033081055 W\n",
      "[codecarbon INFO @ 13:01:43] Energy consumed for all CPUs : 0.000000 kWh. All CPUs Power : 0.0 W\n",
      "[codecarbon INFO @ 13:01:43] 0.002374 kWh of electricity used since the begining.\n"
     ]
    },
    {
     "name": "stdout",
     "output_type": "stream",
     "text": [
      "317/391 [=======================>......] - ETA: 25s - loss: 1.0496 - accuracy: 0.6287"
     ]
    },
    {
     "name": "stderr",
     "output_type": "stream",
     "text": [
      "[codecarbon INFO @ 13:01:52] Energy consumed for RAM : 0.002326 kWh. RAM Power : 5.755537033081055 W\n",
      "[codecarbon INFO @ 13:01:52] Energy consumed for all CPUs : 0.000000 kWh. All CPUs Power : 0.0 W\n",
      "[codecarbon INFO @ 13:01:52] 0.002326 kWh of electricity used since the begining.\n"
     ]
    },
    {
     "name": "stdout",
     "output_type": "stream",
     "text": [
      "335/391 [========================>.....] - ETA: 19s - loss: 1.0495 - accuracy: 0.6288"
     ]
    },
    {
     "name": "stderr",
     "output_type": "stream",
     "text": [
      "[codecarbon INFO @ 13:01:58] Energy consumed for RAM : 0.002398 kWh. RAM Power : 5.755537033081055 W\n",
      "[codecarbon INFO @ 13:01:58] Energy consumed for all CPUs : 0.000000 kWh. All CPUs Power : 0.0 W\n",
      "[codecarbon INFO @ 13:01:58] 0.002398 kWh of electricity used since the begining.\n"
     ]
    },
    {
     "name": "stdout",
     "output_type": "stream",
     "text": [
      "360/391 [==========================>...] - ETA: 10s - loss: 1.0493 - accuracy: 0.6288"
     ]
    },
    {
     "name": "stderr",
     "output_type": "stream",
     "text": [
      "[codecarbon INFO @ 13:02:07] Energy consumed for RAM : 0.002350 kWh. RAM Power : 5.755537033081055 W\n",
      "[codecarbon INFO @ 13:02:07] Energy consumed for all CPUs : 0.000000 kWh. All CPUs Power : 0.0 W\n",
      "[codecarbon INFO @ 13:02:07] 0.002350 kWh of electricity used since the begining.\n"
     ]
    },
    {
     "name": "stdout",
     "output_type": "stream",
     "text": [
      "378/391 [============================>.] - ETA: 4s - loss: 1.0493 - accuracy: 0.6289"
     ]
    },
    {
     "name": "stderr",
     "output_type": "stream",
     "text": [
      "[codecarbon INFO @ 13:02:13] Energy consumed for RAM : 0.002422 kWh. RAM Power : 5.755537033081055 W\n",
      "[codecarbon INFO @ 13:02:13] Energy consumed for all CPUs : 0.000000 kWh. All CPUs Power : 0.0 W\n",
      "[codecarbon INFO @ 13:02:13] 0.002422 kWh of electricity used since the begining.\n"
     ]
    },
    {
     "name": "stdout",
     "output_type": "stream",
     "text": [
      "391/391 [==============================] - ETA: 0s - loss: 1.0493 - accuracy: 0.6289"
     ]
    },
    {
     "name": "stderr",
     "output_type": "stream",
     "text": [
      "[codecarbon INFO @ 13:02:22] Energy consumed for RAM : 0.002374 kWh. RAM Power : 5.755537033081055 W\n",
      "[codecarbon INFO @ 13:02:22] Energy consumed for all CPUs : 0.000000 kWh. All CPUs Power : 0.0 W\n",
      "[codecarbon INFO @ 13:02:22] 0.002374 kWh of electricity used since the begining.\n",
      "[codecarbon INFO @ 13:02:28] Energy consumed for RAM : 0.002446 kWh. RAM Power : 5.755537033081055 W\n",
      "[codecarbon INFO @ 13:02:28] Energy consumed for all CPUs : 0.000000 kWh. All CPUs Power : 0.0 W\n",
      "[codecarbon INFO @ 13:02:28] 0.002446 kWh of electricity used since the begining.\n",
      "[codecarbon INFO @ 13:02:37] Energy consumed for RAM : 0.002398 kWh. RAM Power : 5.755537033081055 W\n",
      "[codecarbon INFO @ 13:02:37] Energy consumed for all CPUs : 0.000000 kWh. All CPUs Power : 0.0 W\n",
      "[codecarbon INFO @ 13:02:37] 0.002398 kWh of electricity used since the begining.\n"
     ]
    },
    {
     "name": "stdout",
     "output_type": "stream",
     "text": [
      "391/391 [==============================] - 159s 406ms/step - loss: 1.0493 - accuracy: 0.6289 - val_loss: 1.0953 - val_accuracy: 0.6203\n",
      "Epoch 10/10\n",
      " 10/391 [..............................] - ETA: 2:17 - loss: 1.0227 - accuracy: 0.6453"
     ]
    },
    {
     "name": "stderr",
     "output_type": "stream",
     "text": [
      "[codecarbon INFO @ 13:02:43] Energy consumed for RAM : 0.002470 kWh. RAM Power : 5.755537033081055 W\n",
      "[codecarbon INFO @ 13:02:43] Energy consumed for all CPUs : 0.000000 kWh. All CPUs Power : 0.0 W\n",
      "[codecarbon INFO @ 13:02:43] 0.002470 kWh of electricity used since the begining.\n"
     ]
    },
    {
     "name": "stdout",
     "output_type": "stream",
     "text": [
      " 34/391 [=>............................] - ETA: 2:07 - loss: 1.0249 - accuracy: 0.6406"
     ]
    },
    {
     "name": "stderr",
     "output_type": "stream",
     "text": [
      "[codecarbon INFO @ 13:02:52] Energy consumed for RAM : 0.002422 kWh. RAM Power : 5.755537033081055 W\n",
      "[codecarbon INFO @ 13:02:52] Energy consumed for all CPUs : 0.000000 kWh. All CPUs Power : 0.0 W\n",
      "[codecarbon INFO @ 13:02:52] 0.002422 kWh of electricity used since the begining.\n"
     ]
    },
    {
     "name": "stdout",
     "output_type": "stream",
     "text": [
      " 52/391 [==>...........................] - ETA: 2:00 - loss: 1.0196 - accuracy: 0.6417"
     ]
    },
    {
     "name": "stderr",
     "output_type": "stream",
     "text": [
      "[codecarbon INFO @ 13:02:58] Energy consumed for RAM : 0.002494 kWh. RAM Power : 5.755537033081055 W\n",
      "[codecarbon INFO @ 13:02:58] Energy consumed for all CPUs : 0.000000 kWh. All CPUs Power : 0.0 W\n",
      "[codecarbon INFO @ 13:02:58] 0.002494 kWh of electricity used since the begining.\n"
     ]
    },
    {
     "name": "stdout",
     "output_type": "stream",
     "text": [
      " 77/391 [====>.........................] - ETA: 1:51 - loss: 1.0159 - accuracy: 0.6417"
     ]
    },
    {
     "name": "stderr",
     "output_type": "stream",
     "text": [
      "[codecarbon INFO @ 13:03:07] Energy consumed for RAM : 0.002446 kWh. RAM Power : 5.755537033081055 W\n",
      "[codecarbon INFO @ 13:03:07] Energy consumed for all CPUs : 0.000000 kWh. All CPUs Power : 0.0 W\n",
      "[codecarbon INFO @ 13:03:07] 0.002446 kWh of electricity used since the begining.\n"
     ]
    },
    {
     "name": "stdout",
     "output_type": "stream",
     "text": [
      " 95/391 [======>.......................] - ETA: 1:44 - loss: 1.0153 - accuracy: 0.6416"
     ]
    },
    {
     "name": "stderr",
     "output_type": "stream",
     "text": [
      "[codecarbon INFO @ 13:03:13] Energy consumed for RAM : 0.002518 kWh. RAM Power : 5.755537033081055 W\n",
      "[codecarbon INFO @ 13:03:13] Energy consumed for all CPUs : 0.000000 kWh. All CPUs Power : 0.0 W\n",
      "[codecarbon INFO @ 13:03:13] 0.002518 kWh of electricity used since the begining.\n"
     ]
    },
    {
     "name": "stdout",
     "output_type": "stream",
     "text": [
      "120/391 [========>.....................] - ETA: 1:35 - loss: 1.0144 - accuracy: 0.6418"
     ]
    },
    {
     "name": "stderr",
     "output_type": "stream",
     "text": [
      "[codecarbon INFO @ 13:03:22] Energy consumed for RAM : 0.002470 kWh. RAM Power : 5.755537033081055 W\n",
      "[codecarbon INFO @ 13:03:22] Energy consumed for all CPUs : 0.000000 kWh. All CPUs Power : 0.0 W\n",
      "[codecarbon INFO @ 13:03:22] 0.002470 kWh of electricity used since the begining.\n"
     ]
    },
    {
     "name": "stdout",
     "output_type": "stream",
     "text": [
      "138/391 [=========>....................] - ETA: 1:29 - loss: 1.0142 - accuracy: 0.6419"
     ]
    },
    {
     "name": "stderr",
     "output_type": "stream",
     "text": [
      "[codecarbon INFO @ 13:03:28] Energy consumed for RAM : 0.002542 kWh. RAM Power : 5.755537033081055 W\n",
      "[codecarbon INFO @ 13:03:28] Energy consumed for all CPUs : 0.000000 kWh. All CPUs Power : 0.0 W\n",
      "[codecarbon INFO @ 13:03:28] 0.002542 kWh of electricity used since the begining.\n"
     ]
    },
    {
     "name": "stdout",
     "output_type": "stream",
     "text": [
      "162/391 [===========>..................] - ETA: 1:20 - loss: 1.0140 - accuracy: 0.6418"
     ]
    },
    {
     "name": "stderr",
     "output_type": "stream",
     "text": [
      "[codecarbon INFO @ 13:03:37] Energy consumed for RAM : 0.002494 kWh. RAM Power : 5.755537033081055 W\n",
      "[codecarbon INFO @ 13:03:37] Energy consumed for all CPUs : 0.000000 kWh. All CPUs Power : 0.0 W\n",
      "[codecarbon INFO @ 13:03:37] 0.002494 kWh of electricity used since the begining.\n"
     ]
    },
    {
     "name": "stdout",
     "output_type": "stream",
     "text": [
      "180/391 [============>.................] - ETA: 1:14 - loss: 1.0141 - accuracy: 0.6415"
     ]
    },
    {
     "name": "stderr",
     "output_type": "stream",
     "text": [
      "[codecarbon INFO @ 13:03:43] Energy consumed for RAM : 0.002566 kWh. RAM Power : 5.755537033081055 W\n",
      "[codecarbon INFO @ 13:03:43] Energy consumed for all CPUs : 0.000000 kWh. All CPUs Power : 0.0 W\n",
      "[codecarbon INFO @ 13:03:43] 0.002566 kWh of electricity used since the begining.\n"
     ]
    },
    {
     "name": "stdout",
     "output_type": "stream",
     "text": [
      "205/391 [==============>...............] - ETA: 1:05 - loss: 1.0146 - accuracy: 0.6413"
     ]
    },
    {
     "name": "stderr",
     "output_type": "stream",
     "text": [
      "[codecarbon INFO @ 13:03:52] Energy consumed for RAM : 0.002518 kWh. RAM Power : 5.755537033081055 W\n",
      "[codecarbon INFO @ 13:03:52] Energy consumed for all CPUs : 0.000000 kWh. All CPUs Power : 0.0 W\n",
      "[codecarbon INFO @ 13:03:52] 0.002518 kWh of electricity used since the begining.\n"
     ]
    },
    {
     "name": "stdout",
     "output_type": "stream",
     "text": [
      "223/391 [================>.............] - ETA: 59s - loss: 1.0149 - accuracy: 0.6411"
     ]
    },
    {
     "name": "stderr",
     "output_type": "stream",
     "text": [
      "[codecarbon INFO @ 13:03:58] Energy consumed for RAM : 0.002590 kWh. RAM Power : 5.755537033081055 W\n",
      "[codecarbon INFO @ 13:03:58] Energy consumed for all CPUs : 0.000000 kWh. All CPUs Power : 0.0 W\n",
      "[codecarbon INFO @ 13:03:58] 0.002590 kWh of electricity used since the begining.\n"
     ]
    },
    {
     "name": "stdout",
     "output_type": "stream",
     "text": [
      "248/391 [==================>...........] - ETA: 50s - loss: 1.0153 - accuracy: 0.6409"
     ]
    },
    {
     "name": "stderr",
     "output_type": "stream",
     "text": [
      "[codecarbon INFO @ 13:04:07] Energy consumed for RAM : 0.002542 kWh. RAM Power : 5.755537033081055 W\n",
      "[codecarbon INFO @ 13:04:07] Energy consumed for all CPUs : 0.000000 kWh. All CPUs Power : 0.0 W\n",
      "[codecarbon INFO @ 13:04:07] 0.002542 kWh of electricity used since the begining.\n"
     ]
    },
    {
     "name": "stdout",
     "output_type": "stream",
     "text": [
      "265/391 [===================>..........] - ETA: 44s - loss: 1.0154 - accuracy: 0.6408"
     ]
    },
    {
     "name": "stderr",
     "output_type": "stream",
     "text": [
      "[codecarbon INFO @ 13:04:14] Energy consumed for RAM : 0.002614 kWh. RAM Power : 5.755537033081055 W\n",
      "[codecarbon INFO @ 13:04:14] Energy consumed for all CPUs : 0.000000 kWh. All CPUs Power : 0.0 W\n",
      "[codecarbon INFO @ 13:04:14] 0.002614 kWh of electricity used since the begining.\n"
     ]
    },
    {
     "name": "stdout",
     "output_type": "stream",
     "text": [
      "290/391 [=====================>........] - ETA: 35s - loss: 1.0157 - accuracy: 0.6407"
     ]
    },
    {
     "name": "stderr",
     "output_type": "stream",
     "text": [
      "[codecarbon INFO @ 13:04:22] Energy consumed for RAM : 0.002566 kWh. RAM Power : 5.755537033081055 W\n",
      "[codecarbon INFO @ 13:04:22] Energy consumed for all CPUs : 0.000000 kWh. All CPUs Power : 0.0 W\n",
      "[codecarbon INFO @ 13:04:22] 0.002566 kWh of electricity used since the begining.\n"
     ]
    },
    {
     "name": "stdout",
     "output_type": "stream",
     "text": [
      "308/391 [======================>.......] - ETA: 29s - loss: 1.0161 - accuracy: 0.6406"
     ]
    },
    {
     "name": "stderr",
     "output_type": "stream",
     "text": [
      "[codecarbon INFO @ 13:04:29] Energy consumed for RAM : 0.002638 kWh. RAM Power : 5.755537033081055 W\n",
      "[codecarbon INFO @ 13:04:29] Energy consumed for all CPUs : 0.000000 kWh. All CPUs Power : 0.0 W\n",
      "[codecarbon INFO @ 13:04:29] 0.002638 kWh of electricity used since the begining.\n"
     ]
    },
    {
     "name": "stdout",
     "output_type": "stream",
     "text": [
      "332/391 [========================>.....] - ETA: 20s - loss: 1.0168 - accuracy: 0.6404"
     ]
    },
    {
     "name": "stderr",
     "output_type": "stream",
     "text": [
      "[codecarbon INFO @ 13:04:37] Energy consumed for RAM : 0.002590 kWh. RAM Power : 5.755537033081055 W\n",
      "[codecarbon INFO @ 13:04:37] Energy consumed for all CPUs : 0.000000 kWh. All CPUs Power : 0.0 W\n",
      "[codecarbon INFO @ 13:04:37] 0.002590 kWh of electricity used since the begining.\n"
     ]
    },
    {
     "name": "stdout",
     "output_type": "stream",
     "text": [
      "350/391 [=========================>....] - ETA: 14s - loss: 1.0172 - accuracy: 0.6403"
     ]
    },
    {
     "name": "stderr",
     "output_type": "stream",
     "text": [
      "[codecarbon INFO @ 13:04:44] Energy consumed for RAM : 0.002662 kWh. RAM Power : 5.755537033081055 W\n",
      "[codecarbon INFO @ 13:04:44] Energy consumed for all CPUs : 0.000000 kWh. All CPUs Power : 0.0 W\n",
      "[codecarbon INFO @ 13:04:44] 0.002662 kWh of electricity used since the begining.\n"
     ]
    },
    {
     "name": "stdout",
     "output_type": "stream",
     "text": [
      "375/391 [===========================>..] - ETA: 5s - loss: 1.0179 - accuracy: 0.6401"
     ]
    },
    {
     "name": "stderr",
     "output_type": "stream",
     "text": [
      "[codecarbon INFO @ 13:04:52] Energy consumed for RAM : 0.002614 kWh. RAM Power : 5.755537033081055 W\n",
      "[codecarbon INFO @ 13:04:52] Energy consumed for all CPUs : 0.000000 kWh. All CPUs Power : 0.0 W\n",
      "[codecarbon INFO @ 13:04:52] 0.002614 kWh of electricity used since the begining.\n"
     ]
    },
    {
     "name": "stdout",
     "output_type": "stream",
     "text": [
      "391/391 [==============================] - ETA: 0s - loss: 1.0182 - accuracy: 0.6399"
     ]
    },
    {
     "name": "stderr",
     "output_type": "stream",
     "text": [
      "[codecarbon INFO @ 13:04:59] Energy consumed for RAM : 0.002686 kWh. RAM Power : 5.755537033081055 W\n",
      "[codecarbon INFO @ 13:04:59] Energy consumed for all CPUs : 0.000000 kWh. All CPUs Power : 0.0 W\n",
      "[codecarbon INFO @ 13:04:59] 0.002686 kWh of electricity used since the begining.\n",
      "[codecarbon INFO @ 13:05:07] Energy consumed for RAM : 0.002638 kWh. RAM Power : 5.755537033081055 W\n",
      "[codecarbon INFO @ 13:05:07] Energy consumed for all CPUs : 0.000000 kWh. All CPUs Power : 0.0 W\n",
      "[codecarbon INFO @ 13:05:07] 0.002638 kWh of electricity used since the begining.\n",
      "[codecarbon INFO @ 13:05:14] Energy consumed for RAM : 0.002710 kWh. RAM Power : 5.755537033081055 W\n",
      "[codecarbon INFO @ 13:05:14] Energy consumed for all CPUs : 0.000000 kWh. All CPUs Power : 0.0 W\n",
      "[codecarbon INFO @ 13:05:14] 0.002710 kWh of electricity used since the begining.\n"
     ]
    },
    {
     "name": "stdout",
     "output_type": "stream",
     "text": [
      "391/391 [==============================] - 159s 408ms/step - loss: 1.0183 - accuracy: 0.6399 - val_loss: 1.0989 - val_accuracy: 0.6165\n"
     ]
    },
    {
     "name": "stderr",
     "output_type": "stream",
     "text": [
      "[codecarbon INFO @ 13:05:19] Energy consumed for RAM : 0.002657 kWh. RAM Power : 5.755537033081055 W\n",
      "[codecarbon INFO @ 13:05:19] Energy consumed for all CPUs : 0.000000 kWh. All CPUs Power : 0.0 W\n",
      "[codecarbon INFO @ 13:05:19] 0.002657 kWh of electricity used since the begining.\n",
      "[codecarbon INFO @ 13:05:19] Backing up old emission file\n"
     ]
    },
    {
     "data": {
      "text/plain": [
       "0.00034276918891885564"
      ]
     },
     "execution_count": 4,
     "metadata": {},
     "output_type": "execute_result"
    },
    {
     "name": "stderr",
     "output_type": "stream",
     "text": [
      "[codecarbon INFO @ 13:05:29] Energy consumed for RAM : 0.002734 kWh. RAM Power : 5.755537033081055 W\n",
      "[codecarbon INFO @ 13:05:29] Energy consumed for all CPUs : 0.000000 kWh. All CPUs Power : 0.0 W\n",
      "[codecarbon INFO @ 13:05:29] 0.002734 kWh of electricity used since the begining.\n",
      "[codecarbon INFO @ 13:05:44] Energy consumed for RAM : 0.002758 kWh. RAM Power : 5.755537033081055 W\n",
      "[codecarbon INFO @ 13:05:44] Energy consumed for all CPUs : 0.000000 kWh. All CPUs Power : 0.0 W\n",
      "[codecarbon INFO @ 13:05:44] 0.002758 kWh of electricity used since the begining.\n",
      "[codecarbon INFO @ 13:05:59] Energy consumed for RAM : 0.002782 kWh. RAM Power : 5.755537033081055 W\n",
      "[codecarbon INFO @ 13:05:59] Energy consumed for all CPUs : 0.000000 kWh. All CPUs Power : 0.0 W\n",
      "[codecarbon INFO @ 13:05:59] 0.002782 kWh of electricity used since the begining.\n",
      "[codecarbon INFO @ 13:06:14] Energy consumed for RAM : 0.002806 kWh. RAM Power : 5.755537033081055 W\n",
      "[codecarbon INFO @ 13:06:14] Energy consumed for all CPUs : 0.000000 kWh. All CPUs Power : 0.0 W\n",
      "[codecarbon INFO @ 13:06:14] 0.002806 kWh of electricity used since the begining.\n",
      "[codecarbon INFO @ 13:06:29] Energy consumed for RAM : 0.002830 kWh. RAM Power : 5.755537033081055 W\n",
      "[codecarbon INFO @ 13:06:29] Energy consumed for all CPUs : 0.000000 kWh. All CPUs Power : 0.0 W\n",
      "[codecarbon INFO @ 13:06:29] 0.002830 kWh of electricity used since the begining.\n",
      "[codecarbon INFO @ 13:06:44] Energy consumed for RAM : 0.002854 kWh. RAM Power : 5.755537033081055 W\n",
      "[codecarbon INFO @ 13:06:44] Energy consumed for all CPUs : 0.000000 kWh. All CPUs Power : 0.0 W\n",
      "[codecarbon INFO @ 13:06:44] 0.002854 kWh of electricity used since the begining.\n",
      "[codecarbon INFO @ 13:06:59] Energy consumed for RAM : 0.002878 kWh. RAM Power : 5.755537033081055 W\n",
      "[codecarbon INFO @ 13:06:59] Energy consumed for all CPUs : 0.000000 kWh. All CPUs Power : 0.0 W\n",
      "[codecarbon INFO @ 13:06:59] 0.002878 kWh of electricity used since the begining.\n",
      "[codecarbon INFO @ 13:07:14] Energy consumed for RAM : 0.002902 kWh. RAM Power : 5.755537033081055 W\n",
      "[codecarbon INFO @ 13:07:14] Energy consumed for all CPUs : 0.000000 kWh. All CPUs Power : 0.0 W\n",
      "[codecarbon INFO @ 13:07:14] 0.002902 kWh of electricity used since the begining.\n",
      "[codecarbon INFO @ 13:07:29] Energy consumed for RAM : 0.002926 kWh. RAM Power : 5.755537033081055 W\n",
      "[codecarbon INFO @ 13:07:29] Energy consumed for all CPUs : 0.000000 kWh. All CPUs Power : 0.0 W\n",
      "[codecarbon INFO @ 13:07:29] 0.002926 kWh of electricity used since the begining.\n",
      "[codecarbon INFO @ 13:07:44] Energy consumed for RAM : 0.002950 kWh. RAM Power : 5.755537033081055 W\n",
      "[codecarbon INFO @ 13:07:44] Energy consumed for all CPUs : 0.000000 kWh. All CPUs Power : 0.0 W\n",
      "[codecarbon INFO @ 13:07:44] 0.002950 kWh of electricity used since the begining.\n",
      "[codecarbon INFO @ 13:07:59] Energy consumed for RAM : 0.002974 kWh. RAM Power : 5.755537033081055 W\n",
      "[codecarbon INFO @ 13:07:59] Energy consumed for all CPUs : 0.000000 kWh. All CPUs Power : 0.0 W\n",
      "[codecarbon INFO @ 13:07:59] 0.002974 kWh of electricity used since the begining.\n",
      "[codecarbon INFO @ 13:08:14] Energy consumed for RAM : 0.002998 kWh. RAM Power : 5.755537033081055 W\n",
      "[codecarbon INFO @ 13:08:14] Energy consumed for all CPUs : 0.000000 kWh. All CPUs Power : 0.0 W\n",
      "[codecarbon INFO @ 13:08:14] 0.002998 kWh of electricity used since the begining.\n",
      "[codecarbon INFO @ 13:08:29] Energy consumed for RAM : 0.003022 kWh. RAM Power : 5.755537033081055 W\n",
      "[codecarbon INFO @ 13:08:29] Energy consumed for all CPUs : 0.000000 kWh. All CPUs Power : 0.0 W\n",
      "[codecarbon INFO @ 13:08:29] 0.003022 kWh of electricity used since the begining.\n",
      "[codecarbon INFO @ 13:08:44] Energy consumed for RAM : 0.003046 kWh. RAM Power : 5.755537033081055 W\n",
      "[codecarbon INFO @ 13:08:44] Energy consumed for all CPUs : 0.000000 kWh. All CPUs Power : 0.0 W\n",
      "[codecarbon INFO @ 13:08:44] 0.003046 kWh of electricity used since the begining.\n",
      "[codecarbon INFO @ 13:08:59] Energy consumed for RAM : 0.003070 kWh. RAM Power : 5.755537033081055 W\n",
      "[codecarbon INFO @ 13:08:59] Energy consumed for all CPUs : 0.000000 kWh. All CPUs Power : 0.0 W\n",
      "[codecarbon INFO @ 13:08:59] 0.003070 kWh of electricity used since the begining.\n",
      "[codecarbon INFO @ 13:09:14] Energy consumed for RAM : 0.003094 kWh. RAM Power : 5.755537033081055 W\n",
      "[codecarbon INFO @ 13:09:14] Energy consumed for all CPUs : 0.000000 kWh. All CPUs Power : 0.0 W\n",
      "[codecarbon INFO @ 13:09:14] 0.003094 kWh of electricity used since the begining.\n",
      "[codecarbon INFO @ 13:09:29] Energy consumed for RAM : 0.003118 kWh. RAM Power : 5.755537033081055 W\n",
      "[codecarbon INFO @ 13:09:29] Energy consumed for all CPUs : 0.000000 kWh. All CPUs Power : 0.0 W\n",
      "[codecarbon INFO @ 13:09:29] 0.003118 kWh of electricity used since the begining.\n",
      "[codecarbon INFO @ 13:09:44] Energy consumed for RAM : 0.003142 kWh. RAM Power : 5.755537033081055 W\n",
      "[codecarbon INFO @ 13:09:44] Energy consumed for all CPUs : 0.000000 kWh. All CPUs Power : 0.0 W\n",
      "[codecarbon INFO @ 13:09:44] 0.003142 kWh of electricity used since the begining.\n",
      "[codecarbon INFO @ 13:09:59] Energy consumed for RAM : 0.003166 kWh. RAM Power : 5.755537033081055 W\n",
      "[codecarbon INFO @ 13:09:59] Energy consumed for all CPUs : 0.000000 kWh. All CPUs Power : 0.0 W\n",
      "[codecarbon INFO @ 13:09:59] 0.003166 kWh of electricity used since the begining.\n",
      "[codecarbon INFO @ 13:10:14] Energy consumed for RAM : 0.003190 kWh. RAM Power : 5.755537033081055 W\n",
      "[codecarbon INFO @ 13:10:14] Energy consumed for all CPUs : 0.000000 kWh. All CPUs Power : 0.0 W\n",
      "[codecarbon INFO @ 13:10:14] 0.003190 kWh of electricity used since the begining.\n",
      "[codecarbon INFO @ 13:10:29] Energy consumed for RAM : 0.003213 kWh. RAM Power : 5.755537033081055 W\n",
      "[codecarbon INFO @ 13:10:29] Energy consumed for all CPUs : 0.000000 kWh. All CPUs Power : 0.0 W\n",
      "[codecarbon INFO @ 13:10:29] 0.003213 kWh of electricity used since the begining.\n",
      "[codecarbon INFO @ 13:10:44] Energy consumed for RAM : 0.003237 kWh. RAM Power : 5.755537033081055 W\n",
      "[codecarbon INFO @ 13:10:44] Energy consumed for all CPUs : 0.000000 kWh. All CPUs Power : 0.0 W\n",
      "[codecarbon INFO @ 13:10:44] 0.003237 kWh of electricity used since the begining.\n",
      "[codecarbon INFO @ 13:10:59] Energy consumed for RAM : 0.003261 kWh. RAM Power : 5.755537033081055 W\n",
      "[codecarbon INFO @ 13:10:59] Energy consumed for all CPUs : 0.000000 kWh. All CPUs Power : 0.0 W\n",
      "[codecarbon INFO @ 13:10:59] 0.003261 kWh of electricity used since the begining.\n",
      "[codecarbon INFO @ 13:11:14] Energy consumed for RAM : 0.003285 kWh. RAM Power : 5.755537033081055 W\n",
      "[codecarbon INFO @ 13:11:14] Energy consumed for all CPUs : 0.000000 kWh. All CPUs Power : 0.0 W\n",
      "[codecarbon INFO @ 13:11:14] 0.003285 kWh of electricity used since the begining.\n",
      "[codecarbon INFO @ 13:11:29] Energy consumed for RAM : 0.003309 kWh. RAM Power : 5.755537033081055 W\n",
      "[codecarbon INFO @ 13:11:29] Energy consumed for all CPUs : 0.000000 kWh. All CPUs Power : 0.0 W\n",
      "[codecarbon INFO @ 13:11:29] 0.003309 kWh of electricity used since the begining.\n",
      "[codecarbon INFO @ 13:11:44] Energy consumed for RAM : 0.003333 kWh. RAM Power : 5.755537033081055 W\n",
      "[codecarbon INFO @ 13:11:44] Energy consumed for all CPUs : 0.000000 kWh. All CPUs Power : 0.0 W\n",
      "[codecarbon INFO @ 13:11:44] 0.003333 kWh of electricity used since the begining.\n",
      "[codecarbon INFO @ 13:11:59] Energy consumed for RAM : 0.003357 kWh. RAM Power : 5.755537033081055 W\n",
      "[codecarbon INFO @ 13:11:59] Energy consumed for all CPUs : 0.000000 kWh. All CPUs Power : 0.0 W\n",
      "[codecarbon INFO @ 13:11:59] 0.003357 kWh of electricity used since the begining.\n",
      "[codecarbon INFO @ 13:12:14] Energy consumed for RAM : 0.003381 kWh. RAM Power : 5.755537033081055 W\n",
      "[codecarbon INFO @ 13:12:14] Energy consumed for all CPUs : 0.000000 kWh. All CPUs Power : 0.0 W\n",
      "[codecarbon INFO @ 13:12:14] 0.003381 kWh of electricity used since the begining.\n",
      "[codecarbon INFO @ 13:12:29] Energy consumed for RAM : 0.003405 kWh. RAM Power : 5.755537033081055 W\n",
      "[codecarbon INFO @ 13:12:29] Energy consumed for all CPUs : 0.000000 kWh. All CPUs Power : 0.0 W\n",
      "[codecarbon INFO @ 13:12:29] 0.003405 kWh of electricity used since the begining.\n",
      "[codecarbon INFO @ 13:12:44] Energy consumed for RAM : 0.003429 kWh. RAM Power : 5.755537033081055 W\n",
      "[codecarbon INFO @ 13:12:44] Energy consumed for all CPUs : 0.000000 kWh. All CPUs Power : 0.0 W\n",
      "[codecarbon INFO @ 13:12:44] 0.003429 kWh of electricity used since the begining.\n",
      "[codecarbon INFO @ 13:12:59] Energy consumed for RAM : 0.003453 kWh. RAM Power : 5.755537033081055 W\n",
      "[codecarbon INFO @ 13:12:59] Energy consumed for all CPUs : 0.000000 kWh. All CPUs Power : 0.0 W\n",
      "[codecarbon INFO @ 13:12:59] 0.003453 kWh of electricity used since the begining.\n",
      "[codecarbon INFO @ 13:13:14] Energy consumed for RAM : 0.003477 kWh. RAM Power : 5.755537033081055 W\n",
      "[codecarbon INFO @ 13:13:14] Energy consumed for all CPUs : 0.000000 kWh. All CPUs Power : 0.0 W\n",
      "[codecarbon INFO @ 13:13:14] 0.003477 kWh of electricity used since the begining.\n",
      "[codecarbon INFO @ 13:13:29] Energy consumed for RAM : 0.003501 kWh. RAM Power : 5.755537033081055 W\n",
      "[codecarbon INFO @ 13:13:29] Energy consumed for all CPUs : 0.000000 kWh. All CPUs Power : 0.0 W\n",
      "[codecarbon INFO @ 13:13:29] 0.003501 kWh of electricity used since the begining.\n",
      "[codecarbon INFO @ 13:13:44] Energy consumed for RAM : 0.003525 kWh. RAM Power : 5.755537033081055 W\n",
      "[codecarbon INFO @ 13:13:44] Energy consumed for all CPUs : 0.000000 kWh. All CPUs Power : 0.0 W\n",
      "[codecarbon INFO @ 13:13:44] 0.003525 kWh of electricity used since the begining.\n",
      "[codecarbon INFO @ 13:13:59] Energy consumed for RAM : 0.003549 kWh. RAM Power : 5.755537033081055 W\n",
      "[codecarbon INFO @ 13:13:59] Energy consumed for all CPUs : 0.000000 kWh. All CPUs Power : 0.0 W\n",
      "[codecarbon INFO @ 13:13:59] 0.003549 kWh of electricity used since the begining.\n",
      "[codecarbon INFO @ 13:14:14] Energy consumed for RAM : 0.003573 kWh. RAM Power : 5.755537033081055 W\n",
      "[codecarbon INFO @ 13:14:14] Energy consumed for all CPUs : 0.000000 kWh. All CPUs Power : 0.0 W\n",
      "[codecarbon INFO @ 13:14:14] 0.003573 kWh of electricity used since the begining.\n",
      "[codecarbon INFO @ 13:14:29] Energy consumed for RAM : 0.003597 kWh. RAM Power : 5.755537033081055 W\n",
      "[codecarbon INFO @ 13:14:29] Energy consumed for all CPUs : 0.000000 kWh. All CPUs Power : 0.0 W\n",
      "[codecarbon INFO @ 13:14:29] 0.003597 kWh of electricity used since the begining.\n",
      "[codecarbon INFO @ 13:14:44] Energy consumed for RAM : 0.003621 kWh. RAM Power : 5.755537033081055 W\n",
      "[codecarbon INFO @ 13:14:44] Energy consumed for all CPUs : 0.000000 kWh. All CPUs Power : 0.0 W\n",
      "[codecarbon INFO @ 13:14:44] 0.003621 kWh of electricity used since the begining.\n",
      "[codecarbon INFO @ 13:14:59] Energy consumed for RAM : 0.003645 kWh. RAM Power : 5.755537033081055 W\n",
      "[codecarbon INFO @ 13:14:59] Energy consumed for all CPUs : 0.000000 kWh. All CPUs Power : 0.0 W\n",
      "[codecarbon INFO @ 13:14:59] 0.003645 kWh of electricity used since the begining.\n",
      "[codecarbon INFO @ 13:15:14] Energy consumed for RAM : 0.003669 kWh. RAM Power : 5.755537033081055 W\n",
      "[codecarbon INFO @ 13:15:14] Energy consumed for all CPUs : 0.000000 kWh. All CPUs Power : 0.0 W\n",
      "[codecarbon INFO @ 13:15:14] 0.003669 kWh of electricity used since the begining.\n",
      "[codecarbon INFO @ 13:15:29] Energy consumed for RAM : 0.003693 kWh. RAM Power : 5.755537033081055 W\n",
      "[codecarbon INFO @ 13:15:29] Energy consumed for all CPUs : 0.000000 kWh. All CPUs Power : 0.0 W\n",
      "[codecarbon INFO @ 13:15:29] 0.003693 kWh of electricity used since the begining.\n",
      "[codecarbon INFO @ 13:15:44] Energy consumed for RAM : 0.003717 kWh. RAM Power : 5.755537033081055 W\n",
      "[codecarbon INFO @ 13:15:44] Energy consumed for all CPUs : 0.000000 kWh. All CPUs Power : 0.0 W\n",
      "[codecarbon INFO @ 13:15:44] 0.003717 kWh of electricity used since the begining.\n",
      "[codecarbon INFO @ 13:15:59] Energy consumed for RAM : 0.003741 kWh. RAM Power : 5.755537033081055 W\n",
      "[codecarbon INFO @ 13:15:59] Energy consumed for all CPUs : 0.000000 kWh. All CPUs Power : 0.0 W\n",
      "[codecarbon INFO @ 13:15:59] 0.003741 kWh of electricity used since the begining.\n",
      "[codecarbon INFO @ 13:16:14] Energy consumed for RAM : 0.003765 kWh. RAM Power : 5.755537033081055 W\n",
      "[codecarbon INFO @ 13:16:14] Energy consumed for all CPUs : 0.000000 kWh. All CPUs Power : 0.0 W\n",
      "[codecarbon INFO @ 13:16:14] 0.003765 kWh of electricity used since the begining.\n",
      "[codecarbon INFO @ 13:16:29] Energy consumed for RAM : 0.003789 kWh. RAM Power : 5.755537033081055 W\n",
      "[codecarbon INFO @ 13:16:29] Energy consumed for all CPUs : 0.000000 kWh. All CPUs Power : 0.0 W\n",
      "[codecarbon INFO @ 13:16:29] 0.003789 kWh of electricity used since the begining.\n",
      "[codecarbon INFO @ 13:16:44] Energy consumed for RAM : 0.003813 kWh. RAM Power : 5.755537033081055 W\n",
      "[codecarbon INFO @ 13:16:44] Energy consumed for all CPUs : 0.000000 kWh. All CPUs Power : 0.0 W\n",
      "[codecarbon INFO @ 13:16:44] 0.003813 kWh of electricity used since the begining.\n",
      "[codecarbon INFO @ 13:16:59] Energy consumed for RAM : 0.003837 kWh. RAM Power : 5.755537033081055 W\n",
      "[codecarbon INFO @ 13:16:59] Energy consumed for all CPUs : 0.000000 kWh. All CPUs Power : 0.0 W\n",
      "[codecarbon INFO @ 13:16:59] 0.003837 kWh of electricity used since the begining.\n",
      "[codecarbon INFO @ 13:17:14] Energy consumed for RAM : 0.003861 kWh. RAM Power : 5.755537033081055 W\n",
      "[codecarbon INFO @ 13:17:14] Energy consumed for all CPUs : 0.000000 kWh. All CPUs Power : 0.0 W\n",
      "[codecarbon INFO @ 13:17:14] 0.003861 kWh of electricity used since the begining.\n",
      "[codecarbon INFO @ 13:17:29] Energy consumed for RAM : 0.003885 kWh. RAM Power : 5.755537033081055 W\n",
      "[codecarbon INFO @ 13:17:29] Energy consumed for all CPUs : 0.000000 kWh. All CPUs Power : 0.0 W\n",
      "[codecarbon INFO @ 13:17:29] 0.003885 kWh of electricity used since the begining.\n",
      "[codecarbon INFO @ 13:17:44] Energy consumed for RAM : 0.003909 kWh. RAM Power : 5.755537033081055 W\n",
      "[codecarbon INFO @ 13:17:44] Energy consumed for all CPUs : 0.000000 kWh. All CPUs Power : 0.0 W\n",
      "[codecarbon INFO @ 13:17:44] 0.003909 kWh of electricity used since the begining.\n",
      "[codecarbon INFO @ 13:17:59] Energy consumed for RAM : 0.003933 kWh. RAM Power : 5.755537033081055 W\n",
      "[codecarbon INFO @ 13:17:59] Energy consumed for all CPUs : 0.000000 kWh. All CPUs Power : 0.0 W\n",
      "[codecarbon INFO @ 13:17:59] 0.003933 kWh of electricity used since the begining.\n",
      "[codecarbon INFO @ 13:18:14] Energy consumed for RAM : 0.003957 kWh. RAM Power : 5.755537033081055 W\n",
      "[codecarbon INFO @ 13:18:14] Energy consumed for all CPUs : 0.000000 kWh. All CPUs Power : 0.0 W\n",
      "[codecarbon INFO @ 13:18:14] 0.003957 kWh of electricity used since the begining.\n",
      "[codecarbon INFO @ 13:18:29] Energy consumed for RAM : 0.003981 kWh. RAM Power : 5.755537033081055 W\n",
      "[codecarbon INFO @ 13:18:29] Energy consumed for all CPUs : 0.000000 kWh. All CPUs Power : 0.0 W\n",
      "[codecarbon INFO @ 13:18:29] 0.003981 kWh of electricity used since the begining.\n",
      "[codecarbon INFO @ 13:18:44] Energy consumed for RAM : 0.004005 kWh. RAM Power : 5.755537033081055 W\n",
      "[codecarbon INFO @ 13:18:44] Energy consumed for all CPUs : 0.000000 kWh. All CPUs Power : 0.0 W\n",
      "[codecarbon INFO @ 13:18:44] 0.004005 kWh of electricity used since the begining.\n",
      "[codecarbon INFO @ 13:18:59] Energy consumed for RAM : 0.004029 kWh. RAM Power : 5.755537033081055 W\n",
      "[codecarbon INFO @ 13:18:59] Energy consumed for all CPUs : 0.000000 kWh. All CPUs Power : 0.0 W\n",
      "[codecarbon INFO @ 13:18:59] 0.004029 kWh of electricity used since the begining.\n",
      "[codecarbon INFO @ 13:19:14] Energy consumed for RAM : 0.004053 kWh. RAM Power : 5.755537033081055 W\n",
      "[codecarbon INFO @ 13:19:14] Energy consumed for all CPUs : 0.000000 kWh. All CPUs Power : 0.0 W\n",
      "[codecarbon INFO @ 13:19:14] 0.004053 kWh of electricity used since the begining.\n",
      "[codecarbon INFO @ 13:19:29] Energy consumed for RAM : 0.004077 kWh. RAM Power : 5.755537033081055 W\n",
      "[codecarbon INFO @ 13:19:29] Energy consumed for all CPUs : 0.000000 kWh. All CPUs Power : 0.0 W\n",
      "[codecarbon INFO @ 13:19:29] 0.004077 kWh of electricity used since the begining.\n",
      "[codecarbon INFO @ 13:19:44] Energy consumed for RAM : 0.004101 kWh. RAM Power : 5.755537033081055 W\n",
      "[codecarbon INFO @ 13:19:44] Energy consumed for all CPUs : 0.000000 kWh. All CPUs Power : 0.0 W\n",
      "[codecarbon INFO @ 13:19:44] 0.004101 kWh of electricity used since the begining.\n",
      "[codecarbon INFO @ 13:19:59] Energy consumed for RAM : 0.004125 kWh. RAM Power : 5.755537033081055 W\n",
      "[codecarbon INFO @ 13:19:59] Energy consumed for all CPUs : 0.000000 kWh. All CPUs Power : 0.0 W\n",
      "[codecarbon INFO @ 13:19:59] 0.004125 kWh of electricity used since the begining.\n",
      "[codecarbon INFO @ 13:20:14] Energy consumed for RAM : 0.004148 kWh. RAM Power : 5.755537033081055 W\n",
      "[codecarbon INFO @ 13:20:14] Energy consumed for all CPUs : 0.000000 kWh. All CPUs Power : 0.0 W\n",
      "[codecarbon INFO @ 13:20:14] 0.004148 kWh of electricity used since the begining.\n",
      "[codecarbon INFO @ 13:20:29] Energy consumed for RAM : 0.004172 kWh. RAM Power : 5.755537033081055 W\n",
      "[codecarbon INFO @ 13:20:29] Energy consumed for all CPUs : 0.000000 kWh. All CPUs Power : 0.0 W\n",
      "[codecarbon INFO @ 13:20:29] 0.004172 kWh of electricity used since the begining.\n",
      "[codecarbon INFO @ 13:20:44] Energy consumed for RAM : 0.004196 kWh. RAM Power : 5.755537033081055 W\n",
      "[codecarbon INFO @ 13:20:44] Energy consumed for all CPUs : 0.000000 kWh. All CPUs Power : 0.0 W\n",
      "[codecarbon INFO @ 13:20:44] 0.004196 kWh of electricity used since the begining.\n",
      "[codecarbon INFO @ 13:20:59] Energy consumed for RAM : 0.004220 kWh. RAM Power : 5.755537033081055 W\n",
      "[codecarbon INFO @ 13:20:59] Energy consumed for all CPUs : 0.000000 kWh. All CPUs Power : 0.0 W\n",
      "[codecarbon INFO @ 13:20:59] 0.004220 kWh of electricity used since the begining.\n",
      "[codecarbon INFO @ 13:21:14] Energy consumed for RAM : 0.004244 kWh. RAM Power : 5.755537033081055 W\n",
      "[codecarbon INFO @ 13:21:14] Energy consumed for all CPUs : 0.000000 kWh. All CPUs Power : 0.0 W\n",
      "[codecarbon INFO @ 13:21:14] 0.004244 kWh of electricity used since the begining.\n",
      "[codecarbon INFO @ 13:21:29] Energy consumed for RAM : 0.004268 kWh. RAM Power : 5.755537033081055 W\n",
      "[codecarbon INFO @ 13:21:29] Energy consumed for all CPUs : 0.000000 kWh. All CPUs Power : 0.0 W\n",
      "[codecarbon INFO @ 13:21:29] 0.004268 kWh of electricity used since the begining.\n",
      "[codecarbon INFO @ 13:21:44] Energy consumed for RAM : 0.004292 kWh. RAM Power : 5.755537033081055 W\n",
      "[codecarbon INFO @ 13:21:44] Energy consumed for all CPUs : 0.000000 kWh. All CPUs Power : 0.0 W\n",
      "[codecarbon INFO @ 13:21:44] 0.004292 kWh of electricity used since the begining.\n",
      "[codecarbon INFO @ 13:21:59] Energy consumed for RAM : 0.004316 kWh. RAM Power : 5.755537033081055 W\n",
      "[codecarbon INFO @ 13:21:59] Energy consumed for all CPUs : 0.000000 kWh. All CPUs Power : 0.0 W\n",
      "[codecarbon INFO @ 13:21:59] 0.004316 kWh of electricity used since the begining.\n",
      "[codecarbon INFO @ 13:22:14] Energy consumed for RAM : 0.004340 kWh. RAM Power : 5.755537033081055 W\n",
      "[codecarbon INFO @ 13:22:14] Energy consumed for all CPUs : 0.000000 kWh. All CPUs Power : 0.0 W\n",
      "[codecarbon INFO @ 13:22:14] 0.004340 kWh of electricity used since the begining.\n",
      "[codecarbon INFO @ 13:22:29] Energy consumed for RAM : 0.004364 kWh. RAM Power : 5.755537033081055 W\n",
      "[codecarbon INFO @ 13:22:29] Energy consumed for all CPUs : 0.000000 kWh. All CPUs Power : 0.0 W\n",
      "[codecarbon INFO @ 13:22:29] 0.004364 kWh of electricity used since the begining.\n",
      "[codecarbon INFO @ 13:22:44] Energy consumed for RAM : 0.004388 kWh. RAM Power : 5.755537033081055 W\n",
      "[codecarbon INFO @ 13:22:44] Energy consumed for all CPUs : 0.000000 kWh. All CPUs Power : 0.0 W\n",
      "[codecarbon INFO @ 13:22:44] 0.004388 kWh of electricity used since the begining.\n",
      "[codecarbon INFO @ 13:22:59] Energy consumed for RAM : 0.004412 kWh. RAM Power : 5.755537033081055 W\n",
      "[codecarbon INFO @ 13:22:59] Energy consumed for all CPUs : 0.000000 kWh. All CPUs Power : 0.0 W\n",
      "[codecarbon INFO @ 13:22:59] 0.004412 kWh of electricity used since the begining.\n",
      "[codecarbon INFO @ 13:23:14] Energy consumed for RAM : 0.004436 kWh. RAM Power : 5.755537033081055 W\n",
      "[codecarbon INFO @ 13:23:14] Energy consumed for all CPUs : 0.000000 kWh. All CPUs Power : 0.0 W\n",
      "[codecarbon INFO @ 13:23:14] 0.004436 kWh of electricity used since the begining.\n",
      "[codecarbon INFO @ 13:23:29] Energy consumed for RAM : 0.004460 kWh. RAM Power : 5.755537033081055 W\n",
      "[codecarbon INFO @ 13:23:29] Energy consumed for all CPUs : 0.000000 kWh. All CPUs Power : 0.0 W\n",
      "[codecarbon INFO @ 13:23:29] 0.004460 kWh of electricity used since the begining.\n",
      "[codecarbon INFO @ 13:23:44] Energy consumed for RAM : 0.004484 kWh. RAM Power : 5.755537033081055 W\n",
      "[codecarbon INFO @ 13:23:44] Energy consumed for all CPUs : 0.000000 kWh. All CPUs Power : 0.0 W\n",
      "[codecarbon INFO @ 13:23:44] 0.004484 kWh of electricity used since the begining.\n",
      "[codecarbon INFO @ 13:23:59] Energy consumed for RAM : 0.004508 kWh. RAM Power : 5.755537033081055 W\n",
      "[codecarbon INFO @ 13:23:59] Energy consumed for all CPUs : 0.000000 kWh. All CPUs Power : 0.0 W\n",
      "[codecarbon INFO @ 13:23:59] 0.004508 kWh of electricity used since the begining.\n",
      "[codecarbon INFO @ 13:24:14] Energy consumed for RAM : 0.004532 kWh. RAM Power : 5.755537033081055 W\n",
      "[codecarbon INFO @ 13:24:14] Energy consumed for all CPUs : 0.000000 kWh. All CPUs Power : 0.0 W\n",
      "[codecarbon INFO @ 13:24:14] 0.004532 kWh of electricity used since the begining.\n",
      "[codecarbon INFO @ 13:24:29] Energy consumed for RAM : 0.004556 kWh. RAM Power : 5.755537033081055 W\n",
      "[codecarbon INFO @ 13:24:29] Energy consumed for all CPUs : 0.000000 kWh. All CPUs Power : 0.0 W\n",
      "[codecarbon INFO @ 13:24:29] 0.004556 kWh of electricity used since the begining.\n",
      "[codecarbon INFO @ 13:24:44] Energy consumed for RAM : 0.004580 kWh. RAM Power : 5.755537033081055 W\n",
      "[codecarbon INFO @ 13:24:44] Energy consumed for all CPUs : 0.000000 kWh. All CPUs Power : 0.0 W\n",
      "[codecarbon INFO @ 13:24:44] 0.004580 kWh of electricity used since the begining.\n",
      "[codecarbon INFO @ 13:24:59] Energy consumed for RAM : 0.004604 kWh. RAM Power : 5.755537033081055 W\n",
      "[codecarbon INFO @ 13:24:59] Energy consumed for all CPUs : 0.000000 kWh. All CPUs Power : 0.0 W\n",
      "[codecarbon INFO @ 13:24:59] 0.004604 kWh of electricity used since the begining.\n",
      "[codecarbon INFO @ 13:25:14] Energy consumed for RAM : 0.004628 kWh. RAM Power : 5.755537033081055 W\n",
      "[codecarbon INFO @ 13:25:14] Energy consumed for all CPUs : 0.000000 kWh. All CPUs Power : 0.0 W\n",
      "[codecarbon INFO @ 13:25:14] 0.004628 kWh of electricity used since the begining.\n",
      "[codecarbon INFO @ 13:25:29] Energy consumed for RAM : 0.004652 kWh. RAM Power : 5.755537033081055 W\n",
      "[codecarbon INFO @ 13:25:29] Energy consumed for all CPUs : 0.000000 kWh. All CPUs Power : 0.0 W\n",
      "[codecarbon INFO @ 13:25:29] 0.004652 kWh of electricity used since the begining.\n",
      "[codecarbon INFO @ 13:25:44] Energy consumed for RAM : 0.004676 kWh. RAM Power : 5.755537033081055 W\n",
      "[codecarbon INFO @ 13:25:44] Energy consumed for all CPUs : 0.000000 kWh. All CPUs Power : 0.0 W\n",
      "[codecarbon INFO @ 13:25:44] 0.004676 kWh of electricity used since the begining.\n",
      "[codecarbon INFO @ 13:25:59] Energy consumed for RAM : 0.004700 kWh. RAM Power : 5.755537033081055 W\n",
      "[codecarbon INFO @ 13:25:59] Energy consumed for all CPUs : 0.000000 kWh. All CPUs Power : 0.0 W\n",
      "[codecarbon INFO @ 13:25:59] 0.004700 kWh of electricity used since the begining.\n",
      "[codecarbon INFO @ 13:26:14] Energy consumed for RAM : 0.004724 kWh. RAM Power : 5.755537033081055 W\n",
      "[codecarbon INFO @ 13:26:14] Energy consumed for all CPUs : 0.000000 kWh. All CPUs Power : 0.0 W\n",
      "[codecarbon INFO @ 13:26:14] 0.004724 kWh of electricity used since the begining.\n",
      "[codecarbon INFO @ 13:26:29] Energy consumed for RAM : 0.004748 kWh. RAM Power : 5.755537033081055 W\n",
      "[codecarbon INFO @ 13:26:29] Energy consumed for all CPUs : 0.000000 kWh. All CPUs Power : 0.0 W\n",
      "[codecarbon INFO @ 13:26:29] 0.004748 kWh of electricity used since the begining.\n",
      "[codecarbon INFO @ 13:26:44] Energy consumed for RAM : 0.004772 kWh. RAM Power : 5.755537033081055 W\n",
      "[codecarbon INFO @ 13:26:44] Energy consumed for all CPUs : 0.000000 kWh. All CPUs Power : 0.0 W\n",
      "[codecarbon INFO @ 13:26:44] 0.004772 kWh of electricity used since the begining.\n",
      "[codecarbon INFO @ 13:26:59] Energy consumed for RAM : 0.004796 kWh. RAM Power : 5.755537033081055 W\n",
      "[codecarbon INFO @ 13:26:59] Energy consumed for all CPUs : 0.000000 kWh. All CPUs Power : 0.0 W\n",
      "[codecarbon INFO @ 13:26:59] 0.004796 kWh of electricity used since the begining.\n",
      "[codecarbon INFO @ 13:27:14] Energy consumed for RAM : 0.004820 kWh. RAM Power : 5.755537033081055 W\n",
      "[codecarbon INFO @ 13:27:14] Energy consumed for all CPUs : 0.000000 kWh. All CPUs Power : 0.0 W\n",
      "[codecarbon INFO @ 13:27:14] 0.004820 kWh of electricity used since the begining.\n",
      "[codecarbon INFO @ 13:27:29] Energy consumed for RAM : 0.004844 kWh. RAM Power : 5.755537033081055 W\n",
      "[codecarbon INFO @ 13:27:29] Energy consumed for all CPUs : 0.000000 kWh. All CPUs Power : 0.0 W\n",
      "[codecarbon INFO @ 13:27:29] 0.004844 kWh of electricity used since the begining.\n",
      "[codecarbon INFO @ 13:27:44] Energy consumed for RAM : 0.004868 kWh. RAM Power : 5.755537033081055 W\n",
      "[codecarbon INFO @ 13:27:44] Energy consumed for all CPUs : 0.000000 kWh. All CPUs Power : 0.0 W\n",
      "[codecarbon INFO @ 13:27:44] 0.004868 kWh of electricity used since the begining.\n",
      "[codecarbon INFO @ 13:27:59] Energy consumed for RAM : 0.004892 kWh. RAM Power : 5.755537033081055 W\n",
      "[codecarbon INFO @ 13:27:59] Energy consumed for all CPUs : 0.000000 kWh. All CPUs Power : 0.0 W\n",
      "[codecarbon INFO @ 13:27:59] 0.004892 kWh of electricity used since the begining.\n",
      "[codecarbon INFO @ 13:28:14] Energy consumed for RAM : 0.004916 kWh. RAM Power : 5.755537033081055 W\n",
      "[codecarbon INFO @ 13:28:14] Energy consumed for all CPUs : 0.000000 kWh. All CPUs Power : 0.0 W\n",
      "[codecarbon INFO @ 13:28:14] 0.004916 kWh of electricity used since the begining.\n"
     ]
    }
   ],
   "source": [
    "# from codecarbon import EmissionsTracker\n",
    "tracker = EmissionsTracker()\n",
    "tracker.start()\n",
    "\n",
    "\n",
    "\n",
    "\n",
    "# Load CIFAR-10 dataset\n",
    "(x_train, y_train), (x_test, y_test) = cifar10.load_data()\n",
    "\n",
    "# Normalize pixel values\n",
    "x_train = x_train.astype('float32') / 255\n",
    "x_test = x_test.astype('float32') / 255\n",
    "\n",
    "# Load pre-trained VGG16 model\n",
    "vgg_model = VGG16(weights='imagenet', include_top=False, input_shape=(32, 32, 3))\n",
    "\n",
    "# Freeze pre-trained layers\n",
    "for layer in vgg_model.layers:\n",
    "    layer.trainable = False\n",
    "\n",
    "# Add new layers to model\n",
    "model = Sequential()\n",
    "model.add(vgg_model)\n",
    "model.add(Flatten())\n",
    "model.add(Dense(4096, activation='relu'))\n",
    "model.add(Dropout(0.5))\n",
    "model.add(Dense(4096, activation='relu'))\n",
    "model.add(Dropout(0.5))\n",
    "model.add(Dense(10, activation='softmax'))\n",
    "\n",
    "# Compile model\n",
    "opt = Adam(learning_rate=0.001)\n",
    "model.compile(loss='sparse_categorical_crossentropy', optimizer=opt, metrics=['accuracy'])\n",
    "\n",
    "# Train model\n",
    "model.fit(x_train, y_train, batch_size=128, epochs=10, validation_data=(x_test, y_test))\n",
    "\n",
    "\n",
    "tracker.stop()\n"
   ]
  },
  {
   "cell_type": "code",
   "execution_count": null,
   "metadata": {},
   "outputs": [],
   "source": []
  }
 ],
 "metadata": {
  "kernelspec": {
   "display_name": "Python 3.8.16 ('jessThesis')",
   "language": "python",
   "name": "python3"
  },
  "language_info": {
   "codemirror_mode": {
    "name": "ipython",
    "version": 3
   },
   "file_extension": ".py",
   "mimetype": "text/x-python",
   "name": "python",
   "nbconvert_exporter": "python",
   "pygments_lexer": "ipython3",
   "version": "3.8.16"
  },
  "orig_nbformat": 4,
  "vscode": {
   "interpreter": {
    "hash": "ba3e593dfa68b70bdebf21461047a975a5aa7a97a5a84511d36f2c608b121581"
   }
  }
 },
 "nbformat": 4,
 "nbformat_minor": 2
}
