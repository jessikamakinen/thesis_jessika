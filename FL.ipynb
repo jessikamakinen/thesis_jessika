{
 "cells": [
  {
   "cell_type": "code",
   "execution_count": 15,
   "metadata": {},
   "outputs": [],
   "source": [
    "import numpy as np\n",
    "import tensorflow as tf\n",
    "import tensorflow_federated as tff\n",
    "from tensorflow.keras import layers, models\n",
    "\n",
    "# Load the CIFAR-10 dataset\n",
    "(x_train, y_train), (x_test, y_test) = tf.keras.datasets.cifar10.load_data()\n",
    "\n",
    "# Preprocess the data\n",
    "def preprocess(x, y):\n",
    "    x = tf.cast(x, tf.float32) / 255.0\n",
    "    y = tf.cast(y, tf.int64)\n",
    "    return x, y\n",
    "\n",
    "x_train, y_train = preprocess(x_train, y_train)\n",
    "x_test, y_test = preprocess(x_test, y_test)\n",
    "\n",
    "# Create the Keras model\n",
    "def create_cifar10_model():\n",
    "    model = models.Sequential()\n",
    "    model.add(layers.Conv2D(32, (3, 3), activation='relu', input_shape=(32, 32, 3)))\n",
    "    model.add(layers.MaxPooling2D((2, 2)))\n",
    "    model.add(layers.Conv2D(64, (3, 3), activation='relu'))\n",
    "    model.add(layers.MaxPooling2D((2, 2)))\n",
    "    model.add(layers.Conv2D(64, (3, 3), activation='relu'))\n",
    "    model.add(layers.Flatten())\n",
    "    model.add(layers.Dense(64, activation='relu'))\n",
    "    model.add(layers.Dense(10))\n",
    "    return model\n",
    "\n",
    "# Create a TFF version of the Keras model \n",
    "def model_fn():\n",
    "    keras_model = create_cifar10_model() #(HERE U CHANGE THE MODEL)\n",
    "    return tff.learning.from_keras_model(\n",
    "        keras_model,\n",
    "        input_spec=(\n",
    "            tf.TensorSpec(shape=(None, 32, 32, 3), dtype=tf.float32),\n",
    "            tf.TensorSpec(shape=(None, 1), dtype=tf.int64),\n",
    "        ),\n",
    "        loss=tf.keras.losses.SparseCategoricalCrossentropy(from_logits=True),\n",
    "        metrics=[tf.keras.metrics.SparseCategoricalAccuracy()],\n",
    "    )\n",
    "\n",
    "# Simulate federated data by splitting the dataset into multiple clients\n",
    "def split_data_for_clients(data, client_count):\n",
    "    client_data = []\n",
    "    data_len = len(data[0])\n",
    "    batch_size = data_len // client_count\n",
    "\n",
    "    for i in range(client_count):\n",
    "        start = i * batch_size\n",
    "        end = (i + 1) * batch_size if i != client_count - 1 else data_len\n",
    "        client_data.append((data[0][start:end], data[1][start:end]))\n",
    "\n",
    "    return client_data\n",
    "\n",
    "client_count = 10\n",
    "client_data = split_data_for_clients((x_train, y_train), client_count)\n",
    "\n",
    "# Create a federated dataset from the client data\n",
    "federated_data = [\n",
    "    tff.simulation.ClientData.from_clients_and_fn(\n",
    "        client_ids=[str(i)], create_tf_dataset_for_client_fn=lambda _: tf.data.Dataset.from_tensor_slices(client_data[i]).batch(20)\n",
    "    ).create_tf_dataset_for_client(str(i))\n",
    "    for i in range(client_count)\n",
    "]\n"
   ]
  },
  {
   "cell_type": "code",
   "execution_count": 16,
   "metadata": {},
   "outputs": [
    {
     "name": "stdout",
     "output_type": "stream",
     "text": [
      "Round 1\n",
      "Metrics: OrderedDict([('broadcast', ()), ('aggregation', OrderedDict([('mean_value', ()), ('mean_weight', ())])), ('train', OrderedDict([('sparse_categorical_accuracy', 0.15082), ('loss', 2.266358)])), ('stat', OrderedDict([('num_examples', 50000)]))])\n",
      "Round 2\n",
      "Metrics: OrderedDict([('broadcast', ()), ('aggregation', OrderedDict([('mean_value', ()), ('mean_weight', ())])), ('train', OrderedDict([('sparse_categorical_accuracy', 0.2222), ('loss', 2.1104443)])), ('stat', OrderedDict([('num_examples', 50000)]))])\n",
      "Round 3\n",
      "Metrics: OrderedDict([('broadcast', ()), ('aggregation', OrderedDict([('mean_value', ()), ('mean_weight', ())])), ('train', OrderedDict([('sparse_categorical_accuracy', 0.27026), ('loss', 2.0038571)])), ('stat', OrderedDict([('num_examples', 50000)]))])\n",
      "Round 4\n",
      "Metrics: OrderedDict([('broadcast', ()), ('aggregation', OrderedDict([('mean_value', ()), ('mean_weight', ())])), ('train', OrderedDict([('sparse_categorical_accuracy', 0.3078), ('loss', 1.9133645)])), ('stat', OrderedDict([('num_examples', 50000)]))])\n",
      "Round 5\n",
      "Metrics: OrderedDict([('broadcast', ()), ('aggregation', OrderedDict([('mean_value', ()), ('mean_weight', ())])), ('train', OrderedDict([('sparse_categorical_accuracy', 0.34166), ('loss', 1.821956)])), ('stat', OrderedDict([('num_examples', 50000)]))])\n",
      "Round 6\n",
      "Metrics: OrderedDict([('broadcast', ()), ('aggregation', OrderedDict([('mean_value', ()), ('mean_weight', ())])), ('train', OrderedDict([('sparse_categorical_accuracy', 0.36672), ('loss', 1.7440858)])), ('stat', OrderedDict([('num_examples', 50000)]))])\n",
      "Round 7\n",
      "Metrics: OrderedDict([('broadcast', ()), ('aggregation', OrderedDict([('mean_value', ()), ('mean_weight', ())])), ('train', OrderedDict([('sparse_categorical_accuracy', 0.39008), ('loss', 1.6787591)])), ('stat', OrderedDict([('num_examples', 50000)]))])\n",
      "Round 8\n",
      "Metrics: OrderedDict([('broadcast', ()), ('aggregation', OrderedDict([('mean_value', ()), ('mean_weight', ())])), ('train', OrderedDict([('sparse_categorical_accuracy', 0.4107), ('loss', 1.6220592)])), ('stat', OrderedDict([('num_examples', 50000)]))])\n",
      "Round 9\n",
      "Metrics: OrderedDict([('broadcast', ()), ('aggregation', OrderedDict([('mean_value', ()), ('mean_weight', ())])), ('train', OrderedDict([('sparse_categorical_accuracy', 0.4286), ('loss', 1.5722708)])), ('stat', OrderedDict([('num_examples', 50000)]))])\n",
      "Round 10\n",
      "Metrics: OrderedDict([('broadcast', ()), ('aggregation', OrderedDict([('mean_value', ()), ('mean_weight', ())])), ('train', OrderedDict([('sparse_categorical_accuracy', 0.44594), ('loss', 1.5293115)])), ('stat', OrderedDict([('num_examples', 50000)]))])\n"
     ]
    }
   ],
   "source": [
    "import nest_asyncio\n",
    "nest_asyncio.apply()\n",
    "\n",
    "# Train the federated model\n",
    "trainer = tff.learning.build_federated_averaging_process(\n",
    "    model_fn,\n",
    "    client_optimizer_fn=lambda: tf.keras.optimizers.SGD(learning_rate=0.02),\n",
    "    server_optimizer_fn=lambda: tf.keras.optimizers.SGD(learning_rate=1.0),\n",
    ")\n",
    "\n",
    "# Initialize the state\n",
    "state = trainer.initialize()\n",
    "\n",
    "# Train the model for multiple rounds\n",
    "num_rounds = 10\n",
    "for round_num in range(1, num_rounds + 1):\n",
    "    print(f\"Round {round_num}\")\n",
    "    state, metrics = trainer.next(state, federated_data)\n",
    "    print(f\"Metrics: {metrics}\")\n",
    "\n"
   ]
  },
  {
   "cell_type": "code",
   "execution_count": 18,
   "metadata": {},
   "outputs": [
    {
     "name": "stdout",
     "output_type": "stream",
     "text": [
      "Test Metrics: OrderedDict([('sparse_categorical_accuracy', 0.4811), ('loss', 1.4383234)])\n"
     ]
    }
   ],
   "source": [
    "\n",
    "# Convert the test dataset into a list of datasets\n",
    "client_test_data = split_data_for_clients((x_test, y_test), client_count)\n",
    "\n",
    "# Create a federated dataset from the client test data\n",
    "federated_test_data = [\n",
    "    tf.data.Dataset.from_tensor_slices(client_test_data[i]).batch(len(client_test_data[i][0]))\n",
    "    for i in range(client_count)\n",
    "]\n",
    "\n",
    "# Evaluate the trained model on the federated test dataset\n",
    "tff_evaluator = tff.learning.build_federated_evaluation(model_fn)\n",
    "test_metrics = tff_evaluator(state.model, federated_test_data)\n",
    "print(f\"Test Metrics: {test_metrics}\")"
   ]
  },
  {
   "cell_type": "code",
   "execution_count": null,
   "metadata": {},
   "outputs": [],
   "source": []
  }
 ],
 "metadata": {
  "kernelspec": {
   "display_name": "Python 3.8.15 ('jessThesis')",
   "language": "python",
   "name": "python3"
  },
  "language_info": {
   "codemirror_mode": {
    "name": "ipython",
    "version": 3
   },
   "file_extension": ".py",
   "mimetype": "text/x-python",
   "name": "python",
   "nbconvert_exporter": "python",
   "pygments_lexer": "ipython3",
   "version": "3.8.16"
  },
  "orig_nbformat": 4,
  "vscode": {
   "interpreter": {
    "hash": "ba3e593dfa68b70bdebf21461047a975a5aa7a97a5a84511d36f2c608b121581"
   }
  }
 },
 "nbformat": 4,
 "nbformat_minor": 2
}
